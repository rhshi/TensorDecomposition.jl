{
 "cells": [
  {
   "cell_type": "code",
   "execution_count": null,
   "id": "5f08c9b6-6ed4-4789-a17a-1246422bc5df",
   "metadata": {},
   "outputs": [],
   "source": [
    "include(\"../src/TensorDecomposition.jl\")\n",
    "using LinearAlgebra, Combinatorics"
   ]
  },
  {
   "cell_type": "markdown",
   "id": "f521ab38-0d9e-4fb6-82c0-4fc0192234e0",
   "metadata": {},
   "source": [
    "In this notebook we consider binary tensors, specifically Example 3.20 from the paper.  We justify why we can take Assumption 1 by first preprocessing the tensor $\\phi'=x_0^4x_1(x_0+x_1)$ by a random change of basis and showing that the conclusions from the example still hold for this new tensor $\\phi$.  "
   ]
  },
  {
   "cell_type": "code",
   "execution_count": 114,
   "id": "99776075-5fe6-468f-b0ad-11e4b170dcfa",
   "metadata": {},
   "outputs": [],
   "source": [
    "n = 1 \n",
    "d = 6\n",
    "\n",
    "inds = [[1, 1, 1, 1, 1, 2], [1, 1, 1, 1, 2, 2]]\n",
    "T_ = zeros(tuple(repeat([n+1], d)...))\n",
    "for ind in inds \n",
    "    for perm in Combinatorics.permutations(ind)\n",
    "        T_[perm...] = 1\n",
    "    end\n",
    "end\n",
    "\n",
    "D, Drev = TensorDecomposition.makeDicts(n, d);\n",
    "\n",
    "N = randn(n+1, n+1)/((n+1)^(2*d))\n",
    "Nd = kron(ntuple(x->N, d)...);\n",
    "\n",
    "T = reshape(Nd*reshape(T_, (n+1)^d), tuple(repeat([n+1], d)...));"
   ]
  },
  {
   "cell_type": "markdown",
   "id": "e644e2ac-2c77-40b5-9a1f-3644225f68d5",
   "metadata": {},
   "source": [
    "For $s=3$ we show the resulting multiplication matrix is defective, so $\\operatorname{rank}(\\phi)>3$."
   ]
  },
  {
   "cell_type": "code",
   "execution_count": 115,
   "id": "8accc074-9e57-48bf-bcfc-a29a38813bdc",
   "metadata": {},
   "outputs": [
    {
     "data": {
      "text/plain": [
       "3-element Vector{Float64}:\n",
       " 475.51935318152977\n",
       "   0.015173504928637624\n",
       "   3.1253452715687343e-7"
      ]
     },
     "execution_count": 115,
     "metadata": {},
     "output_type": "execute_result"
    }
   ],
   "source": [
    "s = 3\n",
    "basis_inds = collect(1:s)\n",
    "basis, basisD = TensorDecomposition.basisFn(basis_inds, Drev);\n",
    "\n",
    "vars = TensorDecomposition.varTups(basis, n, d);\n",
    "solDict = Dict([v => randn() for v in vars])\n",
    "\n",
    "Tzero = TensorDecomposition.catMat(T, d);\n",
    "\n",
    "H0 = Array{eltype(T), 2}(undef, length(basis), length(basis))\n",
    "for (j, alpha1) in enumerate(basis)\n",
    "    for (k, alpha2) in enumerate(basis)\n",
    "        gamma = alpha1+alpha2 \n",
    "        if sum(gamma) <= d \n",
    "            H0[j, k] = Tzero[D[gamma], 1]\n",
    "        else \n",
    "            H0[j, k] = solDict[gamma]\n",
    "        end\n",
    "    end \n",
    "end\n",
    "\n",
    "basis_1 = [TensorDecomposition.multMon(b, 1) for b in basis]\n",
    "H1 = Array{eltype(T), 2}(undef, length(basis), length(basis_1))\n",
    "for (j, alpha1) in enumerate(basis)\n",
    "    for (k, alpha2) in enumerate(basis_1)\n",
    "        gamma = alpha1+alpha2 \n",
    "        if sum(gamma) <= d \n",
    "            H1[j, k] = Tzero[D[gamma], 1]\n",
    "        else \n",
    "            H1[j, k] = solDict[gamma]\n",
    "        end\n",
    "    end \n",
    "end\n",
    "\n",
    "M = H1*inv(H0);\n",
    "\n",
    "Zhat_ = eigvecs(M)[1:n+1, :]\n",
    "Zhat = Zhat_ ./ permutedims(Zhat_[1, :])\n",
    "svdvals(TensorDecomposition.khatri_rao(Zhat, d; type=eltype(Zhat)))"
   ]
  },
  {
   "cell_type": "markdown",
   "id": "4690fa0c-5d15-4baa-9102-81b6b632f37e",
   "metadata": {},
   "source": [
    "Because ranks of catalecticants are invariant under change of basis we know that $\\operatorname{rank}(\\phi)>4$.  So take $s=5$.  The number of moment variables is $3$ and we choose random values for these."
   ]
  },
  {
   "cell_type": "code",
   "execution_count": 116,
   "id": "839a2685-e5c3-4930-a266-d4426729deb9",
   "metadata": {},
   "outputs": [
    {
     "data": {
      "text/plain": [
       "5-element Vector{Float64}:\n",
       " 142.11339524202074\n",
       "  31.01208336388767\n",
       "   3.717847459174662\n",
       "   0.17578047998856242\n",
       "   0.005229051606125773"
      ]
     },
     "execution_count": 116,
     "metadata": {},
     "output_type": "execute_result"
    }
   ],
   "source": [
    "s = 5\n",
    "basis_inds = collect(1:s)\n",
    "basis, basisD = TensorDecomposition.basisFn(basis_inds, Drev);\n",
    "\n",
    "vars = TensorDecomposition.varTups(basis, n, d);\n",
    "solDict = Dict([v => randn() for v in vars])\n",
    "\n",
    "Tzero = TensorDecomposition.catMat(T, d);\n",
    "\n",
    "H0 = Array{eltype(T), 2}(undef, length(basis), length(basis))\n",
    "for (j, alpha1) in enumerate(basis)\n",
    "    for (k, alpha2) in enumerate(basis)\n",
    "        gamma = alpha1+alpha2 \n",
    "        if sum(gamma) <= d \n",
    "            H0[j, k] = Tzero[D[gamma], 1]\n",
    "        else \n",
    "            H0[j, k] = solDict[gamma]\n",
    "        end\n",
    "    end \n",
    "end\n",
    "\n",
    "basis_1 = [TensorDecomposition.multMon(b, 1) for b in basis]\n",
    "H1 = Array{eltype(T), 2}(undef, length(basis), length(basis_1))\n",
    "for (j, alpha1) in enumerate(basis)\n",
    "    for (k, alpha2) in enumerate(basis_1)\n",
    "        gamma = alpha1+alpha2 \n",
    "        if sum(gamma) <= d \n",
    "            H1[j, k] = Tzero[D[gamma], 1]\n",
    "        else \n",
    "            H1[j, k] = solDict[gamma]\n",
    "        end\n",
    "    end \n",
    "end\n",
    "\n",
    "M = H1*inv(H0);\n",
    "\n",
    "Zhat_ = eigvecs(M)[1:n+1, :]\n",
    "Zhat = Zhat_ ./ permutedims(Zhat_[1, :])\n",
    "svdvals(TensorDecomposition.khatri_rao(Zhat, d; type=eltype(Zhat)))"
   ]
  },
  {
   "cell_type": "code",
   "execution_count": 119,
   "id": "7aaa9c72-fbc9-4c8a-8f1c-ef0ab30b3646",
   "metadata": {},
   "outputs": [
    {
     "data": {
      "text/plain": [
       "2.4232693027900132e-24"
      ]
     },
     "execution_count": 119,
     "metadata": {},
     "output_type": "execute_result"
    }
   ],
   "source": [
    "lhat = TensorDecomposition.khatri_rao(Zhat, d; type=eltype(Zhat)) \\ reshape(T, (n+1)^d);\n",
    "maximum(abs.(TensorDecomposition.rankedTensor(lhat, Zhat, d)-T))"
   ]
  },
  {
   "cell_type": "markdown",
   "id": "fb5f10e5-577c-457e-b59d-cdcd78a92357",
   "metadata": {},
   "source": [
    "Thus, $\\operatorname{rank}(\\phi)=5$.  Taking $s=6$, the number of moment variables is $5$ and we take random values for these as well."
   ]
  },
  {
   "cell_type": "code",
   "execution_count": 121,
   "id": "b9ceae7e-d992-4f3f-8856-7a00a2c46c04",
   "metadata": {},
   "outputs": [
    {
     "data": {
      "text/plain": [
       "6-element Vector{Float64}:\n",
       "    6.880437568504783e27\n",
       "    4.413606073747348e23\n",
       "    1.8124612312633418e19\n",
       "    5.4890769827805394e14\n",
       "    1.6406453701492108e11\n",
       " 1113.4961199172683"
      ]
     },
     "execution_count": 121,
     "metadata": {},
     "output_type": "execute_result"
    }
   ],
   "source": [
    "s = 6\n",
    "basis_inds = collect(1:s)\n",
    "basis, basisD = TensorDecomposition.basisFn(basis_inds, Drev);\n",
    "\n",
    "vars = TensorDecomposition.varTups(basis, n, d);\n",
    "solDict = Dict([v => randn() for v in vars])\n",
    "\n",
    "Tzero = TensorDecomposition.catMat(T, d);\n",
    "\n",
    "H0 = Array{eltype(T), 2}(undef, length(basis), length(basis))\n",
    "for (j, alpha1) in enumerate(basis)\n",
    "    for (k, alpha2) in enumerate(basis)\n",
    "        gamma = alpha1+alpha2 \n",
    "        if sum(gamma) <= d \n",
    "            H0[j, k] = Tzero[D[gamma], 1]\n",
    "        else \n",
    "            H0[j, k] = solDict[gamma]\n",
    "        end\n",
    "    end \n",
    "end\n",
    "\n",
    "basis_1 = [TensorDecomposition.multMon(b, 1) for b in basis]\n",
    "H1 = Array{eltype(T), 2}(undef, length(basis), length(basis_1))\n",
    "for (j, alpha1) in enumerate(basis)\n",
    "    for (k, alpha2) in enumerate(basis_1)\n",
    "        gamma = alpha1+alpha2 \n",
    "        if sum(gamma) <= d \n",
    "            H1[j, k] = Tzero[D[gamma], 1]\n",
    "        else \n",
    "            H1[j, k] = solDict[gamma]\n",
    "        end\n",
    "    end \n",
    "end\n",
    "\n",
    "M = H1*inv(H0);\n",
    "\n",
    "Zhat_ = eigvecs(M)[1:n+1, :]\n",
    "Zhat = Zhat_ ./ permutedims(Zhat_[1, :])\n",
    "svdvals(TensorDecomposition.khatri_rao(Zhat, d; type=eltype(Zhat)))"
   ]
  },
  {
   "cell_type": "code",
   "execution_count": 122,
   "id": "f37b00ce-295f-4861-afad-3f3b622e3a33",
   "metadata": {},
   "outputs": [
    {
     "data": {
      "text/plain": [
       "1.26829239795372e-22"
      ]
     },
     "execution_count": 122,
     "metadata": {},
     "output_type": "execute_result"
    }
   ],
   "source": [
    "lhat = TensorDecomposition.khatri_rao(Zhat, d; type=eltype(Zhat)) \\ reshape(T, (n+1)^d);\n",
    "maximum(abs.(TensorDecomposition.rankedTensor(lhat, Zhat, d)-T))"
   ]
  },
  {
   "cell_type": "markdown",
   "id": "eb2360c5-1f5a-45af-bd9e-95a5c2cc899b",
   "metadata": {},
   "source": [
    "We finally remark that the random change of basis and the choice of values for the moment variables can make the problem quite ill-conditioned.  We leave this open for future work."
   ]
  }
 ],
 "metadata": {
  "kernelspec": {
   "display_name": "Julia 1.10.3",
   "language": "julia",
   "name": "julia-1.10"
  },
  "language_info": {
   "file_extension": ".jl",
   "mimetype": "application/julia",
   "name": "julia",
   "version": "1.10.3"
  }
 },
 "nbformat": 4,
 "nbformat_minor": 5
}
