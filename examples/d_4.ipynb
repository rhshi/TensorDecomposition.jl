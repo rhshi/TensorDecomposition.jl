{
 "cells": [
  {
   "cell_type": "code",
   "execution_count": 116,
   "id": "9e61186e",
   "metadata": {},
   "outputs": [
    {
     "name": "stderr",
     "output_type": "stream",
     "text": [
      "WARNING: replacing module TensorDecomposition.\n"
     ]
    }
   ],
   "source": [
    "include(\"../src/TensorDecomposition.jl\")\n",
    "using LinearAlgebra, LinearSolve"
   ]
  },
  {
   "cell_type": "markdown",
   "id": "1d305122",
   "metadata": {},
   "source": [
    "In this notebook we demonstrate the ability to numerically decompose tensors of dimension $n=10, d=4, r=51$ efficiently.  We show this when the $r$ points are drawn generically, so that there is a unique decomposition, and when three points are colinear so there is a one-dimensional space of decompositions.  We remark that because the algorithm is numerical the problem may be ill-conditioned, especially in the nonidentifiable example; robustness of the linear extension procedure merits further consideration."
   ]
  },
  {
   "cell_type": "code",
   "execution_count": 117,
   "id": "0e0c88c9",
   "metadata": {},
   "outputs": [
    {
     "data": {
      "text/plain": [
       "51"
      ]
     },
     "metadata": {},
     "output_type": "display_data"
    }
   ],
   "source": [
    "n = 10\n",
    "c = 5\n",
    "r = Int(-0.5*(c+1)*(c-2*(n+1)))\n",
    "\n",
    "D, Drev = TensorDecomposition.makeDicts(n, 4);\n",
    "basis_inds = collect(1:r)\n",
    "basis, basisD = TensorDecomposition.basisFn(basis_inds, Drev);\n",
    "\n",
    "vars = TensorDecomposition.varTups(basis, n, 4)\n",
    "eqs1, eqs2 = TensorDecomposition.linEqTups(basisD, n, 4);\n",
    "\n",
    "r"
   ]
  },
  {
   "cell_type": "markdown",
   "id": "9620896d",
   "metadata": {},
   "source": [
    "We first draw $\\mathbf{z}_1, \\dots, \\mathbf{z}_{51}\\in \\mathbb{R}^{11}$ randomly (so they are generic points) and construct the corresponding tensor $\\phi\\in S^4\\mathbb{R}^{11}$."
   ]
  },
  {
   "cell_type": "code",
   "execution_count": 118,
   "id": "8422ee7a",
   "metadata": {},
   "outputs": [
    {
     "data": {
      "text/plain": [
       "51×11 Matrix{Float64}:\n",
       " 1.0   -0.503207    1.39263    -0.478684  …   -0.732294    -0.52074\n",
       " 1.0    1.42981     0.0720141  -0.840908       0.951872     1.03249\n",
       " 1.0    3.30457    -2.07875     2.83936        1.49843     -0.545794\n",
       " 1.0   24.7765     20.624       0.468681     -14.7924      -2.90351\n",
       " 1.0   -0.543813   -0.598014    1.27894        0.838647     0.111397\n",
       " 1.0   -0.17616    -0.553618    3.1687    …    0.0321998    0.182536\n",
       " 1.0   -3.0118     -2.79032    -0.430807       1.19805     -7.20829\n",
       " 1.0    1.58427    -0.187602    1.26429        7.99731     -0.819376\n",
       " 1.0   -1.15235     1.49358     3.47699        0.715528    -1.1044\n",
       " 1.0  177.428      73.7681     54.3569       -45.3718     -39.914\n",
       " ⋮                                        ⋱                 ⋮\n",
       " 1.0    4.82139    -4.11108    -2.55242        5.52564      5.65963\n",
       " 1.0    1.24343    -1.24398    -1.37919        0.621779    -0.507335\n",
       " 1.0   -3.46342     1.09064     1.46584        0.784559     2.18222\n",
       " 1.0   -0.0293584   0.21988     0.716324  …   -0.19408     -0.124138\n",
       " 1.0    2.30282    -1.9768      0.329636      -2.65646      1.7869\n",
       " 1.0   -4.92184    -0.448039    1.90354        3.78479     -0.0554903\n",
       " 1.0    2.82898    -1.40357    -1.53221        0.546078    -0.690017\n",
       " 1.0   -0.135799    0.204064    0.548088      -0.0683849   -0.165611\n",
       " 1.0   -0.876778   -1.98423     2.14062   …    0.0141226    1.65807"
      ]
     },
     "metadata": {},
     "output_type": "display_data"
    }
   ],
   "source": [
    "Z = randn(n+1, r) / sqrt(n)\n",
    "T = TensorDecomposition.rankedTensor(ones(r), Z, 4; type=eltype(Z));\n",
    "\n",
    "Tcat = TensorDecomposition.catMat(T, 2)\n",
    "H0 = Tcat[basis_inds, basis_inds]\n",
    "\n",
    "Z_ = Z ./ permutedims(Z[1, :]);\n",
    "permutedims(Z_)"
   ]
  },
  {
   "cell_type": "code",
   "execution_count": 119,
   "id": "07ebe4c7",
   "metadata": {},
   "outputs": [
    {
     "data": {
      "text/plain": [
       "1526-element Vector{Float64}:\n",
       " 4.475324834745422\n",
       " 4.376994962013224\n",
       " 4.039420182943549\n",
       " 3.9250169088152336\n",
       " 3.8964498440904443\n",
       " 3.7735937629094187\n",
       " 3.7374508768230084\n",
       " 3.6480108996843525\n",
       " 3.5895656408923693\n",
       " 3.543569122510014\n",
       " ⋮\n",
       " 0.0009666513553210438\n",
       " 0.0009028350374100346\n",
       " 0.0006216676697402708\n",
       " 0.0004342958077539209\n",
       " 0.00036969997974952996\n",
       " 0.00025321547613656046\n",
       " 0.00019261902762483693\n",
       " 3.6065598321811375e-5\n",
       " 1.0402936187963716e-5"
      ]
     },
     "metadata": {},
     "output_type": "display_data"
    }
   ],
   "source": [
    "A, b = TensorDecomposition.linearSystem(T, H0, basis_inds, basisD, D, vars, eqs1, []; type=eltype(T));\n",
    "\n",
    "A_ = Matrix(copy(A))\n",
    "foreach(TensorDecomposition.normalize!, eachcol(A_));\n",
    "foreach(TensorDecomposition.normalize!, eachrow(A_));\n",
    "svdvals(A_)"
   ]
  },
  {
   "cell_type": "markdown",
   "id": "9bab5879",
   "metadata": {},
   "source": [
    "We can conclude from the above that the matrix $A$ is full column rank.  We solve for the extension."
   ]
  },
  {
   "cell_type": "code",
   "execution_count": 120,
   "id": "e538e23d",
   "metadata": {},
   "outputs": [],
   "source": [
    "prob = LinearProblem(A, b)\n",
    "sol = solve(prob)\n",
    "solDict = Dict([v => s for (v, s) in zip(vars, sol.u)]);\n",
    "Ms = TensorDecomposition.multMatrices(T, basis, solDict, D, H0)\n",
    "lhat, Zhat = TensorDecomposition.obtainDecomp(T, Ms);"
   ]
  },
  {
   "cell_type": "code",
   "execution_count": 121,
   "id": "b2710ed1",
   "metadata": {},
   "outputs": [
    {
     "data": {
      "text/plain": [
       "3.389688170634385e-8"
      ]
     },
     "metadata": {},
     "output_type": "display_data"
    }
   ],
   "source": [
    "maximum(abs.(T-TensorDecomposition.rankedTensor(lhat, Zhat, 4, type=eltype(Zhat))))/maximum(abs.(T))"
   ]
  },
  {
   "cell_type": "markdown",
   "id": "44228a32",
   "metadata": {},
   "source": [
    "Now we let $\\mathbf{z}_{r}=0.2\\mathbf{z}_{1}-1.5\\mathbf{z}_{2}$, and leave $\\mathbf{z}_3, \\dots, \\mathbf{z}_{r-1}$ generic; we form the corresponding tensor $\\phi$."
   ]
  },
  {
   "cell_type": "code",
   "execution_count": 122,
   "id": "6c343e50",
   "metadata": {},
   "outputs": [
    {
     "data": {
      "text/plain": [
       "1526-element Vector{Float64}:\n",
       " 4.013380963339816\n",
       " 3.6221491054614914\n",
       " 3.4877630686591217\n",
       " 3.382877383041719\n",
       " 3.3612239941319273\n",
       " 3.220339431541813\n",
       " 3.0863300254604007\n",
       " 3.0438788653198166\n",
       " 2.9879206085369794\n",
       " 2.96970902971055\n",
       " ⋮\n",
       " 0.003024574698653976\n",
       " 0.002434179594653445\n",
       " 0.001971734658422671\n",
       " 0.0011230670323986777\n",
       " 0.001000117632770667\n",
       " 0.0006706530207558581\n",
       " 0.00016721155130723972\n",
       " 3.7538727288443125e-5\n",
       " 5.773480656275296e-16"
      ]
     },
     "metadata": {},
     "output_type": "display_data"
    }
   ],
   "source": [
    "t1 = 0.2\n",
    "t2 = -1.5\n",
    "\n",
    "Z[:, r] = t1*Z[:, 1] + t2*Z[:, 2]\n",
    "T = TensorDecomposition.rankedTensor(ones(r), Z, 4; type=eltype(Z));\n",
    "\n",
    "Tcat = TensorDecomposition.catMat(T, 2)\n",
    "H0 = Tcat[basis_inds, basis_inds]\n",
    "\n",
    "A, b = TensorDecomposition.linearSystem(T, H0, basis_inds, basisD, D, vars, eqs1, []; type=eltype(T));\n",
    "\n",
    "A_ = Matrix(copy(A))\n",
    "foreach(TensorDecomposition.normalize!, eachcol(A_));\n",
    "foreach(TensorDecomposition.normalize!, eachrow(A_));\n",
    "svdvals(A_)"
   ]
  },
  {
   "cell_type": "markdown",
   "id": "832ed7fb",
   "metadata": {},
   "source": [
    "In contrast to the previous example, we see that the matrix $A$ is not full column rank -- it is instead rank $1525$.  We treat the variable $x_5^2x_{10}^3$ as a free parameter."
   ]
  },
  {
   "cell_type": "code",
   "execution_count": 123,
   "id": "73bc1458",
   "metadata": {},
   "outputs": [
    {
     "data": {
      "text/plain": [
       "1-element Vector{Any}:\n",
       " [0, 0, 0, 0, 2, 0, 0, 0, 0, 3]"
      ]
     },
     "metadata": {},
     "output_type": "display_data"
    }
   ],
   "source": [
    "XCols = TensorDecomposition.getColSubset(A);\n",
    "XNonCols = setdiff(1:length(vars), XCols)\n",
    "\n",
    "vars[XNonCols]"
   ]
  },
  {
   "cell_type": "code",
   "execution_count": 124,
   "id": "3b9f9b4d",
   "metadata": {},
   "outputs": [
    {
     "data": {
      "text/plain": [
       "1-element Vector{Int64}:\n",
       " 1"
      ]
     },
     "metadata": {},
     "output_type": "display_data"
    }
   ],
   "source": [
    "params = vars[XNonCols]\n",
    "paramVals = [1]\n",
    "\n",
    "prob = LinearProblem(A[:, XCols], b - A[:, XNonCols]*paramVals)\n",
    "solP = solve(prob)\n",
    "solDict = Dict([(v => x) for (v, x) in zip(vcat(params, setdiff(vars, params)), vcat(paramVals, solP.u))])\n",
    "\n",
    "Ms = TensorDecomposition.multMatrices(T, basis, solDict, D, H0)\n",
    "lhat1, Zhat1 = TensorDecomposition.obtainDecomp(T, Ms);\n",
    "\n",
    "paramVals"
   ]
  },
  {
   "cell_type": "code",
   "execution_count": 125,
   "id": "7113940b",
   "metadata": {},
   "outputs": [
    {
     "data": {
      "text/plain": [
       "1.4402111784937948e-10"
      ]
     },
     "metadata": {},
     "output_type": "display_data"
    }
   ],
   "source": [
    "maximum(abs.(T-TensorDecomposition.rankedTensor(lhat1, Zhat1, 4, type=eltype(Zhat1))))/maximum(abs.(T))"
   ]
  },
  {
   "cell_type": "code",
   "execution_count": 126,
   "id": "368b2dec",
   "metadata": {},
   "outputs": [
    {
     "data": {
      "text/plain": [
       "1-element Vector{Int64}:\n",
       " 0"
      ]
     },
     "metadata": {},
     "output_type": "display_data"
    }
   ],
   "source": [
    "params = vars[XNonCols]\n",
    "paramVals = [0]\n",
    "\n",
    "prob = LinearProblem(A[:, XCols], b - A[:, XNonCols]*paramVals)\n",
    "solP = solve(prob)\n",
    "solDict = Dict([(v => x) for (v, x) in zip(vcat(params, setdiff(vars, params)), vcat(paramVals, solP.u))])\n",
    "\n",
    "Ms = TensorDecomposition.multMatrices(T, basis, solDict, D, H0)\n",
    "lhat2, Zhat2 = TensorDecomposition.obtainDecomp(T, Ms);\n",
    "\n",
    "paramVals"
   ]
  },
  {
   "cell_type": "code",
   "execution_count": 127,
   "id": "3cfce162",
   "metadata": {},
   "outputs": [
    {
     "data": {
      "text/plain": [
       "3.799413413483555e-9"
      ]
     },
     "metadata": {},
     "output_type": "display_data"
    }
   ],
   "source": [
    "maximum(abs.(T-TensorDecomposition.rankedTensor(lhat2, Zhat2, 4, type=eltype(Zhat2))))/maximum(abs.(T))"
   ]
  },
  {
   "cell_type": "markdown",
   "id": "44026622",
   "metadata": {},
   "source": [
    "We exhibit two distinct decompositions via two choices of parameters: $1$ and $0$.  The decomposition $\\mathbf{z}^1_1, \\dots, \\mathbf{z}^1_r$ corresponds to $1$ and $\\mathbf{z}_1^2, \\dots, \\mathbf{z}_r^2$ corresponds to $0$.  \n",
    "\n",
    "This example is particularly interesting because there are nontrivial quadratic relations.  However, choosing parameters in the linear system still suffices -- meaning that the quadratic relations become the constant zero in this parameterization."
   ]
  },
  {
   "cell_type": "code",
   "execution_count": 128,
   "id": "83fa68ed",
   "metadata": {},
   "outputs": [],
   "source": [
    "Z1inds = []\n",
    "for i=3:r-1\n",
    "    match = findall(x -> prod(x), eachcol(abs.(Zhat1 .- Z_[:, i]) .< permutedims(1e-4*ones(r))))\n",
    "    if length(match) == 1\n",
    "        push!(Z1inds, match[1])\n",
    "    else \n",
    "        println(match)\n",
    "    end\n",
    "end\n",
    "\n",
    "Z2inds = []\n",
    "for i=3:r-1\n",
    "    match = findall(x -> prod(x), eachcol(abs.(Zhat2 .- Z_[:, i]) .< permutedims(1e-4*ones(r))))\n",
    "    if length(match) == 1\n",
    "        push!(Z2inds, match[1])\n",
    "    else \n",
    "        println(match)\n",
    "    end\n",
    "end"
   ]
  },
  {
   "cell_type": "markdown",
   "id": "e04c775f",
   "metadata": {},
   "source": [
    "The above code shows that the points $\\mathbf{z}_3, \\dots, \\mathbf{z}_{r-1}$ are fixed in any decomposition of $\\phi$.  And below we see that $\\mathbf{z}_1^1, \\mathbf{z}_2^1, \\mathbf{z}_r^1$ and $\\mathbf{z}_1^2, \\mathbf{z}_2^2, \\mathbf{z}_r^2$ lie on the line passing through $\\mathbf{z}_1, \\mathbf{z}_2$."
   ]
  },
  {
   "cell_type": "code",
   "execution_count": 129,
   "id": "58edafc8",
   "metadata": {},
   "outputs": [
    {
     "data": {
      "text/plain": [
       "1.1177991865451986e-10"
      ]
     },
     "metadata": {},
     "output_type": "display_data"
    }
   ],
   "source": [
    "maximum(abs.(Z_[:, [1, 2]]*pinv(Z_[:, [1, 2]])*Zhat1[:, setdiff(1:r, Z1inds)]-Zhat1[:, setdiff(1:r, Z1inds)]))"
   ]
  },
  {
   "cell_type": "code",
   "execution_count": 130,
   "id": "242503d0",
   "metadata": {},
   "outputs": [
    {
     "data": {
      "text/plain": [
       "4.753339388763322e-9"
      ]
     },
     "metadata": {},
     "output_type": "display_data"
    }
   ],
   "source": [
    "maximum(abs.(Z_[:, [1, 2]]*pinv(Z_[:, [1, 2]])*Zhat2[:, setdiff(1:r, Z2inds)]-Zhat2[:, setdiff(1:r, Z2inds)]))"
   ]
  }
 ],
 "metadata": {
  "kernelspec": {
   "display_name": "Julia 1.10.3",
   "language": "julia",
   "name": "julia-1.10"
  },
  "language_info": {
   "file_extension": ".jl",
   "mimetype": "application/julia",
   "name": "julia",
   "version": "1.10.3"
  }
 },
 "nbformat": 4,
 "nbformat_minor": 5
}
