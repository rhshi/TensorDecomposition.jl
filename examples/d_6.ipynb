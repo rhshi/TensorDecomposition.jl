{
 "cells": [
  {
   "cell_type": "code",
   "execution_count": 1,
   "id": "9e61186e",
   "metadata": {},
   "outputs": [],
   "source": [
    "include(\"../src/TensorDecomposition.jl\")\n",
    "using LinearAlgebra, Combinatorics, LinearSolve"
   ]
  },
  {
   "cell_type": "markdown",
   "id": "327a7d8e",
   "metadata": {},
   "source": [
    "We demonstrate that this algorithm works for larger $d$ even, such as $d=6$.  We set $n=5, r=50$, and draw $r$ generic points in $\\mathbb{R}^{6}$, constructing the corresponding tensor $\\phi\\in S^6\\mathbb{R}^{6}$.  We remark that because the algorithm is given numerically the problem may be ill-conditioned; robustness of the linear extension procedure merits further consideration."
   ]
  },
  {
   "cell_type": "code",
   "execution_count": 2,
   "id": "0e0c88c9",
   "metadata": {},
   "outputs": [
    {
     "data": {
      "text/plain": [
       "50"
      ]
     },
     "metadata": {},
     "output_type": "display_data"
    }
   ],
   "source": [
    "n = 5\n",
    "r = binomial(5+2, 2)+29\n",
    "\n",
    "D, Drev = TensorDecomposition.makeDicts(n, 6);\n",
    "basis_inds = collect(1:r)\n",
    "basis, basisD = TensorDecomposition.basisFn(basis_inds, Drev);\n",
    "\n",
    "vars = TensorDecomposition.varTups(basis, n, 6)\n",
    "eqs1, eqs2 = TensorDecomposition.linEqTups(basisD, n, 6);\n",
    "\n",
    "r"
   ]
  },
  {
   "cell_type": "code",
   "execution_count": 12,
   "id": "8422ee7a",
   "metadata": {},
   "outputs": [
    {
     "data": {
      "text/plain": [
       "50×6 Matrix{Float64}:\n",
       " 1.0    0.46318     0.591717   -0.447893     0.539957   -0.294486\n",
       " 1.0    0.0589931   0.608538    1.193       -0.0546005   1.55941\n",
       " 1.0   -5.82562     8.80492    11.4615      19.5018     -7.30224\n",
       " 1.0   -1.66452    11.9812      6.77257     -4.76822     6.18836\n",
       " 1.0    0.927926   -0.808093   -0.220273     0.729999   -0.113598\n",
       " 1.0   -0.29308     0.929967    1.78933      0.810826   -0.0295807\n",
       " 1.0   -1.45077     1.8904     -0.0290537   -0.379407    1.10767\n",
       " 1.0   -0.266586    0.563335   -0.138551    -0.0976242   0.19679\n",
       " 1.0    2.79142     2.73129    -0.798674    -0.901155    0.502134\n",
       " 1.0  -15.6483     -3.90698   -12.7808      -3.29807    14.4643\n",
       " ⋮                                                       ⋮\n",
       " 1.0    1.00211    -0.425453    0.130478    -0.0850527   0.449713\n",
       " 1.0   -2.5132     -0.886726    1.58008      1.52786     0.380648\n",
       " 1.0    0.790474    1.61291    -1.23877      0.933341    0.907007\n",
       " 1.0    0.769544    0.904588   -2.734        4.50751     3.5501\n",
       " 1.0    9.84283    -7.78775    -7.761      -14.6847      6.79321\n",
       " 1.0    7.21486     0.447898    4.11953      0.705575    2.65465\n",
       " 1.0   -1.34304    -4.15584    -2.64674     -1.06028     9.42084\n",
       " 1.0    0.419857    2.0483     -0.660797    -1.07051     0.333521\n",
       " 1.0    0.345447   -1.03403     0.649167    -2.62576     0.331486"
      ]
     },
     "metadata": {},
     "output_type": "display_data"
    }
   ],
   "source": [
    "Z = randn(n+1, r)\n",
    "T = TensorDecomposition.rankedTensor(ones(r), Z, 6; type=eltype(Z));\n",
    "\n",
    "Tcat = TensorDecomposition.catMat(T, 3)\n",
    "H0 = Tcat[basis_inds, basis_inds]\n",
    "\n",
    "Z_ = Z ./ permutedims(Z[1, :]);\n",
    "permutedims(Z_)"
   ]
  },
  {
   "cell_type": "code",
   "execution_count": 13,
   "id": "16929f6d",
   "metadata": {},
   "outputs": [
    {
     "data": {
      "text/plain": [
       "291-element Vector{Float64}:\n",
       " 3.1543039295740205\n",
       " 3.0071672368781304\n",
       " 2.946748253866847\n",
       " 2.843086642258858\n",
       " 2.7276457361014947\n",
       " 2.621879152811944\n",
       " 2.60857364203648\n",
       " 2.575763295764647\n",
       " 2.517972199380121\n",
       " 2.4846598616436975\n",
       " ⋮\n",
       " 0.002393343659184399\n",
       " 0.0020540129598886963\n",
       " 0.0017474498818730623\n",
       " 0.0008425306910932216\n",
       " 0.0007227521749637421\n",
       " 0.0005797299662867797\n",
       " 0.0003517792780250445\n",
       " 0.0002498032758918743\n",
       " 0.00013085662744829088"
      ]
     },
     "metadata": {},
     "output_type": "display_data"
    }
   ],
   "source": [
    "A, b = TensorDecomposition.linearSystem(T, H0, basis_inds, basisD, D, vars, eqs1, eqs2; type=eltype(T));\n",
    "\n",
    "A_ = Matrix(copy(A))\n",
    "foreach(TensorDecomposition.normalize!, eachcol(A_));\n",
    "foreach(TensorDecomposition.normalize!, eachrow(A_));\n",
    "svdvals(A_)"
   ]
  },
  {
   "cell_type": "code",
   "execution_count": 14,
   "id": "d5c8c8d4",
   "metadata": {},
   "outputs": [
    {
     "data": {
      "text/plain": [
       "(341, 291)"
      ]
     },
     "metadata": {},
     "output_type": "display_data"
    }
   ],
   "source": [
    "size(A)"
   ]
  },
  {
   "cell_type": "markdown",
   "id": "8821a4b1",
   "metadata": {},
   "source": [
    "The linear system matrix $\\mathbf{A}$ is $341\\times 291$, and we can determine that it is full column rank."
   ]
  },
  {
   "cell_type": "code",
   "execution_count": 15,
   "id": "e538e23d",
   "metadata": {},
   "outputs": [],
   "source": [
    "prob = LinearProblem(A, b)\n",
    "sol = solve(prob)\n",
    "solDict = Dict([v => s for (v, s) in zip(vars, sol.u)]);\n",
    "Ms = TensorDecomposition.multMatrices(T, basis, solDict, D, H0)\n",
    "lhat, Zhat = TensorDecomposition.obtainDecomp(T, Ms);"
   ]
  },
  {
   "cell_type": "code",
   "execution_count": 16,
   "id": "b2710ed1",
   "metadata": {},
   "outputs": [
    {
     "data": {
      "text/plain": [
       "2.2525866946947747e-9"
      ]
     },
     "metadata": {},
     "output_type": "display_data"
    }
   ],
   "source": [
    "maximum(abs.(T-TensorDecomposition.rankedTensor(lhat, Zhat, 6, type=eltype(Zhat))))/maximum(abs.(T))"
   ]
  },
  {
   "cell_type": "markdown",
   "id": "9c51e2d6",
   "metadata": {},
   "source": [
    "Now we let $\\mathbf{z}_{50}=\\mathbf{z}_1+\\mathbf{z}_2$, and leave $\\mathbf{z}_3, \\dots, \\mathbf{z}_{r-1}$ generic; we form the corresponding tensor $\\phi$."
   ]
  },
  {
   "cell_type": "code",
   "execution_count": 17,
   "id": "3eb99efc",
   "metadata": {},
   "outputs": [
    {
     "data": {
      "text/plain": [
       "291-element Vector{Float64}:\n",
       " 3.1866180607286667\n",
       " 3.0327799541369638\n",
       " 2.707034428378973\n",
       " 2.6413707656429986\n",
       " 2.5240295838346984\n",
       " 2.50062456980039\n",
       " 2.444476027674599\n",
       " 2.3988007424748394\n",
       " 2.3741922671801046\n",
       " 2.2902084474882445\n",
       " ⋮\n",
       " 0.0005199631223893145\n",
       " 0.00036257248850748937\n",
       " 0.00031901954000738606\n",
       " 0.0001688729468158448\n",
       " 0.00012718504864881936\n",
       " 6.204119256542351e-5\n",
       " 4.053485026056819e-5\n",
       " 1.9642957867055648e-5\n",
       " 8.100225372534683e-6"
      ]
     },
     "metadata": {},
     "output_type": "display_data"
    }
   ],
   "source": [
    "Z[:, r] = Z[:, 1] + Z[:, 2]\n",
    "T = TensorDecomposition.rankedTensor(ones(r), Z, 6; type=eltype(Z));\n",
    "\n",
    "Tcat = TensorDecomposition.catMat(T, 3)\n",
    "H0 = Tcat[basis_inds, basis_inds]\n",
    "\n",
    "A, b = TensorDecomposition.linearSystem(T, H0, basis_inds, basisD, D, vars, eqs1, []; type=eltype(T));\n",
    "\n",
    "A_ = Matrix(copy(A))\n",
    "foreach(TensorDecomposition.normalize!, eachcol(A_));\n",
    "foreach(TensorDecomposition.normalize!, eachrow(A_));\n",
    "svdvals(A_)"
   ]
  },
  {
   "cell_type": "markdown",
   "id": "906f8f2a",
   "metadata": {},
   "source": [
    "The matrix $\\mathbf{A}$ is still full column rank; in contrast to $d=4$, order-$6$ tensors with a decomposition with three colinear points are identifiable."
   ]
  },
  {
   "cell_type": "code",
   "execution_count": 18,
   "id": "dd35d456",
   "metadata": {},
   "outputs": [],
   "source": [
    "prob = LinearProblem(A, b)\n",
    "sol = solve(prob)\n",
    "solDict = Dict([v => s for (v, s) in zip(vars, sol.u)]);\n",
    "Ms = TensorDecomposition.multMatrices(T, basis, solDict, D, H0)\n",
    "lhat, Zhat = TensorDecomposition.obtainDecomp(T, Ms);"
   ]
  },
  {
   "cell_type": "code",
   "execution_count": 19,
   "id": "bca93a1e",
   "metadata": {},
   "outputs": [
    {
     "data": {
      "text/plain": [
       "1.602835575937099e-9"
      ]
     },
     "metadata": {},
     "output_type": "display_data"
    }
   ],
   "source": [
    "maximum(abs.(T-TensorDecomposition.rankedTensor(lhat, Zhat, 6, type=eltype(Zhat))))/maximum(abs.(T))"
   ]
  },
  {
   "cell_type": "markdown",
   "id": "d93b3005",
   "metadata": {},
   "source": [
    "Now we consider the tensor $\\phi=x_0^3x_1x_2x_3+x_0x_1^3x_2x_3+x_0x_1x_2^3x_3+x_0x_1x_2x_3^3$."
   ]
  },
  {
   "cell_type": "code",
   "execution_count": 25,
   "id": "2c24c36d",
   "metadata": {},
   "outputs": [],
   "source": [
    "n = 3\n",
    "\n",
    "inds = [\n",
    "    [1, 1, 1, 2, 3, 4],\n",
    "    [1, 2, 2, 2, 3, 4],\n",
    "    [1, 2, 3, 3, 3, 4],\n",
    "    [1, 2, 3, 4, 4, 4]\n",
    "]\n",
    "T = zeros(4, 4, 4, 4, 4, 4)\n",
    "for ind in inds\n",
    "    for perm in Combinatorics.permutations(ind)\n",
    "        T[perm...] = 1\n",
    "    end\n",
    "end\n",
    "\n",
    "D, Drev = TensorDecomposition.makeDicts(n, 6);"
   ]
  },
  {
   "cell_type": "code",
   "execution_count": 26,
   "id": "dadb03b2",
   "metadata": {},
   "outputs": [
    {
     "name": "stdout",
     "output_type": "stream",
     "text": [
      "0: 1\n",
      "1: 4\n",
      "2: 7\n",
      "3: 8\n",
      "4: 7\n",
      "5: 4\n",
      "6: 1\n"
     ]
    }
   ],
   "source": [
    "for k=0:6\n",
    "    rk = rank(TensorDecomposition.catMat(T, k))\n",
    "    println(\"$k: $rk\")\n",
    "end"
   ]
  },
  {
   "cell_type": "markdown",
   "id": "ff827680",
   "metadata": {},
   "source": [
    "As we see, the ranks of the catalecticants are not maximal at each $k$.  In particular, the ranks of the second/fifth catalecticants are expected to be $\\min\\{r, \\binom{n+2}{n}\\}$, where $r$ is the rank of the tensor.  We find a set $B$ algorithmically."
   ]
  },
  {
   "cell_type": "code",
   "execution_count": 27,
   "id": "5ea746da",
   "metadata": {},
   "outputs": [],
   "source": [
    "basis_inds = TensorDecomposition.findB(T);\n",
    "basis, basisD = TensorDecomposition.basisFn(basis_inds, Drev);"
   ]
  },
  {
   "cell_type": "code",
   "execution_count": 28,
   "id": "58a6117d",
   "metadata": {},
   "outputs": [
    {
     "data": {
      "text/plain": [
       "8-element Vector{Vector{Int64}}:\n",
       " [0, 0, 0]\n",
       " [1, 0, 0]\n",
       " [0, 1, 0]\n",
       " [0, 0, 1]\n",
       " [1, 1, 0]\n",
       " [1, 0, 1]\n",
       " [0, 1, 1]\n",
       " [1, 1, 1]"
      ]
     },
     "metadata": {},
     "output_type": "display_data"
    }
   ],
   "source": [
    "basis"
   ]
  },
  {
   "cell_type": "code",
   "execution_count": 29,
   "id": "e76fc2ba",
   "metadata": {},
   "outputs": [],
   "source": [
    "vars = TensorDecomposition.varTups(basis, n, 6)\n",
    "eqs1, eqs2 = TensorDecomposition.linEqTups(basisD, n, 6);"
   ]
  },
  {
   "cell_type": "code",
   "execution_count": null,
   "id": "d2c8e9ac",
   "metadata": {},
   "outputs": [
    {
     "data": {
      "text/plain": [
       "3-element Vector{Float64}:\n",
       " 1.4142135623730951\n",
       " 1.4142135623730951\n",
       " 1.414213562373095"
      ]
     },
     "metadata": {},
     "output_type": "display_data"
    }
   ],
   "source": [
    "Tcat = TensorDecomposition.catMat(T, 3)\n",
    "H0 = Tcat[basis_inds, basis_inds]\n",
    "\n",
    "A, b = TensorDecomposition.linearSystem(T, H0, basis_inds, basisD, D, vars, eqs1, eqs2; type=eltype(T));\n",
    "\n",
    "svdvals(Matrix(copy(A)))"
   ]
  },
  {
   "cell_type": "code",
   "execution_count": 31,
   "id": "635eaef2",
   "metadata": {},
   "outputs": [
    {
     "data": {
      "text/plain": [
       "(9, 3)"
      ]
     },
     "metadata": {},
     "output_type": "display_data"
    }
   ],
   "source": [
    "size(A)"
   ]
  },
  {
   "cell_type": "markdown",
   "id": "7c9825eb",
   "metadata": {},
   "source": [
    "There are more linearly independent linear equations than moment variables."
   ]
  },
  {
   "cell_type": "code",
   "execution_count": 32,
   "id": "27b96506",
   "metadata": {},
   "outputs": [],
   "source": [
    "prob = LinearProblem(A, b)\n",
    "sol = solve(prob)\n",
    "solDict = Dict([v => s for (v, s) in zip(vars, sol.u)]);\n",
    "Ms = TensorDecomposition.multMatrices(T, basis, solDict, D, H0)\n",
    "lhat, Zhat = TensorDecomposition.obtainDecomp(T, Ms);"
   ]
  },
  {
   "cell_type": "code",
   "execution_count": 33,
   "id": "fa3cf593",
   "metadata": {},
   "outputs": [
    {
     "data": {
      "text/plain": [
       "8×4 Matrix{Float64}:\n",
       " 1.0   1.0   1.0   1.0\n",
       " 1.0  -1.0   1.0   1.0\n",
       " 1.0   1.0  -1.0   1.0\n",
       " 1.0  -1.0  -1.0   1.0\n",
       " 1.0   1.0   1.0  -1.0\n",
       " 1.0  -1.0   1.0  -1.0\n",
       " 1.0   1.0  -1.0  -1.0\n",
       " 1.0  -1.0  -1.0  -1.0"
      ]
     },
     "metadata": {},
     "output_type": "display_data"
    }
   ],
   "source": [
    "permutedims(Zhat)"
   ]
  },
  {
   "cell_type": "code",
   "execution_count": 34,
   "id": "eee26057",
   "metadata": {},
   "outputs": [
    {
     "data": {
      "text/plain": [
       "9.020562075079397e-15"
      ]
     },
     "metadata": {},
     "output_type": "display_data"
    }
   ],
   "source": [
    "maximum(abs.(T-TensorDecomposition.rankedTensor(lhat, Zhat, 6, type=eltype(Zhat))))/maximum(abs.(T))"
   ]
  },
  {
   "cell_type": "markdown",
   "id": "ed144e00",
   "metadata": {},
   "source": [
    "This example is chosen to be a specific degree-$6$ extension of the monomial $x_0x_1x_2x_3$.  The monomial does not have a unique decomposition, but the choice we have made in the extension results in a unique rank-$8$ decomposition -- indeed, it is the \"canonical\" choice, where $\\mathbf{z}_{i, j}$ range over the second roots of unity $\\pm 1$. "
   ]
  }
 ],
 "metadata": {
  "kernelspec": {
   "display_name": "Julia 1.10.3",
   "language": "julia",
   "name": "julia-1.10"
  },
  "language_info": {
   "file_extension": ".jl",
   "mimetype": "application/julia",
   "name": "julia",
   "version": "1.10.3"
  }
 },
 "nbformat": 4,
 "nbformat_minor": 5
}
