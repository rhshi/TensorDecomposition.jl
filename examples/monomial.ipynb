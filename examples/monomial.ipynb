{
 "cells": [
  {
   "cell_type": "code",
   "execution_count": 1,
   "id": "8e6cf315",
   "metadata": {},
   "outputs": [],
   "source": [
    "include(\"../src/TensorDecomposition.jl\")\n",
    "using LinearAlgebra"
   ]
  },
  {
   "cell_type": "code",
   "execution_count": null,
   "id": "482d5456",
   "metadata": {},
   "outputs": [],
   "source": [
    "degrees = [1, 2, 2, 3]\n",
    "\n",
    "n = length(degrees)-1\n",
    "d = sum(degrees)\n",
    "\n",
    "D, _ = TensorDecomposition.makeDicts(n, d);\n",
    "basis, _ = TensorDecomposition.monomialBasisFn(degrees, D);\n",
    "vars, params = TensorDecomposition.monomialVarFn(basis, n, d, degrees);"
   ]
  },
  {
   "cell_type": "markdown",
   "id": "1961fb6e",
   "metadata": {},
   "source": [
    "We consider the tensor $\\phi=x_0x_1^2x_2^2x_3^3$.\n",
    "\n",
    "The parameter set $Y_P$ is size $18$ -- therefore, the space of decompositions is $18$-dimensional."
   ]
  },
  {
   "cell_type": "code",
   "execution_count": 3,
   "id": "0f0933c5",
   "metadata": {},
   "outputs": [
    {
     "data": {
      "text/plain": [
       "Set{Any} with 18 elements:\n",
       "  [1, 1, 7]\n",
       "  [2, 2, 5]\n",
       "  [4, 2, 3]\n",
       "  [2, 1, 6]\n",
       "  [5, 2, 3]\n",
       "  [1, 2, 7]\n",
       "  [2, 0, 7]\n",
       "  [2, 5, 2]\n",
       "  [2, 2, 6]\n",
       "  [2, 1, 7]\n",
       "  [0, 2, 7]\n",
       "  [5, 2, 2]\n",
       "  [2, 2, 7]\n",
       "  [1, 5, 3]\n",
       "  [2, 4, 3]\n",
       "  [2, 5, 3]\n",
       "  [5, 1, 3]\n",
       "  [1, 2, 6]"
      ]
     },
     "metadata": {},
     "output_type": "display_data"
    }
   ],
   "source": [
    "params"
   ]
  },
  {
   "cell_type": "markdown",
   "id": "0bac4161",
   "metadata": {},
   "source": [
    "We first choose random values for $Y_P$."
   ]
  },
  {
   "cell_type": "code",
   "execution_count": 4,
   "id": "105d5ed7",
   "metadata": {},
   "outputs": [],
   "source": [
    "paramVals = randn(length(params));\n",
    "lhat, Zhat, solDict = TensorDecomposition.decomposeMonomial(degrees, basis, D, vars, params, paramVals);"
   ]
  },
  {
   "cell_type": "code",
   "execution_count": 5,
   "id": "071bc7c2",
   "metadata": {},
   "outputs": [
    {
     "data": {
      "text/plain": [
       "36×4 Matrix{ComplexF64}:\n",
       " 1.0+0.0im          -0.169524+1.12502im   …   -0.704866-1.685im\n",
       " 1.0-0.0im          -0.169524-1.12502im       -0.704866+1.685im\n",
       " 1.0-0.0im           -1.01489-0.663283im      -0.584864-1.46457im\n",
       " 1.0+0.0im           -1.01489+0.663283im      -0.584864+1.46457im\n",
       " 1.0+0.0im            1.22405-0.464796im      -0.773273-1.65737im\n",
       " 1.0+0.0im            1.22405+0.464796im  …   -0.773273+1.65737im\n",
       " 1.0-0.0im          -0.703424-0.778973im     0.00242583-0.320872im\n",
       " 1.0+0.0im          -0.703424+0.778973im     0.00242583+0.320872im\n",
       " 1.0+0.0im            1.25284+0.0im            0.130471+0.0im\n",
       " 1.0+0.0im           -1.55278+0.124488im       -1.10909+0.0187111im\n",
       "    ⋮                                     ⋱  \n",
       " 1.0+0.0im           -1.44903+0.235103im       0.154256+1.52015im\n",
       " 1.0-0.0im           0.664182-0.0im            0.995309-0.0im\n",
       " 1.0-1.62923e-17im    0.77538-0.887761im       0.372079-1.07142im\n",
       " 1.0+1.62923e-17im    0.77538+0.887761im  …    0.372079+1.07142im\n",
       " 1.0+0.0im           0.826681-0.585228im       0.826964-0.370125im\n",
       " 1.0-0.0im           0.826681+0.585228im       0.826964+0.370125im\n",
       " 1.0-0.0im           -1.22316-0.0im            0.854204-0.0im\n",
       " 1.0-0.0im           0.566323+1.04018im        0.493085-0.943225im\n",
       " 1.0+0.0im           0.566323-1.04018im   …    0.493085+0.943225im"
      ]
     },
     "metadata": {},
     "output_type": "display_data"
    }
   ],
   "source": [
    "permutedims(Zhat)"
   ]
  },
  {
   "cell_type": "code",
   "execution_count": 6,
   "id": "d30d5d5b",
   "metadata": {},
   "outputs": [
    {
     "data": {
      "text/plain": [
       "2.9404699114145616e-14"
      ]
     },
     "metadata": {},
     "output_type": "display_data"
    }
   ],
   "source": [
    "T = TensorDecomposition.monomialTensor(degrees)\n",
    "maximum(abs.(T-TensorDecomposition.rankedTensor(lhat, Zhat, d)))"
   ]
  },
  {
   "cell_type": "markdown",
   "id": "814547d0",
   "metadata": {},
   "source": [
    "Now we consider a \"canonical\" decomposition of $\\phi$.  This corresponds to setting the variables $x_1^5x_2^2x_3^3, x_1^2x_2^5x_3^3, x_1^2x_2^2x_3^7$ equal to $1$ and the rest of the variables equal to $0$."
   ]
  },
  {
   "cell_type": "code",
   "execution_count": 7,
   "id": "c4c9f942",
   "metadata": {},
   "outputs": [
    {
     "data": {
      "text/plain": [
       "3-element Vector{Vector{Int64}}:\n",
       " [5, 2, 3]\n",
       " [2, 5, 3]\n",
       " [2, 2, 7]"
      ]
     },
     "metadata": {},
     "output_type": "display_data"
    }
   ],
   "source": [
    "baseParam = [degrees[2:end] + (degrees[2:end][i]+1)*TensorDecomposition.e(i, n) for i=1:n]"
   ]
  },
  {
   "cell_type": "code",
   "execution_count": 8,
   "id": "0325dba6",
   "metadata": {},
   "outputs": [],
   "source": [
    "paramVals = vcat(ones(length(baseParam)), zeros(length(params)-length(baseParam)))\n",
    "lhat, Zhat, solDict = TensorDecomposition.decomposeMonomial(degrees, basis, D, vars, vcat(baseParam, collect(setdiff(params, baseParam))), paramVals);"
   ]
  },
  {
   "cell_type": "code",
   "execution_count": 9,
   "id": "e5c3efc6",
   "metadata": {},
   "outputs": [
    {
     "data": {
      "text/plain": [
       "36×4 Matrix{ComplexF64}:\n",
       " 1.0+0.0im          -0.5-0.866025im     …          -1.0+2.88444e-15im\n",
       " 1.0-0.0im          -0.5+0.866025im                -1.0-2.88444e-15im\n",
       " 1.0+7.21111e-17im  -0.5-0.866025im        -5.76889e-16-1.0im\n",
       " 1.0-7.21111e-17im  -0.5+0.866025im        -5.76889e-16+1.0im\n",
       " 1.0+0.0im          -0.5-0.866025im        -7.99964e-15+1.0im\n",
       " 1.0+0.0im          -0.5+0.866025im     …  -7.99964e-15-1.0im\n",
       " 1.0+0.0im          -0.5-0.866025im                 1.0+9.95133e-15im\n",
       " 1.0-0.0im          -0.5+0.866025im                 1.0-9.95133e-15im\n",
       " 1.0+0.0im          -0.5-0.866025im                -1.0-9.07927e-15im\n",
       " 1.0+0.0im          -0.5+0.866025im                -1.0+9.07927e-15im\n",
       "    ⋮                                   ⋱  \n",
       " 1.0-0.0im           1.0-0.0im                      1.0-0.0im\n",
       " 1.0-0.0im           1.0-8.65333e-16im             -1.0-4.18244e-15im\n",
       " 1.0+0.0im           1.0+8.65333e-16im             -1.0+4.18244e-15im\n",
       " 1.0+0.0im           1.0+1.44222e-15im  …   1.50712e-14-1.0im\n",
       " 1.0+0.0im           1.0-1.44222e-15im      1.50712e-14+1.0im\n",
       " 1.0+0.0im           1.0-1.37011e-15im      5.76889e-16+1.0im\n",
       " 1.0-0.0im           1.0+1.37011e-15im      5.76889e-16-1.0im\n",
       " 1.0-0.0im           1.0-1.55458e-15im              1.0+3.88315e-15im\n",
       " 1.0-0.0im           1.0+1.55458e-15im  …           1.0-3.88315e-15im"
      ]
     },
     "metadata": {},
     "output_type": "display_data"
    }
   ],
   "source": [
    "permutedims(Zhat)"
   ]
  },
  {
   "cell_type": "markdown",
   "id": "3c02f4e4",
   "metadata": {},
   "source": [
    "Notice that $\\mathbf{z}_{i, 1}$ and $\\mathbf{z}_{i, 2}$ range over the $3^{\\text{rd}}$ roots of unity and $\\mathbf{z}_{i, 3}$ ranges over the $4^{\\text{th}}$ roots of unity."
   ]
  },
  {
   "cell_type": "code",
   "execution_count": 10,
   "id": "920f5014",
   "metadata": {},
   "outputs": [
    {
     "data": {
      "text/plain": [
       "1.0508957108287289e-14"
      ]
     },
     "metadata": {},
     "output_type": "display_data"
    }
   ],
   "source": [
    "T = TensorDecomposition.monomialTensor(degrees)\n",
    "maximum(abs.(T-TensorDecomposition.rankedTensor(lhat, Zhat, d)))"
   ]
  }
 ],
 "metadata": {
  "kernelspec": {
   "display_name": "Julia 1.10.3",
   "language": "julia",
   "name": "julia-1.10"
  },
  "language_info": {
   "file_extension": ".jl",
   "mimetype": "application/julia",
   "name": "julia",
   "version": "1.10.3"
  }
 },
 "nbformat": 4,
 "nbformat_minor": 5
}
