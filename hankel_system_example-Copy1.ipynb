{
 "cells": [
  {
   "cell_type": "code",
   "execution_count": 1,
   "metadata": {},
   "outputs": [
    {
     "name": "stderr",
     "output_type": "stream",
     "text": [
      "┌ Info: Precompiling TensorDecomposition [51265e24-c02d-4141-bbd6-b01e1585b829]\n",
      "└ @ Base loading.jl:1423\n"
     ]
    }
   ],
   "source": [
    "using TensorDecomposition, Symbolics, LinearAlgebra, InvertedIndices"
   ]
  },
  {
   "cell_type": "code",
   "execution_count": 2,
   "metadata": {
    "tags": []
   },
   "outputs": [],
   "source": [
    "function rlim(n, d)\n",
    "    if iseven(d)\n",
    "         if n == 2\n",
    "             return binomial(Int(n+d/2), n) - n\n",
    "         else\n",
    "             return binomial(Int(n+d/2), n) - n - 1\n",
    "         end\n",
    "     else \n",
    "         return binomial(Int(n+(d-1)/2), n)\n",
    "     end\n",
    " end;\n",
    "\n",
    "function cofactor(A::AbstractMatrix)\n",
    "    ax = axes(A)\n",
    "    out = similar(A, eltype(A), ax)\n",
    "    for col in ax[1]\n",
    "        for row in ax[2]\n",
    "            out[col, row] = (-1)^(col + row) * det(A[Not(col), Not(row)])\n",
    "        end\n",
    "    end\n",
    "    return out\n",
    "end;\n",
    "\n",
    "function alpha_iterator(::Val{N}, s, t=()) where {N}\n",
    "    N <= 1 && return ((s, t...),) # Iterator over a single Tuple\n",
    "    Iterators.flatten(alpha_iterator(Val(N-1), s-i, (i, t...)) for i in 0:s)\n",
    "end\n",
    "\n",
    "function monomialOrder(a, b)\n",
    "    if a[1] > b[1]\n",
    "        return true\n",
    "    elseif a[1] < b[1]\n",
    "        return false\n",
    "    else \n",
    "        if maximum(a[2:end]) < maximum(b[2:end])\n",
    "            return true\n",
    "        elseif maximum(a[2:end]) > maximum(b[2:end])\n",
    "            return false\n",
    "        else\n",
    "            return !isless(a[2:end], b[2:end])\n",
    "        end \n",
    "    end\n",
    "end\n",
    "\n",
    "function convertIndices(x)\n",
    "    d = sum(x)\n",
    "    y = zeros(Int, d)\n",
    "    c = 1\n",
    "    for i=1:length(x)\n",
    "        pow = x[i]\n",
    "        y[c:c+pow-1] .= i\n",
    "        c += pow\n",
    "    end \n",
    "    return y .- 1\n",
    "end;\n",
    "\n",
    "function e(j, n)\n",
    "    e = zeros(n)\n",
    "    e[j] = 1\n",
    "    return e\n",
    "end;\n",
    "\n",
    "function multBasis(basis, j, n)\n",
    "    ej = e(j, n)\n",
    "    ej[1] = -1\n",
    "    return [Tuple(Int(y) for y in [x for x in b] + ej) for b in basis]\n",
    "end\n",
    "\n",
    "multMonomial(b, ej) = Tuple(Int(y) for y in [x for x in b] + ej);"
   ]
  },
  {
   "cell_type": "markdown",
   "metadata": {},
   "source": [
    "### Real tensor"
   ]
  },
  {
   "cell_type": "code",
   "execution_count": 345,
   "metadata": {},
   "outputs": [],
   "source": [
    "n = 9\n",
    "d = 4;"
   ]
  },
  {
   "cell_type": "code",
   "execution_count": 347,
   "metadata": {},
   "outputs": [
    {
     "data": {
      "text/plain": [
       "45"
      ]
     },
     "execution_count": 347,
     "metadata": {},
     "output_type": "execute_result"
    }
   ],
   "source": [
    "r = rlim(n, d)"
   ]
  },
  {
   "cell_type": "code",
   "execution_count": 348,
   "metadata": {},
   "outputs": [],
   "source": [
    "T, A_, L = randomRankedTensor(n+1, d, r, real=true);\n",
    "T /= sqrt(n+1);"
   ]
  },
  {
   "cell_type": "code",
   "execution_count": 349,
   "metadata": {},
   "outputs": [],
   "source": [
    "Thank = hankMat2(T);"
   ]
  },
  {
   "cell_type": "code",
   "execution_count": 350,
   "metadata": {},
   "outputs": [],
   "source": [
    "# Thank"
   ]
  },
  {
   "cell_type": "code",
   "execution_count": 351,
   "metadata": {},
   "outputs": [],
   "source": [
    "monomials = sort(collect(alpha_iterator(Val(n+1), Int(d))), lt=monomialOrder);\n",
    "D = Dict()\n",
    "for (i, mon) in enumerate(monomials)\n",
    "   D[mon] = i \n",
    "end\n",
    "\n",
    "basis = monomials[1:r];"
   ]
  },
  {
   "cell_type": "code",
   "execution_count": 352,
   "metadata": {},
   "outputs": [],
   "source": [
    "first_r = [D[b] for b in basis];"
   ]
  },
  {
   "cell_type": "code",
   "execution_count": 353,
   "metadata": {},
   "outputs": [],
   "source": [
    "H0 = Thank[first_r, first_r];"
   ]
  },
  {
   "cell_type": "code",
   "execution_count": 354,
   "metadata": {},
   "outputs": [],
   "source": [
    "H0_adj = cofactor(Symbolics.value.(H0));"
   ]
  },
  {
   "cell_type": "code",
   "execution_count": 355,
   "metadata": {},
   "outputs": [],
   "source": [
    "Hs = []\n",
    "for i=2:n+1\n",
    "    col_inds = [D[b] for b in multBasis(basis, i, n+1)]\n",
    "    push!(Hs, Thank[first_r, col_inds])\n",
    "end"
   ]
  },
  {
   "cell_type": "code",
   "execution_count": 356,
   "metadata": {},
   "outputs": [],
   "source": [
    "vars = unique(reduce(vcat, ([reduce(vcat, Symbolics.get_variables.(H)) for H in Hs])));"
   ]
  },
  {
   "cell_type": "code",
   "execution_count": 357,
   "metadata": {},
   "outputs": [],
   "source": [
    "monomialDegree(alpha) = sum(alpha[2:end]);"
   ]
  },
  {
   "cell_type": "code",
   "execution_count": 358,
   "metadata": {},
   "outputs": [],
   "source": [
    "degree_d2 = []\n",
    "degree_d2_1 = []\n",
    "\n",
    "for b in basis\n",
    "   if monomialDegree(b) == d/2-1\n",
    "        push!(degree_d2_1, b)\n",
    "    elseif monomialDegree(b) == d/2\n",
    "        push!(degree_d2, b)\n",
    "    end\n",
    "end"
   ]
  },
  {
   "cell_type": "code",
   "execution_count": 359,
   "metadata": {},
   "outputs": [],
   "source": [
    "linearEquations = []\n",
    "for i=2:n+1\n",
    "    ei = e(i, n+1)\n",
    "    ei[1] = -1\n",
    "    for j=i+1:n+1\n",
    "        ej = e(j, n+1)\n",
    "        ej[1] = -1\n",
    "        \n",
    "        for beta in degree_d2_1\n",
    "            beta_i = multMonomial(beta, ei)\n",
    "            beta_j = multMonomial(beta, ej)\n",
    "            if !(beta_i in basis && beta_j in basis)\n",
    "                for alpha in degree_d2\n",
    "                    x1 = Thank[first_r, D[multMonomial(alpha, ei)]]\n",
    "                    y1 = Thank[first_r, D[beta_j]]\n",
    "                \n",
    "                    x2 = Thank[first_r, D[beta_i]]\n",
    "                    y2 = Thank[first_r, D[multMonomial(alpha, ej)]]\n",
    "                    eq = transpose(x1)*H0_adj*y1-transpose(x2)*H0_adj*y2\n",
    "                    push!(linearEquations, Symbolics.expand(eq))\n",
    "                end\n",
    "            end\n",
    "        end\n",
    "    end\n",
    "end"
   ]
  },
  {
   "cell_type": "code",
   "execution_count": null,
   "metadata": {},
   "outputs": [],
   "source": [
    "A = []\n",
    "b = []\n",
    "for eq in linearEquations\n",
    "    push!(A, [Symbolics.coeff(eq, h_) for h_ in vars])\n",
    "    push!(b, Symbolics.coeff(eq))\n",
    "end\n",
    "A = reduce(hcat,A)';\n",
    "# A = map!(x -> isapprox(x, 0, atol=1e-10) ? 0 : x, A, A);\n",
    "# A = round.(A, digits=10);\n",
    "# A = unique(A, dims=1);"
   ]
  },
  {
   "cell_type": "code",
   "execution_count": null,
   "metadata": {},
   "outputs": [],
   "source": [
    "vars"
   ]
  },
  {
   "cell_type": "code",
   "execution_count": null,
   "metadata": {},
   "outputs": [],
   "source": [
    "svdvals(A)"
   ]
  },
  {
   "cell_type": "code",
   "execution_count": null,
   "metadata": {},
   "outputs": [],
   "source": []
  }
 ],
 "metadata": {
  "@webio": {
   "lastCommId": null,
   "lastKernelId": null
  },
  "kernelspec": {
   "display_name": "Julia 1.7.2",
   "language": "julia",
   "name": "julia-1.7"
  },
  "language_info": {
   "file_extension": ".jl",
   "mimetype": "application/julia",
   "name": "julia",
   "version": "1.7.2"
  }
 },
 "nbformat": 4,
 "nbformat_minor": 4
}
