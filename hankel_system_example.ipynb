{
 "cells": [
  {
   "cell_type": "code",
   "execution_count": 1,
   "metadata": {},
   "outputs": [],
   "source": [
    "using TensorDecomposition, LinearAlgebra, Combinatorics, InvertedIndices, HomotopyContinuation"
   ]
  },
  {
   "cell_type": "code",
   "execution_count": 2,
   "metadata": {
    "tags": []
   },
   "outputs": [],
   "source": [
    "function rlim(n, d)\n",
    "    if iseven(d)\n",
    "         if n == 2\n",
    "             return binomial(Int(n+d/2), n) - n\n",
    "         else\n",
    "             return binomial(Int(n+d/2), n) - n - 1\n",
    "         end\n",
    "     else \n",
    "         return binomial(Int(n+(d-1)/2), n)\n",
    "     end\n",
    " end;\n",
    "\n",
    "function cofactor(A::AbstractMatrix)\n",
    "    ax = axes(A)\n",
    "    out = similar(A, eltype(A), ax)\n",
    "    for col in ax[1]\n",
    "        for row in ax[2]\n",
    "            out[col, row] = (-1)^(col + row) * det(A[Not(col), Not(row)])\n",
    "        end\n",
    "    end\n",
    "    return out\n",
    "end;\n",
    "\n",
    "function alpha_iterator(::Val{N}, s, t=()) where {N}\n",
    "    N <= 1 && return ((s, t...),) # Iterator over a single Tuple\n",
    "    Iterators.flatten(alpha_iterator(Val(N-1), s-i, (i, t...)) for i in 0:s)\n",
    "end\n",
    "\n",
    "function monomialOrder(a, b)\n",
    "    if a[1] > b[1]\n",
    "        return true\n",
    "    elseif a[1] < b[1]\n",
    "        return false\n",
    "    else \n",
    "        if maximum(a[2:end]) < maximum(b[2:end])\n",
    "            return true\n",
    "        elseif maximum(a[2:end]) > maximum(b[2:end])\n",
    "            return false\n",
    "        else\n",
    "            return !isless(a[2:end], b[2:end])\n",
    "        end \n",
    "    end\n",
    "end\n",
    "\n",
    "function convertIndices(x)\n",
    "    d = sum(x)\n",
    "    y = zeros(Int, d)\n",
    "    c = 1\n",
    "    for i=1:length(x)\n",
    "        pow = x[i]\n",
    "        y[c:c+pow-1] .= i\n",
    "        c += pow\n",
    "    end \n",
    "    return y .- 1\n",
    "end;\n",
    "\n",
    "function e(j, n)\n",
    "    e = zeros(Int64, n)\n",
    "    e[j] = 1\n",
    "    return e\n",
    "end;\n",
    "\n",
    "function multBasis(basis, j, n)\n",
    "    ej = e(j, n)\n",
    "    ej[1] = -1\n",
    "    return [Tuple(Int(y) for y in [x for x in b] + ej) for b in basis]\n",
    "end\n",
    "\n",
    "multMonomial(b, ej) = Tuple(Int(y) for y in [x for x in b] + ej);\n",
    "\n",
    "function khatri_rao(A, d)\n",
    "    if d == 1\n",
    "        B = A\n",
    "    else\n",
    "        n, r = size(A)\n",
    "        B = zeros(eltype(A), (n^d, r))\n",
    "        for i=1:r \n",
    "            B[:, i] = kron(ntuple(x->A[:, i], d)...)\n",
    "        end;\n",
    "    end;\n",
    "    return B\n",
    "end\n",
    "\n",
    "function krDrop(A, d)\n",
    "    n = size(A)[1]-1\n",
    "    inds = collect(with_replacement_combinations(1:n+1, d))\n",
    "    inds = map(x->from_multiindex(x, n+1), inds)\n",
    "    return khatri_rao(A, d)[inds, :]\n",
    "end;\n",
    "\n",
    "function from_multiindex(x, n)\n",
    "    d = length(x)\n",
    "    c = 0\n",
    "    for i=1:d-1\n",
    "        c += (x[i]-1)*n^(d-i)\n",
    "    end\n",
    "    return c + x[d]\n",
    "end;"
   ]
  },
  {
   "cell_type": "markdown",
   "metadata": {},
   "source": [
    "### Real tensor"
   ]
  },
  {
   "cell_type": "code",
   "execution_count": 398,
   "metadata": {},
   "outputs": [
    {
     "data": {
      "text/plain": [
       "6"
      ]
     },
     "execution_count": 398,
     "metadata": {},
     "output_type": "execute_result"
    }
   ],
   "source": [
    "n = 3\n",
    "d = 4;\n",
    "rlim(n, d)"
   ]
  },
  {
   "cell_type": "code",
   "execution_count": 399,
   "metadata": {},
   "outputs": [
    {
     "data": {
      "text/plain": [
       "5"
      ]
     },
     "execution_count": 399,
     "metadata": {},
     "output_type": "execute_result"
    }
   ],
   "source": [
    "r = n+2"
   ]
  },
  {
   "cell_type": "code",
   "execution_count": 400,
   "metadata": {},
   "outputs": [],
   "source": [
    "T, A_, L = randomRankedTensor(n+1, d, r, real=true);"
   ]
  },
  {
   "cell_type": "code",
   "execution_count": 401,
   "metadata": {},
   "outputs": [],
   "source": [
    "Thank = hankMat(T);"
   ]
  },
  {
   "cell_type": "code",
   "execution_count": 402,
   "metadata": {},
   "outputs": [
    {
     "data": {
      "text/plain": [
       "5-element Vector{NTuple{4, Int64}}:\n",
       " (4, 0, 0, 0)\n",
       " (3, 1, 0, 0)\n",
       " (3, 0, 1, 0)\n",
       " (3, 0, 0, 1)\n",
       " (2, 2, 0, 0)"
      ]
     },
     "execution_count": 402,
     "metadata": {},
     "output_type": "execute_result"
    }
   ],
   "source": [
    "monomials = reverse(sort(collect(alpha_iterator(Val(n+1), Int(d)))));\n",
    "D = Dict()\n",
    "for (i, mon) in enumerate(monomials)\n",
    "   D[mon] = i \n",
    "end\n",
    "\n",
    "basis = monomials[1:r]"
   ]
  },
  {
   "cell_type": "code",
   "execution_count": 403,
   "metadata": {},
   "outputs": [],
   "source": [
    "first_r = [D[b] for b in basis];"
   ]
  },
  {
   "cell_type": "code",
   "execution_count": 404,
   "metadata": {},
   "outputs": [],
   "source": [
    "H0 = Float64.(Thank[first_r, first_r]);"
   ]
  },
  {
   "cell_type": "code",
   "execution_count": 405,
   "metadata": {},
   "outputs": [],
   "source": [
    "H0_adj = cofactor(H0);\n",
    "H0_det = det(H0);\n",
    "H0_inv = inv(H0);"
   ]
  },
  {
   "cell_type": "code",
   "execution_count": 406,
   "metadata": {},
   "outputs": [],
   "source": [
    "Hs = []\n",
    "for i=2:n+1\n",
    "    col_inds = [D[b] for b in multBasis(basis, i, n+1)]\n",
    "    push!(Hs, Thank[first_r, col_inds])\n",
    "end"
   ]
  },
  {
   "cell_type": "code",
   "execution_count": 407,
   "metadata": {},
   "outputs": [
    {
     "data": {
      "text/plain": [
       "3-element Vector{Variable}:\n",
       " h₃₆\n",
       " h₃₇\n",
       " h₃₈"
      ]
     },
     "execution_count": 407,
     "metadata": {},
     "output_type": "execute_result"
    }
   ],
   "source": [
    "vars = unique(reduce(vcat, ([reduce(vcat, HomotopyContinuation.variables.(H)) for H in Hs])))"
   ]
  },
  {
   "cell_type": "code",
   "execution_count": 408,
   "metadata": {},
   "outputs": [],
   "source": [
    "# linearEquations = []\n",
    "\n",
    "# for i=1:n\n",
    "#     for j=i+1:n\n",
    "#         append!(linearEquations, HomotopyContinuation.expand.(Hs[i][n+2:end, :]*H0_adj*Hs[j][:, 2:n+1]-Hs[j][n+2:end, :]*H0_adj*Hs[i][:, 2:n+1]))\n",
    "#     end\n",
    "# end"
   ]
  },
  {
   "cell_type": "code",
   "execution_count": 409,
   "metadata": {},
   "outputs": [],
   "source": [
    "# i = 1\n",
    "# j = 2\n",
    "\n",
    "# HomotopyContinuation.expand.(Hs[i][n+2:end, :]*H0_inv*Hs[j][:, 2:n+1]-Hs[j][n+2:end, :]*H0_inv*Hs[i][:, 2:n+1])"
   ]
  },
  {
   "cell_type": "code",
   "execution_count": 410,
   "metadata": {},
   "outputs": [],
   "source": [
    "# alpha_i = multBasis(basis, i+1, n+1)[n+2]\n",
    "# alpha_j = multBasis(basis, j+1, n+1)[n+2]\n",
    "\n",
    "# beta_i = multBasis(basis, i+1, n+1)[3]\n",
    "# beta_j = multBasis(basis, j+1, n+1)[3]\n",
    "\n",
    "# Gij = Thank[vcat(first_r, D[alpha_i]), vcat(first_r, D[beta_j])]\n",
    "# Gji = Thank[vcat(first_r, D[alpha_j]), vcat(first_r, D[beta_i])]\n",
    "\n",
    "# HomotopyContinuation.expand.((det(Gij)-det(Gji))/H0_det) "
   ]
  },
  {
   "cell_type": "code",
   "execution_count": 411,
   "metadata": {},
   "outputs": [],
   "source": [
    "# HomotopyContinuation.expand.(permutedims(Thank[first_r, D[alpha_i]])*H0_inv*Thank[first_r, D[beta_j]]-permutedims(Thank[first_r, D[alpha_j]])*H0_inv*Thank[first_r, D[beta_i]])"
   ]
  },
  {
   "cell_type": "code",
   "execution_count": 412,
   "metadata": {},
   "outputs": [],
   "source": [
    "function process_2sidelinEq(a_i, b_j, a_j, b_i, D, H0_inv, Thank, base)\n",
    "    return HomotopyContinuation.expand.(permutedims(Thank[base, D[a_i]])*H0_inv*Thank[base, D[b_j]]-permutedims(Thank[base, D[a_j]])*H0_inv*Thank[base, D[b_i]])\n",
    "end;\n",
    "\n",
    "function process_1sidelinEq(a_i, b_j, D, H0_inv, Thank, base)\n",
    "    return HomotopyContinuation.expand.(permutedims(Thank[base, D[a_i]])*H0_inv*Thank[base, D[b_j]].+ (-1)^length(base) * Thank[D[a_i], D[b_j]])\n",
    "end;"
   ]
  },
  {
   "cell_type": "code",
   "execution_count": 413,
   "metadata": {},
   "outputs": [],
   "source": [
    "linearEquations2 = []\n",
    "zero_2side_eqs = Set()\n",
    "zero_1side_eqs = Set()\n",
    "nonzero_2side_eqs = Set()\n",
    "\n",
    "for alpha_ in basis[n+2:end]\n",
    "    alpha = [a_ for a_ in alpha_]\n",
    "    for beta_ in basis[2:n+1]\n",
    "        beta = [b_ for b_ in beta_]\n",
    "        for i=1:n\n",
    "            ei = e(i+1, n+1)\n",
    "            ei[1] = -1\n",
    "            for j=i+1:n\n",
    "                ej = e(j+1, n+1)\n",
    "                ej[1] = -1\n",
    "                \n",
    "                a_i = Tuple(alpha+ei)\n",
    "                a_j = Tuple(alpha+ej)\n",
    "                b_i = Tuple(beta+ei)\n",
    "                b_j = Tuple(beta+ej)\n",
    "                \n",
    "                if b_i in basis && b_j in basis\n",
    "                    push!(zero_2side_eqs, ((a_i, b_j), (a_j, b_i)))\n",
    "                elseif b_i in basis\n",
    "                    push!(zero_1side_eqs, (a_i, b_j))\n",
    "                elseif b_j in basis\n",
    "                    push!(zero_1side_eqs, (a_j, b_i))\n",
    "                    \n",
    "                else\n",
    "                    push!(nonzero_2side_eqs, ((a_i, b_j), (a_j, b_i)))\n",
    "                end\n",
    "                \n",
    "#                 append!(linearEquations2, process_linEq(a_i, b_j, a_i, b_j, D, H0_inv, Thank, first_r))\n",
    "                \n",
    "            end\n",
    "        end\n",
    "    end\n",
    "end"
   ]
  },
  {
   "cell_type": "code",
   "execution_count": 414,
   "metadata": {},
   "outputs": [
    {
     "data": {
      "text/plain": [
       "2-element Vector{Tuple{NTuple{4, Int64}, NTuple{4, Int64}}}:\n",
       " ((1, 3, 0, 0), (2, 1, 0, 1))\n",
       " ((1, 3, 0, 0), (2, 1, 1, 0))"
      ]
     },
     "execution_count": 414,
     "metadata": {},
     "output_type": "execute_result"
    }
   ],
   "source": [
    "zero_1side_eqs = sort([eq for eq in zero_1side_eqs])"
   ]
  },
  {
   "cell_type": "code",
   "execution_count": 415,
   "metadata": {},
   "outputs": [
    {
     "data": {
      "text/plain": [
       "7-element Vector{Tuple{Tuple{NTuple{4, Int64}, NTuple{4, Int64}}, Tuple{NTuple{4, Int64}, NTuple{4, Int64}}}}:\n",
       " (((1, 2, 1, 0), (2, 0, 0, 2)), ((1, 2, 0, 1), (2, 0, 1, 1)))\n",
       " (((1, 2, 1, 0), (2, 0, 1, 1)), ((1, 2, 0, 1), (2, 0, 2, 0)))\n",
       " (((1, 2, 1, 0), (2, 1, 0, 1)), ((1, 2, 0, 1), (2, 1, 1, 0)))\n",
       " (((1, 3, 0, 0), (2, 0, 0, 2)), ((1, 2, 0, 1), (2, 1, 0, 1)))\n",
       " (((1, 3, 0, 0), (2, 0, 1, 1)), ((1, 2, 0, 1), (2, 1, 1, 0)))\n",
       " (((1, 3, 0, 0), (2, 0, 1, 1)), ((1, 2, 1, 0), (2, 1, 0, 1)))\n",
       " (((1, 3, 0, 0), (2, 0, 2, 0)), ((1, 2, 1, 0), (2, 1, 1, 0)))"
      ]
     },
     "execution_count": 415,
     "metadata": {},
     "output_type": "execute_result"
    }
   ],
   "source": [
    "nonzero_2side_eqs = sort([eq for eq in nonzero_2side_eqs])"
   ]
  },
  {
   "cell_type": "code",
   "execution_count": 425,
   "metadata": {},
   "outputs": [
    {
     "data": {
      "text/plain": [
       "9-element Vector{Tuple{Tuple{Any, Any, Vararg{Int64}}, Tuple{Any, Any, Vararg{Int64}}}}:\n",
       " (((1, 2, 1, 0), (2, 0, 0, 2)), ((1, 2, 0, 1), (2, 0, 1, 1)))\n",
       " (((1, 2, 1, 0), (2, 0, 1, 1)), ((1, 2, 0, 1), (2, 0, 2, 0)))\n",
       " (((1, 2, 1, 0), (2, 1, 0, 1)), ((1, 2, 0, 1), (2, 1, 1, 0)))\n",
       " (((1, 3, 0, 0), (2, 0, 0, 2)), ((1, 2, 0, 1), (2, 1, 0, 1)))\n",
       " (((1, 3, 0, 0), (2, 0, 1, 1)), ((1, 2, 0, 1), (2, 1, 1, 0)))\n",
       " (((1, 3, 0, 0), (2, 0, 1, 1)), ((1, 2, 1, 0), (2, 1, 0, 1)))\n",
       " (((1, 3, 0, 0), (2, 0, 2, 0)), ((1, 2, 1, 0), (2, 1, 1, 0)))\n",
       " ((1, 3, 0, 0), (2, 1, 0, 1))\n",
       " ((1, 3, 0, 0), (2, 1, 1, 0))"
      ]
     },
     "execution_count": 425,
     "metadata": {},
     "output_type": "execute_result"
    }
   ],
   "source": [
    "alleqs = vcat(nonzero_2side_eqs, zero_1side_eqs)"
   ]
  },
  {
   "cell_type": "code",
   "execution_count": 417,
   "metadata": {},
   "outputs": [],
   "source": [
    "A1 = []\n",
    "b1 = []\n",
    "for tup in zero_1side_eqs\n",
    "    eq = process_1sidelinEq(tup[1], tup[2], D, H0_inv, Thank, first_r)[1]\n",
    "    coeffs = HomotopyContinuation.coeffs_as_dense_poly(eq, vars, 1)\n",
    "    push!(A1, coeffs[1:end-1])\n",
    "    push!(b1, -coeffs[end])\n",
    "end\n",
    "\n",
    "A2 = []\n",
    "b2 = []\n",
    "for tup in nonzero_2side_eqs\n",
    "    eq = process_2sidelinEq(tup[1][1], tup[1][2], tup[2][1], tup[2][2], D, H0_inv, Thank, first_r)[1]\n",
    "    coeffs = HomotopyContinuation.coeffs_as_dense_poly(eq, vars, 1)\n",
    "    push!(A2, coeffs[1:end-1])\n",
    "    push!(b2, -coeffs[end])\n",
    "end\n",
    "\n",
    "A1 = reduce(hcat,A1)';\n",
    "b1 = Float64.(b1);\n",
    "\n",
    "A2 = reduce(hcat,A2)';\n",
    "b2 = Float64.(b2);\n",
    "\n",
    "A = vcat(A2, A1);"
   ]
  },
  {
   "cell_type": "code",
   "execution_count": 418,
   "metadata": {},
   "outputs": [
    {
     "data": {
      "text/plain": [
       "2×3 adjoint(::Matrix{Float64}) with eltype Float64:\n",
       " -1.11095   0.0  -1.0\n",
       " -1.36959  -1.0   0.0"
      ]
     },
     "execution_count": 418,
     "metadata": {},
     "output_type": "execute_result"
    }
   ],
   "source": [
    "A1"
   ]
  },
  {
   "cell_type": "code",
   "execution_count": 419,
   "metadata": {},
   "outputs": [
    {
     "data": {
      "text/plain": [
       "7×3 adjoint(::Matrix{Float64}) with eltype Float64:\n",
       " 0.0        0.489933  -0.94497\n",
       " 0.0        0.94497   -1.30112\n",
       " 0.0       -1.11095    1.36959\n",
       " 0.489933   0.0        1.11095\n",
       " 0.94497    0.0        1.36959\n",
       " 0.94497    1.11095    0.0\n",
       " 1.30112    1.36959    0.0"
      ]
     },
     "execution_count": 419,
     "metadata": {},
     "output_type": "execute_result"
    }
   ],
   "source": [
    "A2"
   ]
  },
  {
   "cell_type": "code",
   "execution_count": 422,
   "metadata": {},
   "outputs": [
    {
     "data": {
      "text/plain": [
       "9×3 Matrix{Float64}:\n",
       "  0.0        0.489933  -0.94497\n",
       "  0.0        0.94497   -1.30112\n",
       "  0.0       -1.11095    1.36959\n",
       "  0.489933   0.0        1.11095\n",
       "  0.94497    0.0        1.36959\n",
       "  0.94497    1.11095    0.0\n",
       "  1.30112    1.36959    0.0\n",
       " -1.11095    0.0       -1.0\n",
       " -1.36959   -1.0        0.0"
      ]
     },
     "execution_count": 422,
     "metadata": {},
     "output_type": "execute_result"
    }
   ],
   "source": [
    " A"
   ]
  },
  {
   "cell_type": "code",
   "execution_count": 423,
   "metadata": {},
   "outputs": [
    {
     "data": {
      "text/plain": [
       "9×3 Matrix{Float64}:\n",
       " -1.36959   -1.0        0.0\n",
       "  1.30112    1.36959    0.0\n",
       "  0.94497    1.11095    0.0\n",
       " -1.11095    0.0       -1.0\n",
       "  0.94497    0.0        1.36959\n",
       "  0.489933   0.0        1.11095\n",
       "  0.0       -1.11095    1.36959\n",
       "  0.0        0.94497   -1.30112\n",
       "  0.0        0.489933  -0.94497"
      ]
     },
     "execution_count": 423,
     "metadata": {},
     "output_type": "execute_result"
    }
   ],
   "source": [
    "A[[9, 7, 6, 8, 5, 4, 3, 2, 1], :]"
   ]
  },
  {
   "cell_type": "code",
   "execution_count": 426,
   "metadata": {},
   "outputs": [
    {
     "data": {
      "text/plain": [
       "9-element Vector{Tuple{Tuple{Any, Any, Vararg{Int64}}, Tuple{Any, Any, Vararg{Int64}}}}:\n",
       " ((1, 3, 0, 0), (2, 1, 1, 0))\n",
       " (((1, 3, 0, 0), (2, 0, 2, 0)), ((1, 2, 1, 0), (2, 1, 1, 0)))\n",
       " (((1, 3, 0, 0), (2, 0, 1, 1)), ((1, 2, 1, 0), (2, 1, 0, 1)))\n",
       " ((1, 3, 0, 0), (2, 1, 0, 1))\n",
       " (((1, 3, 0, 0), (2, 0, 1, 1)), ((1, 2, 0, 1), (2, 1, 1, 0)))\n",
       " (((1, 3, 0, 0), (2, 0, 0, 2)), ((1, 2, 0, 1), (2, 1, 0, 1)))\n",
       " (((1, 2, 1, 0), (2, 1, 0, 1)), ((1, 2, 0, 1), (2, 1, 1, 0)))\n",
       " (((1, 2, 1, 0), (2, 0, 1, 1)), ((1, 2, 0, 1), (2, 0, 2, 0)))\n",
       " (((1, 2, 1, 0), (2, 0, 0, 2)), ((1, 2, 0, 1), (2, 0, 1, 1)))"
      ]
     },
     "execution_count": 426,
     "metadata": {},
     "output_type": "execute_result"
    }
   ],
   "source": [
    "alleqs[[9, 7, 6, 8, 5, 4, 3, 2, 1]]"
   ]
  },
  {
   "cell_type": "code",
   "execution_count": null,
   "metadata": {},
   "outputs": [],
   "source": []
  },
  {
   "cell_type": "code",
   "execution_count": null,
   "metadata": {},
   "outputs": [],
   "source": []
  },
  {
   "cell_type": "code",
   "execution_count": null,
   "metadata": {},
   "outputs": [],
   "source": []
  },
  {
   "cell_type": "code",
   "execution_count": 175,
   "metadata": {},
   "outputs": [],
   "source": [
    "# A = []\n",
    "# b = []\n",
    "# for eq in linearEquations2\n",
    "#     coeffs = HomotopyContinuation.coeffs_as_dense_poly(eq, vars, 1)\n",
    "#     push!(A, coeffs[1:end-1])\n",
    "#     push!(b, -coeffs[end])\n",
    "# end\n",
    "# A = reduce(hcat,A)';\n",
    "# b = Float64.(b);\n",
    "# # A = map!(x -> isapprox(x, 0, atol=1e-10) ? 0 : x, A, A);\n",
    "# # A = round.(A, digits=10);\n",
    "# # A = unique(A, dims=1);\n",
    "\n",
    "# A"
   ]
  },
  {
   "cell_type": "code",
   "execution_count": 176,
   "metadata": {},
   "outputs": [],
   "source": [
    "# A[4, :]-A[2, :]"
   ]
  },
  {
   "cell_type": "code",
   "execution_count": 177,
   "metadata": {},
   "outputs": [],
   "source": [
    "# sol = A\\b;\n",
    "\n",
    "# Ms = []\n",
    "# for H in Hs\n",
    "#     push!(Ms, HomotopyContinuation.evaluate.(H*H0_inv, vars => sol))\n",
    "# end;"
   ]
  },
  {
   "cell_type": "code",
   "execution_count": null,
   "metadata": {},
   "outputs": [],
   "source": []
  }
 ],
 "metadata": {
  "@webio": {
   "lastCommId": null,
   "lastKernelId": null
  },
  "kernelspec": {
   "display_name": "Julia 1.9.0",
   "language": "julia",
   "name": "julia-1.9"
  },
  "language_info": {
   "file_extension": ".jl",
   "mimetype": "application/julia",
   "name": "julia",
   "version": "1.9.0"
  }
 },
 "nbformat": 4,
 "nbformat_minor": 4
}
