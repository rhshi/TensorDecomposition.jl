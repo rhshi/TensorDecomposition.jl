{
 "cells": [
  {
   "cell_type": "code",
   "execution_count": 5,
   "metadata": {},
   "outputs": [],
   "source": [
    "using TensorDecomposition, LinearAlgebra, Combinatorics, InvertedIndices, HomotopyContinuation"
   ]
  },
  {
   "cell_type": "code",
   "execution_count": 26,
   "metadata": {
    "tags": []
   },
   "outputs": [],
   "source": [
    "function rlim(n, d)\n",
    "    if iseven(d)\n",
    "         if n == 2\n",
    "             return binomial(Int(n+d/2), n) - n\n",
    "         else\n",
    "             return binomial(Int(n+d/2), n) - n - 1\n",
    "         end\n",
    "     else \n",
    "         return binomial(Int(n+(d-1)/2), n)\n",
    "     end\n",
    " end;\n",
    "\n",
    "function cofactor(A::AbstractMatrix)\n",
    "    ax = axes(A)\n",
    "    out = similar(A, eltype(A), ax)\n",
    "    for col in ax[1]\n",
    "        for row in ax[2]\n",
    "            out[col, row] = (-1)^(col + row) * det(A[Not(col), Not(row)])\n",
    "        end\n",
    "    end\n",
    "    return out\n",
    "end;\n",
    "\n",
    "function alpha_iterator(::Val{N}, s, t=()) where {N}\n",
    "    N <= 1 && return ((s, t...),) # Iterator over a single Tuple\n",
    "    Iterators.flatten(alpha_iterator(Val(N-1), s-i, (i, t...)) for i in 0:s)\n",
    "end\n",
    "\n",
    "function monomialOrder(a, b)\n",
    "    if a[1] > b[1]\n",
    "        return true\n",
    "    elseif a[1] < b[1]\n",
    "        return false\n",
    "    else \n",
    "        if maximum(a[2:end]) < maximum(b[2:end])\n",
    "            return true\n",
    "        elseif maximum(a[2:end]) > maximum(b[2:end])\n",
    "            return false\n",
    "        else\n",
    "            return !isless(a[2:end], b[2:end])\n",
    "        end \n",
    "    end\n",
    "end\n",
    "\n",
    "function convertIndices(x)\n",
    "    d = sum(x)\n",
    "    y = zeros(Int, d)\n",
    "    c = 1\n",
    "    for i=1:length(x)\n",
    "        pow = x[i]\n",
    "        y[c:c+pow-1] .= i\n",
    "        c += pow\n",
    "    end \n",
    "    return y .- 1\n",
    "end;\n",
    "\n",
    "function e(j, n)\n",
    "    e = zeros(Int64, n)\n",
    "    e[j] = 1\n",
    "    return e\n",
    "end;\n",
    "\n",
    "function multBasis(basis, j, n)\n",
    "    ej = e(j, n)\n",
    "    ej[1] = -1\n",
    "    return [Tuple(Int(y) for y in [x for x in b] + ej) for b in basis]\n",
    "end\n",
    "\n",
    "multMonomial(b, ej) = Tuple(Int(y) for y in [x for x in b] + ej);\n",
    "\n",
    "function khatri_rao(A, d)\n",
    "    if d == 1\n",
    "        B = A\n",
    "    else\n",
    "        n, r = size(A)\n",
    "        B = zeros(eltype(A), (n^d, r))\n",
    "        for i=1:r \n",
    "            B[:, i] = kron(ntuple(x->A[:, i], d)...)\n",
    "        end;\n",
    "    end;\n",
    "    return B\n",
    "end\n",
    "\n",
    "function krDrop(A, d)\n",
    "    n = size(A)[1]-1\n",
    "    inds = collect(with_replacement_combinations(1:n+1, d))\n",
    "    inds = map(x->from_multiindex(x, n+1), inds)\n",
    "    return khatri_rao(A, d)[inds, :]\n",
    "end;\n",
    "\n",
    "function from_multiindex(x, n)\n",
    "    d = length(x)\n",
    "    c = 0\n",
    "    for i=1:d-1\n",
    "        c += (x[i]-1)*n^(d-i)\n",
    "    end\n",
    "    return c + x[d]\n",
    "end;"
   ]
  },
  {
   "cell_type": "markdown",
   "metadata": {},
   "source": [
    "### Real tensor"
   ]
  },
  {
   "cell_type": "code",
   "execution_count": 60,
   "metadata": {},
   "outputs": [
    {
     "data": {
      "text/plain": [
       "6"
      ]
     },
     "execution_count": 60,
     "metadata": {},
     "output_type": "execute_result"
    }
   ],
   "source": [
    "n = 3\n",
    "d = 4;\n",
    "rlim(n, d)"
   ]
  },
  {
   "cell_type": "code",
   "execution_count": 279,
   "metadata": {},
   "outputs": [
    {
     "data": {
      "text/plain": [
       "7"
      ]
     },
     "execution_count": 279,
     "metadata": {},
     "output_type": "execute_result"
    }
   ],
   "source": [
    "r = 7"
   ]
  },
  {
   "cell_type": "code",
   "execution_count": 280,
   "metadata": {},
   "outputs": [],
   "source": [
    "T, A_, L = randomRankedTensor(n+1, d, r, real=true);"
   ]
  },
  {
   "cell_type": "code",
   "execution_count": 281,
   "metadata": {},
   "outputs": [],
   "source": [
    "Thank = hankMat(T);"
   ]
  },
  {
   "cell_type": "code",
   "execution_count": 282,
   "metadata": {},
   "outputs": [
    {
     "data": {
      "text/plain": [
       "7-element Vector{NTuple{4, Int64}}:\n",
       " (4, 0, 0, 0)\n",
       " (3, 1, 0, 0)\n",
       " (3, 0, 1, 0)\n",
       " (3, 0, 0, 1)\n",
       " (2, 2, 0, 0)\n",
       " (2, 1, 1, 0)\n",
       " (2, 1, 0, 1)"
      ]
     },
     "execution_count": 282,
     "metadata": {},
     "output_type": "execute_result"
    }
   ],
   "source": [
    "monomials = reverse(sort(collect(alpha_iterator(Val(n+1), Int(d)))));\n",
    "D = Dict()\n",
    "for (i, mon) in enumerate(monomials)\n",
    "   D[mon] = i \n",
    "end\n",
    "\n",
    "basis = monomials[1:r]"
   ]
  },
  {
   "cell_type": "code",
   "execution_count": 283,
   "metadata": {},
   "outputs": [],
   "source": [
    "first_r = [D[b] for b in basis];"
   ]
  },
  {
   "cell_type": "code",
   "execution_count": 284,
   "metadata": {},
   "outputs": [],
   "source": [
    "H0 = Float64.(Thank[first_r, first_r]);"
   ]
  },
  {
   "cell_type": "code",
   "execution_count": 285,
   "metadata": {},
   "outputs": [],
   "source": [
    "H0_adj = cofactor(H0);\n",
    "H0_det = det(H0);\n",
    "H0_inv = inv(H0);"
   ]
  },
  {
   "cell_type": "code",
   "execution_count": 286,
   "metadata": {},
   "outputs": [],
   "source": [
    "Hs = []\n",
    "for i=2:n+1\n",
    "    col_inds = [D[b] for b in multBasis(basis, i, n+1)]\n",
    "    push!(Hs, Thank[first_r, col_inds])\n",
    "end"
   ]
  },
  {
   "cell_type": "code",
   "execution_count": 287,
   "metadata": {},
   "outputs": [
    {
     "data": {
      "text/plain": [
       "10-element Vector{HomotopyContinuation.ModelKit.Variable}:\n",
       " h₃₆\n",
       " h₃₇\n",
       " h₃₈\n",
       " h₃₉\n",
       " h₄₀\n",
       " h₄₁\n",
       " h₄₂\n",
       " h₄₃\n",
       " h₄₄\n",
       " h₄₅"
      ]
     },
     "execution_count": 287,
     "metadata": {},
     "output_type": "execute_result"
    }
   ],
   "source": [
    "vars = unique(reduce(vcat, ([reduce(vcat, HomotopyContinuation.variables.(H)) for H in Hs])))"
   ]
  },
  {
   "cell_type": "code",
   "execution_count": 288,
   "metadata": {},
   "outputs": [],
   "source": [
    "# linearEquations = []\n",
    "\n",
    "# for i=1:n\n",
    "#     for j=i+1:n\n",
    "#         append!(linearEquations, HomotopyContinuation.expand.(Hs[i][n+2:end, :]*H0_adj*Hs[j][:, 2:n+1]-Hs[j][n+2:end, :]*H0_adj*Hs[i][:, 2:n+1]))\n",
    "#     end\n",
    "# end"
   ]
  },
  {
   "cell_type": "code",
   "execution_count": 289,
   "metadata": {},
   "outputs": [],
   "source": [
    "# i = 1\n",
    "# j = 2\n",
    "\n",
    "# HomotopyContinuation.expand.(Hs[i][n+2:end, :]*H0_inv*Hs[j][:, 2:n+1]-Hs[j][n+2:end, :]*H0_inv*Hs[i][:, 2:n+1])"
   ]
  },
  {
   "cell_type": "code",
   "execution_count": 290,
   "metadata": {},
   "outputs": [],
   "source": [
    "# alpha_i = multBasis(basis, i+1, n+1)[n+2]\n",
    "# alpha_j = multBasis(basis, j+1, n+1)[n+2]\n",
    "\n",
    "# beta_i = multBasis(basis, i+1, n+1)[3]\n",
    "# beta_j = multBasis(basis, j+1, n+1)[3]\n",
    "\n",
    "# Gij = Thank[vcat(first_r, D[alpha_i]), vcat(first_r, D[beta_j])]\n",
    "# Gji = Thank[vcat(first_r, D[alpha_j]), vcat(first_r, D[beta_i])]\n",
    "\n",
    "# HomotopyContinuation.expand.((det(Gij)-det(Gji))/H0_det) "
   ]
  },
  {
   "cell_type": "code",
   "execution_count": 291,
   "metadata": {},
   "outputs": [],
   "source": [
    "# HomotopyContinuation.expand.(permutedims(Thank[first_r, D[alpha_i]])*H0_inv*Thank[first_r, D[beta_j]]-permutedims(Thank[first_r, D[alpha_j]])*H0_inv*Thank[first_r, D[beta_i]])"
   ]
  },
  {
   "cell_type": "code",
   "execution_count": 308,
   "metadata": {},
   "outputs": [],
   "source": [
    "function process_2sidelinEq(a_i, b_j, a_j, b_i, D, H0_inv, Thank, base)\n",
    "    return HomotopyContinuation.expand.(permutedims(Thank[base, D[a_i]])*H0_inv*Thank[base, D[b_j]]-permutedims(Thank[base, D[a_j]])*H0_inv*Thank[base, D[b_i]])\n",
    "end;\n",
    "\n",
    "function process_1sidelinEq(a_i, b_j, D, H0_inv, Thank, base)\n",
    "    return HomotopyContinuation.expand.(permutedims(Thank[base, D[a_i]])*H0_inv*Thank[base, D[b_j]].+ (-1)^length(base) * Thank[D[a_i], D[b_j]])\n",
    "end;"
   ]
  },
  {
   "cell_type": "code",
   "execution_count": 299,
   "metadata": {},
   "outputs": [],
   "source": [
    "linearEquations2 = []\n",
    "zero_2side_eqs = Set()\n",
    "zero_1side_eqs = Set()\n",
    "nonzero_2side_eqs = Set()\n",
    "\n",
    "for alpha_ in basis[n+2:end]\n",
    "    alpha = [a_ for a_ in alpha_]\n",
    "    for beta_ in basis[2:n+1]\n",
    "        beta = [b_ for b_ in beta_]\n",
    "        for i=1:n\n",
    "            ei = e(i+1, n+1)\n",
    "            ei[1] = -1\n",
    "            for j=i+1:n\n",
    "                ej = e(j+1, n+1)\n",
    "                ej[1] = -1\n",
    "                \n",
    "                a_i = Tuple(alpha+ei)\n",
    "                a_j = Tuple(alpha+ej)\n",
    "                b_i = Tuple(beta+ei)\n",
    "                b_j = Tuple(beta+ej)\n",
    "                \n",
    "                if b_i in basis && b_j in basis\n",
    "                    push!(zero_2side_eqs, ((a_i, b_j), (a_j, b_i)))\n",
    "                elseif b_i in basis\n",
    "                    push!(zero_1side_eqs, (a_i, b_j))\n",
    "                elseif b_j in basis\n",
    "                    push!(zero_1side_eqs, (a_j, b_i))\n",
    "                    \n",
    "                else\n",
    "                    push!(nonzero_2side_eqs, ((a_i, b_j), (a_j, b_i)))\n",
    "                end\n",
    "                \n",
    "#                 append!(linearEquations2, process_linEq(a_i, b_j, a_i, b_j, D, H0_inv, Thank, first_r))\n",
    "                \n",
    "            end\n",
    "        end\n",
    "    end\n",
    "end"
   ]
  },
  {
   "cell_type": "code",
   "execution_count": 300,
   "metadata": {},
   "outputs": [
    {
     "data": {
      "text/plain": [
       "Set{Any} with 9 elements:\n",
       "  (((1, 2, 1, 0), (2, 1, 0, 1)), ((1, 2, 0, 1), (2, 1, 1, 0)))\n",
       "  (((1, 2, 1, 0), (2, 1, 0, 1)), ((1, 1, 1, 1), (2, 2, 0, 0)))\n",
       "  (((1, 2, 0, 1), (2, 1, 1, 0)), ((1, 1, 1, 1), (2, 2, 0, 0)))\n",
       "  (((1, 3, 0, 0), (2, 1, 1, 0)), ((1, 2, 1, 0), (2, 2, 0, 0)))\n",
       "  (((1, 3, 0, 0), (2, 1, 0, 1)), ((1, 2, 0, 1), (2, 2, 0, 0)))\n",
       "  (((1, 2, 1, 0), (2, 1, 1, 0)), ((1, 1, 2, 0), (2, 2, 0, 0)))\n",
       "  (((1, 1, 2, 0), (2, 1, 0, 1)), ((1, 1, 1, 1), (2, 1, 1, 0)))\n",
       "  (((1, 2, 0, 1), (2, 1, 0, 1)), ((1, 1, 0, 2), (2, 2, 0, 0)))\n",
       "  (((1, 1, 1, 1), (2, 1, 0, 1)), ((1, 1, 0, 2), (2, 1, 1, 0)))"
      ]
     },
     "execution_count": 300,
     "metadata": {},
     "output_type": "execute_result"
    }
   ],
   "source": [
    "zero_2side_eqs"
   ]
  },
  {
   "cell_type": "code",
   "execution_count": 301,
   "metadata": {},
   "outputs": [
    {
     "data": {
      "text/plain": [
       "Set{Any} with 9 elements:\n",
       "  ((1, 3, 0, 0), (2, 0, 1, 1))\n",
       "  ((1, 3, 0, 0), (2, 0, 0, 2))\n",
       "  ((1, 2, 0, 1), (2, 0, 2, 0))\n",
       "  ((1, 2, 0, 1), (2, 0, 1, 1))\n",
       "  ((1, 2, 0, 1), (2, 0, 0, 2))\n",
       "  ((1, 2, 1, 0), (2, 0, 2, 0))\n",
       "  ((1, 2, 1, 0), (2, 0, 1, 1))\n",
       "  ((1, 2, 1, 0), (2, 0, 0, 2))\n",
       "  ((1, 3, 0, 0), (2, 0, 2, 0))"
      ]
     },
     "execution_count": 301,
     "metadata": {},
     "output_type": "execute_result"
    }
   ],
   "source": [
    "zero_1side_eqs"
   ]
  },
  {
   "cell_type": "code",
   "execution_count": 302,
   "metadata": {},
   "outputs": [
    {
     "data": {
      "text/plain": [
       "Set{Any} with 6 elements:\n",
       "  (((1, 1, 2, 0), (2, 0, 1, 1)), ((1, 1, 1, 1), (2, 0, 2, 0)))\n",
       "  (((1, 1, 2, 0), (2, 0, 0, 2)), ((1, 1, 1, 1), (2, 0, 1, 1)))\n",
       "  (((1, 1, 1, 1), (2, 0, 1, 1)), ((1, 1, 0, 2), (2, 0, 2, 0)))\n",
       "  (((1, 1, 1, 1), (2, 0, 0, 2)), ((1, 1, 0, 2), (2, 0, 1, 1)))\n",
       "  (((1, 2, 1, 0), (2, 0, 1, 1)), ((1, 2, 0, 1), (2, 0, 2, 0)))\n",
       "  (((1, 2, 1, 0), (2, 0, 0, 2)), ((1, 2, 0, 1), (2, 0, 1, 1)))"
      ]
     },
     "execution_count": 302,
     "metadata": {},
     "output_type": "execute_result"
    }
   ],
   "source": [
    "nonzero_2side_eqs"
   ]
  },
  {
   "cell_type": "code",
   "execution_count": 309,
   "metadata": {},
   "outputs": [
    {
     "data": {
      "text/plain": [
       "1-element Vector{Expression}:\n",
       " -0.669955779546683 - 0.0921833895739379*h₃₇ - 0.414808355469951*h₃₉ + 0.515000875183916*h₄₀ - h₄₃"
      ]
     },
     "execution_count": 309,
     "metadata": {},
     "output_type": "execute_result"
    }
   ],
   "source": [
    "process_1sidelinEq((1, 2, 1, 0), (2, 0, 1, 1), D, H0_inv, Thank, first_r)"
   ]
  },
  {
   "cell_type": "code",
   "execution_count": 311,
   "metadata": {},
   "outputs": [
    {
     "data": {
      "text/plain": [
       "1-element Vector{Expression}:\n",
       " -1.82355606554109 - 0.538301278193119*h₃₈ - 2.18844885030992*h₄₀ + 2.46207397729737*h₄₁ - h₄₃"
      ]
     },
     "execution_count": 311,
     "metadata": {},
     "output_type": "execute_result"
    }
   ],
   "source": [
    "process_1sidelinEq((1, 2, 0, 1), (2, 0, 2, 0), D, H0_inv, Thank, first_r)"
   ]
  },
  {
   "cell_type": "code",
   "execution_count": 310,
   "metadata": {},
   "outputs": [
    {
     "data": {
      "text/plain": [
       "1-element Vector{Expression}:\n",
       " 1.15360028599441 - 0.0921833895739379*h₃₇ + 0.538301278193119*h₃₈ - 0.414808355469951*h₃₉ + 2.70344972549384*h₄₀ - 2.46207397729737*h₄₁"
      ]
     },
     "execution_count": 310,
     "metadata": {},
     "output_type": "execute_result"
    }
   ],
   "source": [
    "process_2sidelinEq((1, 2, 1, 0), (2, 0, 1, 1), (1, 2, 0, 1), (2, 0, 2, 0), D, H0_inv, Thank, first_r)"
   ]
  },
  {
   "cell_type": "code",
   "execution_count": null,
   "metadata": {},
   "outputs": [],
   "source": []
  },
  {
   "cell_type": "code",
   "execution_count": 244,
   "metadata": {},
   "outputs": [
    {
     "data": {
      "text/plain": [
       "27×10 adjoint(::Matrix{Float64}) with eltype Float64:\n",
       "  0.0          -2.84217e-14  -1.42109e-14  …   0.0           0.0\n",
       "  3.55271e-15  -5.68434e-14  -1.42109e-14      0.0           0.0\n",
       "  0.0           3.55271e-15   0.0              0.0           0.0\n",
       "  0.259154     -3.32556       1.93957          0.0           0.0\n",
       " -0.380147      4.24497      -3.19459          0.0           0.0\n",
       "  0.0          -0.380147     -0.259154     …   0.0           0.0\n",
       " -0.380147      4.24497      -3.19459          0.0           0.0\n",
       "  0.735798     -6.00787       3.71388          0.0           0.0\n",
       "  0.0           0.735798      0.380147         0.0           0.0\n",
       "  0.0           0.0           0.0              0.0           0.0\n",
       "  0.0           3.55271e-15   0.0          …   0.0           0.0\n",
       "  0.0           0.0           0.0              1.42109e-14   0.0\n",
       "  0.0           0.259154      0.0              0.0           0.0\n",
       "  ⋮                                        ⋱                \n",
       "  0.0          -0.380147      0.0          …   0.0           0.0\n",
       "  0.0           0.735798      0.0             -1.0           0.0\n",
       "  0.0           0.0           0.0              3.19459       0.0\n",
       "  0.0           0.0           0.0              0.0           0.0\n",
       "  0.0           0.0           3.55271e-15      5.68434e-14   0.0\n",
       "  0.0           0.0           0.0          …   1.42109e-14   1.42109e-14\n",
       "  0.0           0.0           0.259154         1.42109e-14   0.0\n",
       "  0.0           0.0          -0.380147        -1.0           1.42109e-14\n",
       "  0.0           0.0           0.0              0.130979     -1.93957\n",
       "  0.0           0.0          -0.380147        -1.0           0.0\n",
       "  0.0           0.0           0.735798     …   5.68434e-14  -1.0\n",
       "  0.0           0.0           0.0             -0.531091      3.19459"
      ]
     },
     "execution_count": 244,
     "metadata": {},
     "output_type": "execute_result"
    }
   ],
   "source": [
    "A = []\n",
    "b = []\n",
    "for eq in linearEquations2\n",
    "    coeffs = HomotopyContinuation.coeffs_as_dense_poly(eq, vars, 1)\n",
    "    push!(A, coeffs[1:end-1])\n",
    "    push!(b, -coeffs[end])\n",
    "end\n",
    "A = reduce(hcat,A)';\n",
    "b = Float64.(b);\n",
    "# A = map!(x -> isapprox(x, 0, atol=1e-10) ? 0 : x, A, A);\n",
    "# A = round.(A, digits=10);\n",
    "# A = unique(A, dims=1);\n",
    "\n",
    "A"
   ]
  },
  {
   "cell_type": "code",
   "execution_count": 217,
   "metadata": {},
   "outputs": [
    {
     "data": {
      "text/plain": [
       "10-element Vector{Float64}:\n",
       "  0.0\n",
       " -3.552713678800501e-15\n",
       "  0.0\n",
       "  5.684341886080802e-14\n",
       " -1.4210854715202004e-14\n",
       " -1.4210854715202004e-14\n",
       "  0.0\n",
       "  0.0\n",
       "  0.0\n",
       "  0.0"
      ]
     },
     "execution_count": 217,
     "metadata": {},
     "output_type": "execute_result"
    }
   ],
   "source": [
    "A[4, :]-A[2, :]"
   ]
  },
  {
   "cell_type": "code",
   "execution_count": 20,
   "metadata": {},
   "outputs": [],
   "source": [
    "sol = A\\b;\n",
    "\n",
    "Ms = []\n",
    "for H in Hs\n",
    "    push!(Ms, HomotopyContinuation.evaluate.(H*H0_inv, vars => sol))\n",
    "end;"
   ]
  },
  {
   "cell_type": "code",
   "execution_count": 21,
   "metadata": {},
   "outputs": [
    {
     "data": {
      "text/plain": [
       "2-element Vector{Float64}:\n",
       " -3.553470824541194\n",
       "  1.65308479147949"
      ]
     },
     "execution_count": 21,
     "metadata": {},
     "output_type": "execute_result"
    }
   ],
   "source": [
    "sol"
   ]
  },
  {
   "cell_type": "code",
   "execution_count": 31,
   "metadata": {},
   "outputs": [
    {
     "data": {
      "text/latex": [
       "$$ 0.839944744677702 + 0.298378435057643*h₁₆ - 0.132060227683639*h₁₈ $$"
      ],
      "text/plain": [
       "0.839944744677702 + 0.298378435057643*h₁₆ - 0.132060227683639*h₁₈"
      ]
     },
     "execution_count": 31,
     "metadata": {},
     "output_type": "execute_result"
    }
   ],
   "source": [
    "HomotopyContinuation.expand(det(Thank[[1, 2, 3, 4, 7], [1, 2, 3, 4, 6]]))"
   ]
  },
  {
   "cell_type": "code",
   "execution_count": 27,
   "metadata": {},
   "outputs": [
    {
     "data": {
      "text/plain": [
       "2-element Vector{Any}:\n",
       "  0.0120946539960882 + 0.0648384127282177*h₁₆ + 0.13206022768367*h₁₇\n",
       " -0.953095669664768 - 0.298378435057604*h₁₆ - 0.0648384127282174*h₁₇"
      ]
     },
     "execution_count": 27,
     "metadata": {},
     "output_type": "execute_result"
    }
   ],
   "source": [
    "linearEquations"
   ]
  },
  {
   "cell_type": "code",
   "execution_count": 32,
   "metadata": {},
   "outputs": [
    {
     "data": {
      "text/latex": [
       "$$ -0.113150924987064 - 0.0648384127282355*h₁₇ - 0.132060227683638*h₁₈ $$"
      ],
      "text/plain": [
       "-0.113150924987064 - 0.0648384127282355*h₁₇ - 0.132060227683638*h₁₈"
      ]
     },
     "execution_count": 32,
     "metadata": {},
     "output_type": "execute_result"
    }
   ],
   "source": [
    "HomotopyContinuation.expand(det(Thank[[1, 2, 3, 4, 8], [1, 2, 3, 4, 5]]))"
   ]
  },
  {
   "cell_type": "code",
   "execution_count": 38,
   "metadata": {},
   "outputs": [],
   "source": [
    "P = permutedims((Complex.(L) .^ (1/4))).* A_;"
   ]
  },
  {
   "cell_type": "code",
   "execution_count": 56,
   "metadata": {},
   "outputs": [],
   "source": [
    "P2 = krDrop(P, 2);"
   ]
  },
  {
   "cell_type": "code",
   "execution_count": 60,
   "metadata": {},
   "outputs": [
    {
     "data": {
      "text/latex": [
       "$$ -0.298378435057596 $$"
      ],
      "text/plain": [
       "-0.298378435057596"
      ]
     },
     "execution_count": 60,
     "metadata": {},
     "output_type": "execute_result"
    }
   ],
   "source": [
    "det(Thank[[1, 2, 3, 4], [1, 2, 3, 6]])"
   ]
  },
  {
   "cell_type": "code",
   "execution_count": 59,
   "metadata": {},
   "outputs": [
    {
     "data": {
      "text/plain": [
       "0.0 + 0.1784211580067688im"
      ]
     },
     "execution_count": 59,
     "metadata": {},
     "output_type": "execute_result"
    }
   ],
   "source": [
    "det(P2[[1, 2, 3, 5], :])"
   ]
  },
  {
   "cell_type": "code",
   "execution_count": 71,
   "metadata": {},
   "outputs": [
    {
     "data": {
      "text/plain": [
       "2×2 Matrix{ComplexF64}:\n",
       "  0.0+0.363401im  -0.0-0.178421im\n",
       " -0.0-0.178421im   0.0+0.821072im"
      ]
     },
     "execution_count": 71,
     "metadata": {},
     "output_type": "execute_result"
    }
   ],
   "source": [
    "A*[[0, 1];;[-1, 0]]/det(P2[1:4, :])"
   ]
  },
  {
   "cell_type": "code",
   "execution_count": 72,
   "metadata": {},
   "outputs": [
    {
     "data": {
      "text/plain": [
       "0.0 - 0.3634009186610109im"
      ]
     },
     "execution_count": 72,
     "metadata": {},
     "output_type": "execute_result"
    }
   ],
   "source": [
    "det(P2[[1, 2, 3, 4], :])"
   ]
  },
  {
   "cell_type": "code",
   "execution_count": 73,
   "metadata": {},
   "outputs": [
    {
     "data": {
      "text/plain": [
       "0.0 + 0.1784211580067688im"
      ]
     },
     "execution_count": 73,
     "metadata": {},
     "output_type": "execute_result"
    }
   ],
   "source": [
    "det(P2[[1, 2, 3, 5], :])"
   ]
  },
  {
   "cell_type": "code",
   "execution_count": 74,
   "metadata": {},
   "outputs": [
    {
     "data": {
      "text/plain": [
       "0.0 - 0.8210723191262199im"
      ]
     },
     "execution_count": 74,
     "metadata": {},
     "output_type": "execute_result"
    }
   ],
   "source": [
    "det(P2[[1, 2, 3, 6], :])"
   ]
  },
  {
   "cell_type": "code",
   "execution_count": 96,
   "metadata": {},
   "outputs": [],
   "source": [
    "P_123 = det(P2[1:3, [1, 2, 3]])\n",
    "P_124 = det(P2[1:3, [1, 2, 4]])\n",
    "P_134 = det(P2[1:3, [1, 3, 4]])\n",
    "P_234 = det(P2[1:3, [2, 3, 4]]);"
   ]
  },
  {
   "cell_type": "code",
   "execution_count": 97,
   "metadata": {},
   "outputs": [
    {
     "data": {
      "text/plain": [
       "0.0 - 0.363400918661011im"
      ]
     },
     "execution_count": 97,
     "metadata": {},
     "output_type": "execute_result"
    }
   ],
   "source": [
    "-P[2, 1]^2*P_234 + P[2, 2]^2*P_134 - P[2, 3]^2*P_124 + P[2, 4]^2*P_123"
   ]
  },
  {
   "cell_type": "code",
   "execution_count": 101,
   "metadata": {},
   "outputs": [
    {
     "data": {
      "text/plain": [
       "0.0 - 0.8210723191262198im"
      ]
     },
     "execution_count": 101,
     "metadata": {},
     "output_type": "execute_result"
    }
   ],
   "source": [
    "-P[3, 1]^2*P_234 + P[3, 2]^2*P_134 - P[3, 3]^2*P_124 + P[3, 4]^2*P_123"
   ]
  },
  {
   "cell_type": "code",
   "execution_count": 102,
   "metadata": {},
   "outputs": [
    {
     "data": {
      "text/plain": [
       "0.0 - 0.8210723191262199im"
      ]
     },
     "execution_count": 102,
     "metadata": {},
     "output_type": "execute_result"
    }
   ],
   "source": [
    "det(P2[[1, 2, 3, 6], :])"
   ]
  },
  {
   "cell_type": "code",
   "execution_count": 99,
   "metadata": {},
   "outputs": [
    {
     "data": {
      "text/plain": [
       "0.0 + 0.1784211580067688im"
      ]
     },
     "execution_count": 99,
     "metadata": {},
     "output_type": "execute_result"
    }
   ],
   "source": [
    "det(P2[[1, 2, 3, 5], :])"
   ]
  },
  {
   "cell_type": "code",
   "execution_count": null,
   "metadata": {},
   "outputs": [],
   "source": []
  }
 ],
 "metadata": {
  "@webio": {
   "lastCommId": null,
   "lastKernelId": null
  },
  "kernelspec": {
   "display_name": "Julia 1.9.0",
   "language": "julia",
   "name": "julia-1.9"
  },
  "language_info": {
   "file_extension": ".jl",
   "mimetype": "application/julia",
   "name": "julia",
   "version": "1.9.0"
  }
 },
 "nbformat": 4,
 "nbformat_minor": 4
}
