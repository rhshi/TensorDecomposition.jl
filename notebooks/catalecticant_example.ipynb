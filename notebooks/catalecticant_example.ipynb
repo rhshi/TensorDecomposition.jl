{
 "cells": [
  {
   "cell_type": "code",
   "execution_count": 1,
   "metadata": {},
   "outputs": [],
   "source": [
    "using TensorDecomposition"
   ]
  },
  {
   "cell_type": "code",
   "execution_count": 2,
   "metadata": {},
   "outputs": [],
   "source": [
    "n = 3;\n",
    "d = 4;"
   ]
  },
  {
   "cell_type": "code",
   "execution_count": 3,
   "metadata": {},
   "outputs": [
    {
     "name": "stdout",
     "output_type": "stream",
     "text": [
      "\r\u001b[32mTracking 4 paths... 100%|███████████████████████████████| Time: 0:00:06\u001b[39m\r\n",
      "\u001b[34m  # paths tracked:                  4\u001b[39m\r\n",
      "\u001b[34m  # non-singular solutions (real):  4 (0)\u001b[39m\r\n",
      "\u001b[34m  # singular endpoints (real):      0 (0)\u001b[39m\r\n",
      "\u001b[34m  # total solutions (real):         4 (0)\u001b[39m\n"
     ]
    }
   ],
   "source": [
    "r = 4;\n",
    "T, A, L = randomRankedTensor(n, d, r; real=false);\n",
    "Ahat, Lhat = catalecticant(T);"
   ]
  },
  {
   "cell_type": "code",
   "execution_count": 4,
   "metadata": {},
   "outputs": [
    {
     "data": {
      "text/plain": [
       "3×3×3×3 Array{ComplexF64, 4}:\n",
       "[:, :, 1, 1] =\n",
       "  -6.52723+4.96097im   -0.936028+1.62468im   -3.58114-0.140612im\n",
       " -0.936028+1.62468im    -1.81797+0.743491im  -1.15242-0.193535im\n",
       "  -3.58114-0.140612im   -1.15242-0.193535im  -1.14617-1.19803im\n",
       "\n",
       "[:, :, 2, 1] =\n",
       " -0.936028+1.62468im    -1.81797+0.743491im     -1.15242-0.193535im\n",
       "  -1.81797+0.743491im      1.918-0.00194941im  -0.141975+0.34055im\n",
       "  -1.15242-0.193535im  -0.141975+0.34055im     -0.643711-0.200222im\n",
       "\n",
       "[:, :, 3, 1] =\n",
       " -3.58114-0.140612im   -1.15242-0.193535im   -1.14617-1.19803im\n",
       " -1.15242-0.193535im  -0.141975+0.34055im   -0.643711-0.200222im\n",
       " -1.14617-1.19803im   -0.643711-0.200222im  0.0124823-1.08498im\n",
       "\n",
       "[:, :, 1, 2] =\n",
       " -0.936028+1.62468im    -1.81797+0.743491im     -1.15242-0.193535im\n",
       "  -1.81797+0.743491im      1.918-0.00194941im  -0.141975+0.34055im\n",
       "  -1.15242-0.193535im  -0.141975+0.34055im     -0.643711-0.200222im\n",
       "\n",
       "[:, :, 2, 2] =\n",
       "  -1.81797+0.743491im       1.918-0.00194941im  -0.141975+0.34055im\n",
       "     1.918-0.00194941im  -22.6023-17.4724im       2.42923-8.1711im\n",
       " -0.141975+0.34055im      2.42923-8.1711im        1.41333-0.56675im\n",
       "\n",
       "[:, :, 3, 2] =\n",
       "  -1.15242-0.193535im  -0.141975+0.34055im  -0.643711-0.200222im\n",
       " -0.141975+0.34055im     2.42923-8.1711im     1.41333-0.56675im\n",
       " -0.643711-0.200222im    1.41333-0.56675im    1.07767-0.698446im\n",
       "\n",
       "[:, :, 1, 3] =\n",
       " -3.58114-0.140612im   -1.15242-0.193535im   -1.14617-1.19803im\n",
       " -1.15242-0.193535im  -0.141975+0.34055im   -0.643711-0.200222im\n",
       " -1.14617-1.19803im   -0.643711-0.200222im  0.0124823-1.08498im\n",
       "\n",
       "[:, :, 2, 3] =\n",
       "  -1.15242-0.193535im  -0.141975+0.34055im  -0.643711-0.200222im\n",
       " -0.141975+0.34055im     2.42923-8.1711im     1.41333-0.56675im\n",
       " -0.643711-0.200222im    1.41333-0.56675im    1.07767-0.698446im\n",
       "\n",
       "[:, :, 3, 3] =\n",
       "  -1.14617-1.19803im   -0.643711-0.200222im  0.0124823-1.08498im\n",
       " -0.643711-0.200222im    1.41333-0.56675im     1.07767-0.698446im\n",
       " 0.0124823-1.08498im     1.07767-0.698446im   0.466526+0.959146im"
      ]
     },
     "execution_count": 4,
     "metadata": {},
     "output_type": "execute_result"
    }
   ],
   "source": [
    "T"
   ]
  },
  {
   "cell_type": "code",
   "execution_count": 9,
   "metadata": {},
   "outputs": [
    {
     "data": {
      "text/plain": [
       "3×4 Matrix{ComplexF64}:\n",
       "      1.0+0.0im            1.0-0.0im      …         1.0+0.0im\n",
       "  3.73418+1.82516im   -4.60612-5.72358im     -0.0077146-0.335394im\n",
       " -4.05468+0.806114im   1.07484-2.01314im       0.365275+0.162647im"
      ]
     },
     "execution_count": 9,
     "metadata": {},
     "output_type": "execute_result"
    }
   ],
   "source": [
    "Ahat"
   ]
  },
  {
   "cell_type": "code",
   "execution_count": 10,
   "metadata": {},
   "outputs": [
    {
     "data": {
      "text/plain": [
       "3×4 Matrix{ComplexF64}:\n",
       "      1.0-0.0im           1.0+0.0im       …       1.0+0.0im\n",
       " -4.60612-5.72358im  0.776537-0.141316im      3.73418+1.82516im\n",
       "  1.07484-2.01314im  0.472908+0.431845im     -4.05468+0.806114im"
      ]
     },
     "execution_count": 10,
     "metadata": {},
     "output_type": "execute_result"
    }
   ],
   "source": [
    "A"
   ]
  },
  {
   "cell_type": "code",
   "execution_count": 11,
   "metadata": {},
   "outputs": [
    {
     "data": {
      "text/plain": [
       "4-element Vector{ComplexF64}:\n",
       " -0.0019047954943945304 + 0.0028728486141829162im\n",
       "   0.009074905002833155 + 0.002503725752310813im\n",
       "    -3.2748697327212106 + 0.2079887487234764im\n",
       "     -3.259531353218485 + 4.7476012028596575im"
      ]
     },
     "execution_count": 11,
     "metadata": {},
     "output_type": "execute_result"
    }
   ],
   "source": [
    "Lhat"
   ]
  },
  {
   "cell_type": "code",
   "execution_count": 12,
   "metadata": {},
   "outputs": [
    {
     "data": {
      "text/plain": [
       "4-element Vector{ComplexF64}:\n",
       "  0.009074905002833087 + 0.00250372575231125im\n",
       "   -3.2748697327209424 + 0.20798874872347606im\n",
       "    -3.259531353218513 + 4.747601202859708im\n",
       " -0.001904795494394575 + 0.00287284861418292im"
      ]
     },
     "execution_count": 12,
     "metadata": {},
     "output_type": "execute_result"
    }
   ],
   "source": [
    "L"
   ]
  },
  {
   "cell_type": "code",
   "execution_count": null,
   "metadata": {},
   "outputs": [],
   "source": []
  }
 ],
 "metadata": {
  "kernelspec": {
   "display_name": "Julia 1.7.2",
   "language": "julia",
   "name": "julia-1.7"
  },
  "language_info": {
   "file_extension": ".jl",
   "mimetype": "application/julia",
   "name": "julia",
   "version": "1.7.2"
  },
  "orig_nbformat": 4
 },
 "nbformat": 4,
 "nbformat_minor": 2
}
