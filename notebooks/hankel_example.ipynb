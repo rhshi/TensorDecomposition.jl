{
 "cells": [
  {
   "cell_type": "code",
   "execution_count": 2,
   "metadata": {},
   "outputs": [],
   "source": [
    "using TensorDecomposition"
   ]
  },
  {
   "cell_type": "code",
   "execution_count": 3,
   "metadata": {},
   "outputs": [],
   "source": [
    "n = 3;\n",
    "d = 4;"
   ]
  },
  {
   "cell_type": "code",
   "execution_count": 5,
   "metadata": {},
   "outputs": [],
   "source": [
    "r = 4;\n",
    "T, A, L = randomRankedTensor(n, d, r; real=false);"
   ]
  },
  {
   "cell_type": "code",
   "execution_count": 8,
   "metadata": {},
   "outputs": [
    {
     "data": {
      "text/plain": [
       "3×4 Matrix{ComplexF64}:\n",
       "      1.0+0.0im             1.0+0.0im        …        1.0-2.3559e-17im\n",
       " -5.12086+4.40084im    -1.21169-0.289748im      0.0574516-0.379502im\n",
       " -1.02377-0.799135im  -0.542773-0.0217854im      0.512654+0.589005im"
      ]
     },
     "execution_count": 8,
     "metadata": {},
     "output_type": "execute_result"
    }
   ],
   "source": [
    "A"
   ]
  },
  {
   "cell_type": "code",
   "execution_count": 10,
   "metadata": {},
   "outputs": [
    {
     "data": {
      "text/plain": [
       "4-element Vector{ComplexF64}:\n",
       " 0.0011815623882955222 - 0.009131243837002841im\n",
       "    -6.880555294759449 - 2.1646914153935564im\n",
       "     8.980661156568964 + 2.694031768117827im\n",
       "     25.82651315217653 + 14.847127693339859im"
      ]
     },
     "execution_count": 10,
     "metadata": {},
     "output_type": "execute_result"
    }
   ],
   "source": [
    "L"
   ]
  },
  {
   "cell_type": "code",
   "execution_count": 9,
   "metadata": {},
   "outputs": [],
   "source": [
    "# Jennrich's does not work\n",
    "Ahat_J, Lhat_J = jennrich(T);"
   ]
  },
  {
   "cell_type": "code",
   "execution_count": 11,
   "metadata": {},
   "outputs": [
    {
     "data": {
      "text/plain": [
       "3×3 Matrix{ComplexF64}:\n",
       "        1.0+0.0im             1.0-0.0im               1.0+0.0im\n",
       " -0.0295304-0.43261im    -1.17109+0.550042im    0.0779745-0.571429im\n",
       "   0.533432+0.503858im  -0.663997+0.421964im  0.000930085-0.633002im"
      ]
     },
     "execution_count": 11,
     "metadata": {},
     "output_type": "execute_result"
    }
   ],
   "source": [
    "Ahat_J"
   ]
  },
  {
   "cell_type": "code",
   "execution_count": 12,
   "metadata": {},
   "outputs": [
    {
     "data": {
      "text/plain": [
       "3-element Vector{ComplexF64}:\n",
       "  22.02269679679427 + 20.741464227482957im\n",
       " 1.6182358726357122 - 3.6563319459905506im\n",
       "   4.15491753716472 + 1.3399298582248556im"
      ]
     },
     "execution_count": 12,
     "metadata": {},
     "output_type": "execute_result"
    }
   ],
   "source": [
    "Lhat_J"
   ]
  },
  {
   "cell_type": "code",
   "execution_count": 16,
   "metadata": {},
   "outputs": [
    {
     "name": "stdout",
     "output_type": "stream",
     "text": [
      "Rank of catalecticant: 4\n",
      "Using the rank of catalecticant as initial guess.\n",
      "Outside the regime of the Catalecticant algorithm.\n",
      "High rank tensor decomposition -- must solve quadratic system.\n",
      "Vector{ComplexF64}[[-33.274939466756955 - 102.92099099552561im, 24.715063711419308 - 1.745953417243211im]]\n"
     ]
    }
   ],
   "source": [
    "# Hankel algorithm\n",
    "Ahat, Lhat = hankel(T);"
   ]
  },
  {
   "cell_type": "code",
   "execution_count": 17,
   "metadata": {},
   "outputs": [
    {
     "data": {
      "text/plain": [
       "3×4 Matrix{ComplexF64}:\n",
       "       1.0+0.0im             1.0+0.0im       …       1.0+0.0im\n",
       " -0.444798-0.169779im  0.0574516-0.379502im     -5.12086+4.40084im\n",
       "  0.259734-0.399641im   0.512654+0.589005im     -1.02377-0.799135im"
      ]
     },
     "execution_count": 17,
     "metadata": {},
     "output_type": "execute_result"
    }
   ],
   "source": [
    "Ahat"
   ]
  },
  {
   "cell_type": "code",
   "execution_count": 18,
   "metadata": {},
   "outputs": [
    {
     "data": {
      "text/plain": [
       "4-element Vector{ComplexF64}:\n",
       "     8.980661156568889 + 2.6940317681178065im\n",
       "    25.826513152176446 + 14.84712769334001im\n",
       "    -6.880555294759525 - 2.1646914153935968im\n",
       " 0.0011815623882951447 - 0.009131243837002086im"
      ]
     },
     "execution_count": 18,
     "metadata": {},
     "output_type": "execute_result"
    }
   ],
   "source": [
    "Lhat"
   ]
  },
  {
   "cell_type": "code",
   "execution_count": null,
   "metadata": {},
   "outputs": [],
   "source": []
  }
 ],
 "metadata": {
  "kernelspec": {
   "display_name": "Julia 1.7.2",
   "language": "julia",
   "name": "julia-1.7"
  },
  "language_info": {
   "file_extension": ".jl",
   "mimetype": "application/julia",
   "name": "julia",
   "version": "1.7.2"
  },
  "orig_nbformat": 4
 },
 "nbformat": 4,
 "nbformat_minor": 2
}
