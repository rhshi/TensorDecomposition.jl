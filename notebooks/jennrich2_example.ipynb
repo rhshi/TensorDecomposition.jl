{
 "cells": [
  {
   "cell_type": "code",
   "execution_count": 2,
   "metadata": {},
   "outputs": [],
   "source": [
    "using TensorDecomposition"
   ]
  },
  {
   "cell_type": "code",
   "execution_count": 3,
   "metadata": {},
   "outputs": [],
   "source": [
    "n = 5;\n",
    "d = 3;"
   ]
  },
  {
   "cell_type": "code",
   "execution_count": 4,
   "metadata": {},
   "outputs": [],
   "source": [
    "r = 3;\n",
    "T, A, L = randomRankedTensor(n, d, r; real=false);\n",
    "Ahat, Lhat = jennrich2(T);"
   ]
  },
  {
   "cell_type": "code",
   "execution_count": 5,
   "metadata": {},
   "outputs": [
    {
     "data": {
      "text/plain": [
       "5×5×5 Array{ComplexF64, 3}:\n",
       "[:, :, 1] =\n",
       "  16.4864-4.44642im    -2.2084-4.07211im   …  12.6825+8.74834im\n",
       "  -2.2084-4.07211im   -3.09232+0.447171im      2.2065-3.04007im\n",
       "  3.56795+2.08122im  -0.259001-1.02491im       14.562+2.73067im\n",
       " -4.20756+5.25814im    3.32268+2.61316im      17.0368-12.2323im\n",
       "  12.6825+8.74834im     2.2065-3.04007im      4.27377-27.9733im\n",
       "\n",
       "[:, :, 2] =\n",
       "   -2.2084-4.07211im    -3.09232+0.447171im  …     2.2065-3.04007im\n",
       "  -3.09232+0.447171im    1.17726+0.471702im      -1.96387-0.78566im\n",
       " -0.259001-1.02491im   -0.779871-0.344526im     -0.248912-5.05909im\n",
       "   3.32268+2.61316im   -0.608025-0.475132im      -4.13489-5.43207im\n",
       "    2.2065-3.04007im    -1.96387-0.78566im       -11.3217+0.565289im\n",
       "\n",
       "[:, :, 3] =\n",
       "   3.56795+2.08122im  -0.259001-1.02491im   …     14.562+2.73067im\n",
       " -0.259001-1.02491im  -0.779871-0.344526im     -0.248912-5.05909im\n",
       "    1.1468+5.44944im    1.44224-0.814719im       7.49517+1.57296im\n",
       "    3.7514+7.56413im    2.70776-0.829841im       3.04647-2.23062im\n",
       "    14.562+2.73067im  -0.248912-5.05909im        5.45297-5.09907im\n",
       "\n",
       "[:, :, 4] =\n",
       " -4.20756+5.25814im    3.32268+2.61316im   …   17.0368-12.2323im\n",
       "  3.32268+2.61316im  -0.608025-0.475132im     -4.13489-5.43207im\n",
       "   3.7514+7.56413im    2.70776-0.829841im      3.04647-2.23062im\n",
       "  13.0223+3.60263im    3.26387-5.34117im      -8.94229+5.9514im\n",
       "  17.0368-12.2323im   -4.13489-5.43207im       9.04726+9.58888im\n",
       "\n",
       "[:, :, 5] =\n",
       " 12.6825+8.74834im     2.2065-3.04007im   …   4.27377-27.9733im\n",
       "  2.2065-3.04007im   -1.96387-0.78566im      -11.3217+0.565289im\n",
       "  14.562+2.73067im  -0.248912-5.05909im       5.45297-5.09907im\n",
       " 17.0368-12.2323im   -4.13489-5.43207im       9.04726+9.58888im\n",
       " 4.27377-27.9733im   -11.3217+0.565289im      19.5918-15.335im"
      ]
     },
     "execution_count": 5,
     "metadata": {},
     "output_type": "execute_result"
    }
   ],
   "source": [
    "T"
   ]
  },
  {
   "cell_type": "code",
   "execution_count": 6,
   "metadata": {},
   "outputs": [
    {
     "data": {
      "text/plain": [
       "5×3 Matrix{ComplexF64}:\n",
       "       1.0-0.0im                1.0-0.0im              1.0+0.0im\n",
       " -0.318273+0.5971im     -0.00288399-0.367628im  -0.0911125-0.380683im\n",
       "  0.299967+0.284352im     0.0928814-0.383059im    0.703323+0.242155im\n",
       "  0.655717-0.681564im     -0.945833-0.573274im    0.652407+0.15963im\n",
       "   0.64417-0.0216481im     -1.07409+0.725321im     1.09754-0.848826im"
      ]
     },
     "execution_count": 6,
     "metadata": {},
     "output_type": "execute_result"
    }
   ],
   "source": [
    "A"
   ]
  },
  {
   "cell_type": "code",
   "execution_count": 7,
   "metadata": {},
   "outputs": [
    {
     "data": {
      "text/plain": [
       "5×3 Matrix{ComplexF64}:\n",
       "       1.0+0.0im               1.0+0.0im               1.0+0.0im\n",
       " -0.318273+0.5971im     -0.0911125-0.380683im  -0.00288399-0.367628im\n",
       "  0.299967+0.284352im     0.703323+0.242155im    0.0928814-0.383059im\n",
       "  0.655717-0.681564im     0.652407+0.15963im     -0.945833-0.573274im\n",
       "   0.64417-0.0216481im     1.09754-0.848826im     -1.07409+0.725321im"
      ]
     },
     "execution_count": 7,
     "metadata": {},
     "output_type": "execute_result"
    }
   ],
   "source": [
    "Ahat"
   ]
  },
  {
   "cell_type": "code",
   "execution_count": 8,
   "metadata": {},
   "outputs": [
    {
     "data": {
      "text/plain": [
       "3-element Vector{ComplexF64}:\n",
       " 2.2183981113641305 - 0.8874435995235792im\n",
       "  5.967098148868049 - 7.364120237890419im\n",
       "  8.300945631735038 + 3.80513997617483im"
      ]
     },
     "execution_count": 8,
     "metadata": {},
     "output_type": "execute_result"
    }
   ],
   "source": [
    "L"
   ]
  },
  {
   "cell_type": "code",
   "execution_count": 9,
   "metadata": {},
   "outputs": [
    {
     "data": {
      "text/plain": [
       "3-element Vector{ComplexF64}:\n",
       " 2.2183981113641313 - 0.8874435995235812im\n",
       "  8.300945631735013 + 3.8051399761748392im\n",
       "  5.967098148868023 - 7.364120237890403im"
      ]
     },
     "execution_count": 9,
     "metadata": {},
     "output_type": "execute_result"
    }
   ],
   "source": [
    "Lhat"
   ]
  },
  {
   "cell_type": "code",
   "execution_count": null,
   "metadata": {},
   "outputs": [],
   "source": []
  }
 ],
 "metadata": {
  "kernelspec": {
   "display_name": "Julia 1.7.2",
   "language": "julia",
   "name": "julia-1.7"
  },
  "language_info": {
   "file_extension": ".jl",
   "mimetype": "application/julia",
   "name": "julia",
   "version": "1.7.2"
  },
  "orig_nbformat": 4
 },
 "nbformat": 4,
 "nbformat_minor": 2
}
