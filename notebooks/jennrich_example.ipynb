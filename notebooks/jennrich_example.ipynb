{
 "cells": [
  {
   "cell_type": "code",
   "execution_count": 4,
   "metadata": {},
   "outputs": [],
   "source": [
    "using TensorDecomposition"
   ]
  },
  {
   "cell_type": "code",
   "execution_count": 5,
   "metadata": {},
   "outputs": [],
   "source": [
    "n = 5;\n",
    "d = 3;"
   ]
  },
  {
   "cell_type": "code",
   "execution_count": 6,
   "metadata": {},
   "outputs": [],
   "source": [
    "r = 3;\n",
    "T, A, L = randomRankedTensor(n, d, r; real=false);\n",
    "Ahat, Lhat = jennrich(T);"
   ]
  },
  {
   "cell_type": "code",
   "execution_count": 7,
   "metadata": {},
   "outputs": [
    {
     "data": {
      "text/plain": [
       "5×5×5 Array{ComplexF64, 3}:\n",
       "[:, :, 1] =\n",
       " 0.225617-9.22687im   3.35814+8.30102im  …  -3.28705-8.34914im\n",
       "  3.35814+8.30102im  -6.43624-7.35935im        5.528+7.93591im\n",
       " -1.90086-2.13835im   2.99506+1.52097im     -1.42583-2.56823im\n",
       " -6.06406+1.96674im   3.63215-3.8627im      -1.97503+4.63326im\n",
       " -3.28705-8.34914im     5.528+7.93591im     -4.56259-8.5057im\n",
       "\n",
       "[:, :, 2] =\n",
       "  3.35814+8.30102im  -6.43624-7.35935im   …     5.528+7.93591im\n",
       " -6.43624-7.35935im   9.12648+5.05331im      -8.78075-5.86767im\n",
       "  2.99506+1.52097im  -3.16482-0.889192im      2.66572+0.758288im\n",
       "  3.63215-3.8627im   -2.12582+5.22946im       2.54076-5.03109im\n",
       "    5.528+7.93591im  -8.78075-5.86767im       8.46612+7.12097im\n",
       "\n",
       "[:, :, 3] =\n",
       " -1.90086-2.13835im     2.99506+1.52097im   …  -1.42583-2.56823im\n",
       "  2.99506+1.52097im    -3.16482-0.889192im      2.66572+0.758288im\n",
       " -1.33373+3.20138im     1.69026+0.267492im      2.46843-3.20484im\n",
       " -2.08056+3.66278im  0.00602537-1.94085im       1.50072-0.0483133im\n",
       " -1.42583-2.56823im     2.66572+0.758288im     -5.56432-1.50063im\n",
       "\n",
       "[:, :, 4] =\n",
       " -6.06406+1.96674im     3.63215-3.8627im   …  -1.97503+4.63326im\n",
       "  3.63215-3.8627im     -2.12582+5.22946im      2.54076-5.03109im\n",
       " -2.08056+3.66278im  0.00602537-1.94085im      1.50072-0.0483133im\n",
       "  0.95166+5.47682im    -3.01466-1.22172im      5.52846-2.88079im\n",
       " -1.97503+4.63326im     2.54076-5.03109im     -4.73307+2.90709im\n",
       "\n",
       "[:, :, 5] =\n",
       " -3.28705-8.34914im     5.528+7.93591im   …  -4.56259-8.5057im\n",
       "    5.528+7.93591im  -8.78075-5.86767im       8.46612+7.12097im\n",
       " -1.42583-2.56823im   2.66572+0.758288im     -5.56432-1.50063im\n",
       " -1.97503+4.63326im   2.54076-5.03109im      -4.73307+2.90709im\n",
       " -4.56259-8.5057im    8.46612+7.12097im      -7.55696-7.4401im"
      ]
     },
     "execution_count": 7,
     "metadata": {},
     "output_type": "execute_result"
    }
   ],
   "source": [
    "T"
   ]
  },
  {
   "cell_type": "code",
   "execution_count": 8,
   "metadata": {},
   "outputs": [
    {
     "data": {
      "text/plain": [
       "5×3 Matrix{ComplexF64}:\n",
       "        1.0+0.0im              1.0-0.0im             1.0+0.0im\n",
       " -0.0761109+0.0576958im   -1.01273+0.365833im   0.261517-0.293719im\n",
       "   0.253412-1.50848im     0.277205-0.196918im    1.32658+1.83708im\n",
       "   0.278492-2.443im      -0.257682-0.517741im  -0.426653+0.0110256im\n",
       "   -1.12167-0.311277im     1.05441-0.274im     -0.684382-1.2089im"
      ]
     },
     "execution_count": 8,
     "metadata": {},
     "output_type": "execute_result"
    }
   ],
   "source": [
    "A"
   ]
  },
  {
   "cell_type": "code",
   "execution_count": 9,
   "metadata": {},
   "outputs": [
    {
     "data": {
      "text/plain": [
       "5×3 Matrix{ComplexF64}:\n",
       "       1.0+0.0im              1.0-0.0im              1.0+0.0im\n",
       "  -1.01273+0.365833im  -0.0761109+0.0576958im   0.261517-0.293719im\n",
       "  0.277205-0.196918im    0.253412-1.50848im      1.32658+1.83708im\n",
       " -0.257682-0.517741im    0.278492-2.443im      -0.426653+0.0110256im\n",
       "   1.05441-0.274im       -1.12167-0.311277im   -0.684382-1.2089im"
      ]
     },
     "execution_count": 9,
     "metadata": {},
     "output_type": "execute_result"
    }
   ],
   "source": [
    "Ahat"
   ]
  },
  {
   "cell_type": "code",
   "execution_count": 10,
   "metadata": {},
   "outputs": [
    {
     "data": {
      "text/plain": [
       "3-element Vector{ComplexF64}:\n",
       " 0.07950759675594954 - 0.6774668106409081im\n",
       " -0.2172535801590838 - 8.371104938168683im\n",
       " 0.36336334044402663 - 0.17830129994954727im"
      ]
     },
     "execution_count": 10,
     "metadata": {},
     "output_type": "execute_result"
    }
   ],
   "source": [
    "L"
   ]
  },
  {
   "cell_type": "code",
   "execution_count": 11,
   "metadata": {},
   "outputs": [
    {
     "data": {
      "text/plain": [
       "3-element Vector{ComplexF64}:\n",
       " -0.21725358015908403 - 8.371104938168688im\n",
       "  0.07950759675594596 - 0.677466810640907im\n",
       "   0.3633633404440264 - 0.17830129994954821im"
      ]
     },
     "execution_count": 11,
     "metadata": {},
     "output_type": "execute_result"
    }
   ],
   "source": [
    "Lhat"
   ]
  },
  {
   "cell_type": "code",
   "execution_count": null,
   "metadata": {},
   "outputs": [],
   "source": []
  }
 ],
 "metadata": {
  "kernelspec": {
   "display_name": "Julia 1.7.2",
   "language": "julia",
   "name": "julia-1.7"
  },
  "language_info": {
   "file_extension": ".jl",
   "mimetype": "application/julia",
   "name": "julia",
   "version": "1.7.2"
  },
  "orig_nbformat": 4
 },
 "nbformat": 4,
 "nbformat_minor": 2
}
