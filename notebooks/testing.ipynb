{
 "cells": [
  {
   "cell_type": "code",
   "execution_count": 1,
   "metadata": {},
   "outputs": [],
   "source": [
    "using Random, LinearAlgebra, TensorToolbox, Combinatorics, TensorOperations"
   ]
  },
  {
   "cell_type": "code",
   "execution_count": 62,
   "metadata": {},
   "outputs": [],
   "source": [
    "function makeRankedTensor(L::Vector, A::Array, d::Int)\n",
    "    A_ = kronMat(A, d)\n",
    "    return reshape(sum(A_ .* L', dims=2), tuple(repeat([n], d)...))\n",
    "end;\n",
    "\n",
    "function randomTensor(n::Int, d::Int; real::Bool=false)\n",
    "    T_ = randn(tuple(repeat([n], d)...)...)\n",
    "    if !real\n",
    "        Q = im*randn(tuple(repeat([n], d)...)...)\n",
    "        T_ = T_+Q\n",
    "    end;\n",
    "    T = copy(T_)\n",
    "    perms = permutations(1:d)\n",
    "    for perm in perms\n",
    "        if perm != 1:d \n",
    "            T = T + permutedims(T_, perm)\n",
    "        end;\n",
    "    end;\n",
    "    return T/factorial(d)\n",
    "end;\n",
    "\n",
    "function complexGaussian(m, n)\n",
    "    A = randn(m, n)\n",
    "    B = randn(m, n)\n",
    "    return A + im*B\n",
    "end;\n",
    "\n",
    "function randomRankedTensor(n, d, r; real=false)\n",
    "    if !real\n",
    "        A = complexGaussian(n, r)\n",
    "    else \n",
    "        A = randn(n, r)\n",
    "    end;\n",
    "    L = ones(r)\n",
    "    A_ = copy(A)\n",
    "    A1 = A_[1, :]\n",
    "    L_ = zeros(eltype(A_), r)\n",
    "    for i=1:r\n",
    "        A_[:, i] ./= A1[i]\n",
    "        L_[i] = A1[i]^d\n",
    "    end;\n",
    "    return makeRankedTensor(L, A, d), A_, L_\n",
    "end;\n",
    "\n",
    "function contract(T::Array, V::Array)\n",
    "    d1 = length(size(T))\n",
    "    d2 = length(size(V))\n",
    "    return ncon((T, V), (vcat(collect(1:d2), -collect(1:d1-d2)), collect(1:d2)))\n",
    "end;\n",
    "\n",
    "function jennrich(T::Array; tol=1e-10)\n",
    "    Tsize = size(T)\n",
    "    n = Tsize[1]\n",
    "    d = length(Tsize)\n",
    "\n",
    "    # draw random vectors or matrices for contraction\n",
    "    B = randn(repeat([n], Int(iseven(d))+1)...);\n",
    "    C = randn(repeat([n], Int(iseven(d))+1)...);\n",
    "\n",
    "    # contract to tensor with largest even order strictly less than the order of d\n",
    "    # d odd -> order n^{d-1} tensor\n",
    "    # d even -> order n^{d-2} tensor \n",
    "    T1 = contract(T, B);\n",
    "    T2 = contract(T, C);\n",
    "\n",
    "    delt = Int(floor((d-1)/2))\n",
    "\n",
    "    # flatten to matrices\n",
    "    T1flat = reshape(T1, (n^delt, n^delt));\n",
    "    T2flat = reshape(T2, (n^delt, n^delt));\n",
    "\n",
    "    # obtain the factors\n",
    "    # T real -> true factors are obtained, possibly up to sign\n",
    "    # T complex -> true factors are obtained, but up to a complex scalar factor of norm 1 \n",
    "    w, Ahat_ = eigen(T1flat*pinv(T2flat))\n",
    "    Ahat_ = Ahat_[:, abs.(w).>tol]\n",
    "    r = last(size(Ahat_))\n",
    "    Ahat = zeros(eltype(Ahat_), (n, r))\n",
    "    for i=1:r\n",
    "        a = Ahat_[:, i]\n",
    "        U, s, _ = svd(reshape(a, (n, n^(delt-1))))\n",
    "        Ahat[:, i] = U[:, abs.(s).>tol]\n",
    "    end;\n",
    "    Ahat = dehomogenize!(Ahat)\n",
    "\n",
    "    # obtain L and deflate\n",
    "    low = Int(floor(d/2))\n",
    "    high = Int(ceil(d/2))\n",
    "    Tflat = reshape(T, (n^low, n^high))\n",
    "    Alow = kronMat(Ahat, low)\n",
    "    Ahigh = kronMat(Ahat, high)\n",
    "\n",
    "    Lhat = diag(pinv(Alow)*Tflat*pinv(transpose(Ahigh)))\n",
    "\n",
    "    return Ahat, Lhat\n",
    "end;\n",
    "\n",
    "function dehomogenize!(A)\n",
    "    for col in eachcol(A)\n",
    "        col ./= col[1]\n",
    "    end;\n",
    "    return A\n",
    "end;\n",
    "dehomogenize(A) = dehomogenize!(copy(A));\n",
    "\n",
    "function normcol!(A)\n",
    "    for col in eachcol(A)\n",
    "        col ./= norm(col)\n",
    "    end;\n",
    "    return A\n",
    "end;\n",
    "normcol(A) = normcol!(copy(A));\n",
    "\n",
    "function kronMat(A::Matrix, d)\n",
    "    if d == 1\n",
    "        B = A\n",
    "    else\n",
    "        n, r = size(A)\n",
    "        B = zeros(eltype(A), (n^d, r))\n",
    "        for i=1:r \n",
    "            B[:, i] = kron(ntuple(x->A[:, i], d)...)\n",
    "        end;\n",
    "    end;\n",
    "    return B\n",
    "end;\n"
   ]
  },
  {
   "cell_type": "code",
   "execution_count": 63,
   "metadata": {},
   "outputs": [],
   "source": [
    "n = 5;\n",
    "d = 3;"
   ]
  },
  {
   "cell_type": "code",
   "execution_count": 67,
   "metadata": {},
   "outputs": [],
   "source": [
    "r = 3;\n",
    "T, A, L = randomRankedTensor(n, d, r; real=false);\n",
    "Ahat, Lhat = jennrich(T);"
   ]
  },
  {
   "cell_type": "code",
   "execution_count": 68,
   "metadata": {},
   "outputs": [
    {
     "data": {
      "text/plain": [
       "5×3 Matrix{ComplexF64}:\n",
       "       1.0-5.30388e-17im       1.0+0.0im                1.0-6.64589e-17im\n",
       " -0.563082+1.326im        0.292087+0.5028im       -0.148834-0.326267im\n",
       "  0.684971-0.0811024im    0.454977-0.0414948im   -0.0294396-0.182617im\n",
       "  0.109598+1.33521im      0.250857+1.27498im       -0.17348-0.467461im\n",
       "   1.36524+0.648216im     0.260177-0.00382983im   -0.589395-0.18207im"
      ]
     },
     "execution_count": 68,
     "metadata": {},
     "output_type": "execute_result"
    }
   ],
   "source": [
    "A"
   ]
  },
  {
   "cell_type": "code",
   "execution_count": 69,
   "metadata": {},
   "outputs": [
    {
     "data": {
      "text/plain": [
       "5×3 Matrix{ComplexF64}:\n",
       "      1.0+0.0im               1.0+0.0im               1.0+0.0im\n",
       " 0.292087+0.5028im      -0.563082+1.326im       -0.148834-0.326267im\n",
       " 0.454977-0.0414948im    0.684971-0.0811024im  -0.0294396-0.182617im\n",
       " 0.250857+1.27498im      0.109598+1.33521im      -0.17348-0.467461im\n",
       " 0.260177-0.00382983im    1.36524+0.648216im    -0.589395-0.18207im"
      ]
     },
     "execution_count": 69,
     "metadata": {},
     "output_type": "execute_result"
    }
   ],
   "source": [
    "Ahat"
   ]
  },
  {
   "cell_type": "code",
   "execution_count": 70,
   "metadata": {},
   "outputs": [
    {
     "data": {
      "text/plain": [
       "3-element Vector{ComplexF64}:\n",
       " -0.16213302913308117 + 0.6098398583343104im\n",
       "  -2.8417767451062517 + 2.908695200921926im\n",
       "   2.3946027424387464 + 0.7278595144668726im"
      ]
     },
     "execution_count": 70,
     "metadata": {},
     "output_type": "execute_result"
    }
   ],
   "source": [
    "L"
   ]
  },
  {
   "cell_type": "code",
   "execution_count": 71,
   "metadata": {},
   "outputs": [
    {
     "data": {
      "text/plain": [
       "3-element Vector{ComplexF64}:\n",
       "  -2.841776745106246 + 2.9086952009219216im\n",
       " -0.1621330291330844 + 0.6098398583343101im\n",
       "  2.3946027424387424 + 0.7278595144668736im"
      ]
     },
     "execution_count": 71,
     "metadata": {},
     "output_type": "execute_result"
    }
   ],
   "source": [
    "Lhat"
   ]
  },
  {
   "cell_type": "code",
   "execution_count": null,
   "metadata": {},
   "outputs": [],
   "source": []
  }
 ],
 "metadata": {
  "kernelspec": {
   "display_name": "Julia 1.7.2",
   "language": "julia",
   "name": "julia-1.7"
  },
  "language_info": {
   "file_extension": ".jl",
   "mimetype": "application/julia",
   "name": "julia",
   "version": "1.7.2"
  },
  "orig_nbformat": 4
 },
 "nbformat": 4,
 "nbformat_minor": 2
}
