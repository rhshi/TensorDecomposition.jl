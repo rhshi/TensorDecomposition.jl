{
 "cells": [
  {
   "cell_type": "code",
   "execution_count": 280,
   "metadata": {},
   "outputs": [],
   "source": [
    "using Random, LinearAlgebra, TensorToolbox, Combinatorics, TensorOperations"
   ]
  },
  {
   "cell_type": "code",
   "execution_count": 575,
   "metadata": {},
   "outputs": [],
   "source": [
    "function makeRankedTensor(L::Vector, A::Array, d::Int)\n",
    "    A = kronMat(A, d)\n",
    "    return reshape(sum(kronMat(A, d) .* L', dims=2), tuple(repeat([n], d)...))\n",
    "end;\n",
    "\n",
    "function randomTensor(n::Int, d::Int; real::Bool=false)\n",
    "    T_ = randn(tuple(repeat([n], d)...)...)\n",
    "    if !real\n",
    "        Q = im*randn(tuple(repeat([n], d)...)...)\n",
    "        T_ = T_+Q\n",
    "    end;\n",
    "    T = copy(T_)\n",
    "    perms = permutations(1:d)\n",
    "    for perm in perms\n",
    "        if perm != 1:d \n",
    "            T = T + permutedims(T_, perm)\n",
    "        end;\n",
    "    end;\n",
    "    return T/factorial(d)\n",
    "end;\n",
    "\n",
    "function complexGaussian(m, n)\n",
    "    A = randn(m, n)\n",
    "    B = randn(m, n)\n",
    "    return A + im*B\n",
    "end;\n",
    "\n",
    "function randomRankedTensor(n, d, r; real=false)\n",
    "    if !real\n",
    "        A = complexGaussian(n, r)\n",
    "    else \n",
    "        A = randn(n, r)\n",
    "    end;\n",
    "    L = ones(r)\n",
    "    A_ = copy(A)\n",
    "    A1 = A_[1, :]\n",
    "    L_ = zeros(eltype(A_), r)\n",
    "    for i=1:r\n",
    "        A_[:, i] ./= A1[i]\n",
    "        L_[i] = A1[i]^d\n",
    "    end;\n",
    "    return makeRankedTensor(L, A, d), A_, L_\n",
    "end;\n",
    "\n",
    "function contract(T::Array, V::Array)\n",
    "    d1 = length(size(T))\n",
    "    d2 = length(size(V))\n",
    "    return ncon((T, V), (vcat(collect(1:d2), -collect(1:d1-d2)), collect(1:d2)))\n",
    "end;\n",
    "\n",
    "function jennrich(T::Array; tol=1e-10)\n",
    "    Tsize = size(T)\n",
    "    n = Tsize[1]\n",
    "    d = length(Tsize)\n",
    "\n",
    "    # draw random vectors or matrices for contraction\n",
    "    B = randn(repeat([n], Int(iseven(d))+1)...);\n",
    "    C = randn(repeat([n], Int(iseven(d))+1)...);\n",
    "\n",
    "    # contract to tensor with largest even order strictly less than the order of d\n",
    "    # d odd -> order n^{d-1} tensor\n",
    "    # d even -> order n^{d-2} tensor \n",
    "    T1 = contract(T, B);\n",
    "    T2 = contract(T, C);\n",
    "\n",
    "    delt = Int(floor((d-1)/2))\n",
    "\n",
    "    # flatten to matrices\n",
    "    T1flat = reshape(T1, (n^delt, n^delt));\n",
    "    T2flat = reshape(T2, (n^delt, n^delt));\n",
    "\n",
    "    # obtain the factors\n",
    "    # T real -> true factors are obtained, possibly up to sign\n",
    "    # T complex -> true factors are obtained, but up to a complex scalar factor of norm 1 \n",
    "    w, Ahat_ = eigen(T1flat*pinv(T2flat))\n",
    "    Ahat_ = Ahat_[:, abs.(w).>tol]\n",
    "    r = last(size(Ahat_))\n",
    "    Ahat = zeros(eltype(Ahat_), (n, r))\n",
    "    for i=1:r\n",
    "        a = Ahat_[:, i]\n",
    "        U, s, _ = svd(reshape(a, (n, n^(delt-1))))\n",
    "        Ahat[:, i] = U[:, abs.(s).>tol]\n",
    "    end;\n",
    "    Ahat = dehomogenize!(Ahat)\n",
    "\n",
    "    # obtain L and deflate\n",
    "    low = Int(floor(d/2))\n",
    "    high = Int(ceil(d/2))\n",
    "    Tflat = reshape(T, (n^low, n^high))\n",
    "    Alow = kronMat(Ahat, low)\n",
    "    Ahigh = kronMat(Ahat, high)\n",
    "\n",
    "    Lhat = diag(pinv(Alow)*Tflat*pinv(transpose(Ahigh)))\n",
    "\n",
    "    return Ahat, Lhat\n",
    "end;\n",
    "\n",
    "function dehomogenize!(A)\n",
    "    for col in eachcol(A)\n",
    "        col ./= col[1]\n",
    "    end;\n",
    "    return A\n",
    "end;\n",
    "dehomogenize(A) = dehomogenize!(copy(A));\n",
    "\n",
    "function normcol!(A)\n",
    "    for col in eachcol(A)\n",
    "        col ./= norm(col)\n",
    "    end;\n",
    "    return A\n",
    "end;\n",
    "normcol(A) = normcol!(copy(A));\n",
    "\n",
    "function kronMat(A::Matrix, d)\n",
    "    n, r = size(A)\n",
    "    B = zeros(eltype(A), (n^d, r))\n",
    "    for i=1:r \n",
    "        B[:, i] = kron(ntuple(x->A[:, i], d)...)\n",
    "    end;\n",
    "    return B\n",
    "end;\n"
   ]
  },
  {
   "cell_type": "code",
   "execution_count": 576,
   "metadata": {},
   "outputs": [],
   "source": [
    "n = 5;\n",
    "d = 5;"
   ]
  },
  {
   "cell_type": "code",
   "execution_count": 589,
   "metadata": {},
   "outputs": [],
   "source": [
    "r = 6;\n",
    "T, A, L = randomRankedTensor(n, d, r; real=false);\n",
    "Ahat, Lhat = jennrich(T);"
   ]
  },
  {
   "cell_type": "code",
   "execution_count": 590,
   "metadata": {},
   "outputs": [
    {
     "data": {
      "text/plain": [
       "5×6 Matrix{ComplexF64}:\n",
       "       1.0+0.0im             1.0-0.0im        …        1.0-1.7515e-17im\n",
       " -0.943229+0.369542im  -0.290456+0.0890217im      0.645893-0.980246im\n",
       "  0.427695-1.45498im   -0.841642+0.405686im         1.7418-3.05544im\n",
       " -0.817363-2.18054im     0.32911+0.471043im        6.11404+6.36488im\n",
       "   -1.1666+0.279473im   0.772352-0.0145782im     -0.122255-1.2682im"
      ]
     },
     "execution_count": 590,
     "metadata": {},
     "output_type": "execute_result"
    }
   ],
   "source": [
    "A"
   ]
  },
  {
   "cell_type": "code",
   "execution_count": 591,
   "metadata": {},
   "outputs": [
    {
     "data": {
      "text/plain": [
       "6-element Vector{ComplexF64}:\n",
       " -0.024372019174050314 + 0.02475612333018387im\n",
       "     16.73846869136191 + 22.59978762226049im\n",
       "    1.0997305873080043 - 0.15727315149992127im\n",
       "    0.9729356448000009 + 2.1622251220945516im\n",
       "    -7.776181019047463 - 73.02198231806913im\n",
       " -0.006326577405817072 - 0.006697938533394753im"
      ]
     },
     "execution_count": 591,
     "metadata": {},
     "output_type": "execute_result"
    }
   ],
   "source": [
    "L"
   ]
  },
  {
   "cell_type": "code",
   "execution_count": 592,
   "metadata": {},
   "outputs": [
    {
     "data": {
      "text/plain": [
       "5×6 Matrix{ComplexF64}:\n",
       "       1.0+0.0im             1.0+3.63031e-32im  …        1.0-0.0im\n",
       "  0.645893-0.980246im   0.145763-0.438556im        -0.290456+0.0890217im\n",
       "    1.7418-3.05544im    0.592308+0.697007im        -0.841642+0.405686im\n",
       "   6.11404+6.36488im   0.0655564-0.153708im          0.32911+0.471043im\n",
       " -0.122255-1.2682im    -0.281083-0.107152im         0.772352-0.0145782im"
      ]
     },
     "execution_count": 592,
     "metadata": {},
     "output_type": "execute_result"
    }
   ],
   "source": [
    "Ahat"
   ]
  },
  {
   "cell_type": "code",
   "execution_count": 593,
   "metadata": {},
   "outputs": [
    {
     "data": {
      "text/plain": [
       "6-element Vector{ComplexF64}:\n",
       " -0.006326577405817019 - 0.006697938533394913im\n",
       "    -7.776181019047455 - 73.0219823180693im\n",
       "    0.9729356448000003 + 2.1622251220945494im\n",
       "    1.0997305873079848 - 0.15727315149988874im\n",
       " -0.024372019174050415 + 0.024756123330183413im\n",
       "    16.738468691361863 + 22.599787622260468im"
      ]
     },
     "execution_count": 593,
     "metadata": {},
     "output_type": "execute_result"
    }
   ],
   "source": [
    "Lhat"
   ]
  },
  {
   "cell_type": "code",
   "execution_count": null,
   "metadata": {},
   "outputs": [],
   "source": []
  }
 ],
 "metadata": {
  "kernelspec": {
   "display_name": "Julia 1.7.2",
   "language": "julia",
   "name": "julia-1.7"
  },
  "language_info": {
   "file_extension": ".jl",
   "mimetype": "application/julia",
   "name": "julia",
   "version": "1.7.2"
  },
  "orig_nbformat": 4
 },
 "nbformat": 4,
 "nbformat_minor": 2
}
