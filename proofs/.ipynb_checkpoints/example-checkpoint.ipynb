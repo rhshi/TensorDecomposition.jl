{
 "cells": [
  {
   "cell_type": "code",
   "execution_count": null,
   "id": "c8e3125a-725b-440f-b873-a9a97d8dcd75",
   "metadata": {},
   "outputs": [],
   "source": [
    "include(\"../src/TensorDecomposition.jl\")\n",
    "using Nemo, JLD2"
   ]
  },
  {
   "cell_type": "code",
   "execution_count": 3,
   "id": "2a44b7ef-78b3-46c7-9eae-44aafce073cf",
   "metadata": {},
   "outputs": [],
   "source": [
    "proofs = jldopen(\"4-17.jld2\", \"r\");"
   ]
  },
  {
   "cell_type": "markdown",
   "id": "ec45d0ff-72db-4250-bede-5381351d6e60",
   "metadata": {},
   "source": [
    "$n=5, r=15$"
   ]
  },
  {
   "cell_type": "code",
   "execution_count": 19,
   "id": "08eae211-461a-4cd4-a97e-652dd94943c5",
   "metadata": {},
   "outputs": [
    {
     "name": "stdout",
     "output_type": "stream",
     "text": [
      "p=101\n"
     ]
    },
    {
     "data": {
      "text/plain": [
       "6×15 Matrix{FqFieldElem}:\n",
       " 56  43  63  23  80  83  90  35  78  51  44  87  93  32  31\n",
       " 30  10  0   31  35  51  20  50  17  88  72  32  7   46  54\n",
       " 54  86  10  49  38  83  3   57  1   51  6   52  31  5   21\n",
       " 19  32  2   55  50  3   46  66  81  94  85  44  45  65  61\n",
       " 24  7   51  43  7   63  99  22  82  7   3   14  35  52  28\n",
       " 65  89  54  79  29  80  11  99  31  79  46  86  76  19  65"
      ]
     },
     "execution_count": 19,
     "metadata": {},
     "output_type": "execute_result"
    }
   ],
   "source": [
    "n = 5\n",
    "r = 15\n",
    "\n",
    "D, Drev = TensorDecomposition.makeDicts(n, 4);\n",
    "basis_inds = collect(1:r)\n",
    "basis, basisD = TensorDecomposition.basisFn(basis_inds, Drev);\n",
    "\n",
    "vars = TensorDecomposition.varTups(basis, n, 4)\n",
    "eqs1, eqs2 = TensorDecomposition.linEqTups(basisD, n, 4);\n",
    "\n",
    "Z_ = proofs[\"$n/$r/Z\"]\n",
    "p = proofs[\"$n/$r/p\"]\n",
    "\n",
    "println(\"p=$p\")\n",
    "\n",
    "F = GF(p)\n",
    "Z = F.(Z_)\n",
    "Z"
   ]
  },
  {
   "cell_type": "code",
   "execution_count": 16,
   "id": "1ea0bee5-b1cb-47af-8fe2-fed05c0ad731",
   "metadata": {},
   "outputs": [
    {
     "data": {
      "text/plain": [
       "56"
      ]
     },
     "execution_count": 16,
     "metadata": {},
     "output_type": "execute_result"
    }
   ],
   "source": [
    "T = TensorDecomposition.rankedTensor(F.(ones(Int, r)), Z, 4; type=F);\n",
    "\n",
    "Tcat = TensorDecomposition.catMat(T, 2)\n",
    "H0 = Tcat[basis_inds, basis_inds]\n",
    "\n",
    "det(matrix(H0))"
   ]
  },
  {
   "cell_type": "code",
   "execution_count": 17,
   "id": "2e604eb3-aac4-42b9-aec1-4e1eb7f0e44d",
   "metadata": {},
   "outputs": [
    {
     "data": {
      "text/plain": [
       "true"
      ]
     },
     "execution_count": 17,
     "metadata": {},
     "output_type": "execute_result"
    }
   ],
   "source": [
    "A = TensorDecomposition.linearSystemA(T, H0, basis_inds, basisD, D, vars, eqs1, eqs2; type=F);\n",
    "rA = Nemo.lu(matrix(A))[1]\n",
    "rA == length(vars)"
   ]
  },
  {
   "cell_type": "markdown",
   "id": "858f98c9-36ff-4ea3-aeea-62b68551c71b",
   "metadata": {},
   "source": [
    "$n=11, r=64$"
   ]
  },
  {
   "cell_type": "code",
   "execution_count": 26,
   "id": "63e6a662-1b14-4730-a252-3a5b9831fc47",
   "metadata": {},
   "outputs": [
    {
     "name": "stdout",
     "output_type": "stream",
     "text": [
      "p=311\n"
     ]
    },
    {
     "data": {
      "text/plain": [
       "12×64 Matrix{FqFieldElem}:\n",
       " 254  15   104  173  163  212  69   3    …  151  67   27   250  294  18   38\n",
       " 307  292  192  280  231  236  87   156     243  70   138  47   120  39   92\n",
       " 23   177  94   29   271  256  221  4       240  301  137  221  109  14   110\n",
       " 32   228  214  126  174  124  47   298     220  6    245  116  46   11   229\n",
       " 296  2    110  255  0    254  229  71      59   142  67   20   88   63   191\n",
       " 118  43   186  9    97   36   39   23   …  185  12   145  263  302  71   116\n",
       " 94   269  180  64   306  242  150  192     228  172  105  275  24   218  172\n",
       " 284  88   116  217  18   34   70   107     191  54   209  127  226  191  76\n",
       " 299  20   225  28   74   41   193  9       280  235  58   67   232  275  137\n",
       " 252  115  238  242  276  85   57   64      144  119  78   277  174  231  164\n",
       " 168  79   147  243  71   217  186  237  …  55   155  68   251  214  34   210\n",
       " 283  251  212  307  149  127  215  8       275  246  144  66   267  157  277"
      ]
     },
     "execution_count": 26,
     "metadata": {},
     "output_type": "execute_result"
    }
   ],
   "source": [
    "n = 11\n",
    "r = 64\n",
    "\n",
    "D, Drev = TensorDecomposition.makeDicts(n, 4);\n",
    "basis_inds = collect(1:r)\n",
    "basis, basisD = TensorDecomposition.basisFn(basis_inds, Drev);\n",
    "\n",
    "vars = TensorDecomposition.varTups(basis, n, 4)\n",
    "eqs1, eqs2 = TensorDecomposition.linEqTups(basisD, n, 4);\n",
    "\n",
    "Z_ = proofs[\"$n/$r/Z\"]\n",
    "p = proofs[\"$n/$r/p\"]\n",
    "\n",
    "println(\"p=$p\")\n",
    "\n",
    "F = GF(p)\n",
    "Z = F.(Z_)\n",
    "Z"
   ]
  },
  {
   "cell_type": "code",
   "execution_count": 27,
   "id": "7cd68b06-92b7-44f1-96f2-b71dd07e32ad",
   "metadata": {},
   "outputs": [
    {
     "data": {
      "text/plain": [
       "139"
      ]
     },
     "execution_count": 27,
     "metadata": {},
     "output_type": "execute_result"
    }
   ],
   "source": [
    "T = TensorDecomposition.rankedTensor(F.(ones(Int, r)), Z, 4; type=F);\n",
    "\n",
    "Tcat = TensorDecomposition.catMat(T, 2)\n",
    "H0 = Tcat[basis_inds, basis_inds]\n",
    "\n",
    "det(matrix(H0))"
   ]
  },
  {
   "cell_type": "code",
   "execution_count": 28,
   "id": "3ec963d9-82a8-457f-a65a-eda162833b44",
   "metadata": {},
   "outputs": [
    {
     "data": {
      "text/plain": [
       "true"
      ]
     },
     "execution_count": 28,
     "metadata": {},
     "output_type": "execute_result"
    }
   ],
   "source": [
    "A = TensorDecomposition.linearSystemA(T, H0, basis_inds, basisD, D, vars, eqs1, eqs2; type=F);\n",
    "rA = Nemo.lu(matrix(A))[1]\n",
    "rA == length(vars)"
   ]
  }
 ],
 "metadata": {
  "kernelspec": {
   "display_name": "Julia 1.10.3",
   "language": "julia",
   "name": "julia-1.10"
  },
  "language_info": {
   "file_extension": ".jl",
   "mimetype": "application/julia",
   "name": "julia",
   "version": "1.10.3"
  }
 },
 "nbformat": 4,
 "nbformat_minor": 5
}
