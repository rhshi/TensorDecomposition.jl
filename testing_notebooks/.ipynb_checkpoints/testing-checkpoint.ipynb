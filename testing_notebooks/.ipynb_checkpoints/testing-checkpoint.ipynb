{
 "cells": [
  {
   "cell_type": "code",
   "execution_count": 2,
   "metadata": {},
   "outputs": [],
   "source": [
    "using TensorDecomposition, SymPy, LinearAlgebra, Combinatorics, InvertedIndices\n",
    "import_from(sympy);"
   ]
  },
  {
   "cell_type": "code",
   "execution_count": 3,
   "metadata": {},
   "outputs": [],
   "source": [
    "function multMon2(x, i)\n",
    "    y = [j for j in x]\n",
    "    \n",
    "    y[1] -= 1\n",
    "    y[i] += 1\n",
    "    return Tuple(j for j in y)\n",
    "end\n",
    "\n",
    "function alpha_iterator(::Val{N}, s, t=()) where {N}\n",
    "    N <= 1 && return ((s, t...),) # Iterator over a single Tuple\n",
    "    Iterators.flatten(alpha_iterator(Val(N-1), s-i, (i, t...)) for i in 0:s)\n",
    "end\n",
    "\n",
    "function monomialOrder(a, b)\n",
    "    if a[1] > b[1]\n",
    "        return true\n",
    "    elseif a[1] < b[1]\n",
    "        return false\n",
    "    else \n",
    "        if maximum(a[2:end]) < maximum(b[2:end])\n",
    "            return true\n",
    "        elseif maximum(a[2:end]) > maximum(b[2:end])\n",
    "            return false\n",
    "        else\n",
    "            return !isless(a[2:end], b[2:end])\n",
    "        end \n",
    "    end\n",
    "end;\n",
    "\n",
    "function cofactor(A::AbstractMatrix)\n",
    "    ax = axes(A)\n",
    "    out = similar(A, eltype(A), ax)\n",
    "    for col in ax[1]\n",
    "        for row in ax[2]\n",
    "            out[col, row] = (-1)^(col + row) * det(A[Not(col), Not(row)])\n",
    "        end\n",
    "    end\n",
    "    return out\n",
    "end;\n",
    "\n",
    "function convertIndices(x)\n",
    "    d = sum(x)\n",
    "    y = zeros(Int, d)\n",
    "    c = 1\n",
    "    for i=1:length(x)\n",
    "        pow = x[i]\n",
    "        y[c:c+pow-1] .= i\n",
    "        c += pow\n",
    "    end \n",
    "    return y .- 1\n",
    "end;"
   ]
  },
  {
   "cell_type": "code",
   "execution_count": 4,
   "metadata": {},
   "outputs": [],
   "source": [
    "n = 3\n",
    "d = 4;"
   ]
  },
  {
   "cell_type": "code",
   "execution_count": 5,
   "metadata": {},
   "outputs": [],
   "source": [
    "r = 4;"
   ]
  },
  {
   "cell_type": "code",
   "execution_count": null,
   "metadata": {},
   "outputs": [],
   "source": []
  },
  {
   "cell_type": "code",
   "execution_count": 25,
   "metadata": {},
   "outputs": [],
   "source": [
    "Fdim = binomial(n-1+d, d);\n",
    "@variables a[1:Fdim];"
   ]
  },
  {
   "cell_type": "code",
   "execution_count": 55,
   "metadata": {},
   "outputs": [],
   "source": [
    "D = Dict(i => j for (i, j) in zip(with_replacement_combinations(1:n, d), a));"
   ]
  },
  {
   "cell_type": "code",
   "execution_count": 56,
   "metadata": {},
   "outputs": [],
   "source": [
    "T = zeros(Num, (n, n, n, n))\n",
    "for ind in Base.product(1:n, 1:n, 1:n, 1:n)\n",
    "    T[ind...] = D[sort([x for x in ind])]\n",
    "end"
   ]
  },
  {
   "cell_type": "code",
   "execution_count": 69,
   "metadata": {},
   "outputs": [],
   "source": [
    "Fliftdim = binomial(n-1+2*d, n-1)\n",
    "\n",
    "F = zeros(eltype(T), Fdim)\n",
    "alphas = sort(collect(alpha_iterator(Val(n), d)), lt=monomialOrder)\n",
    "for (i, ind) in enumerate(convertIndices.(alphas))\n",
    "    F[i] = T[(ind .+ 1)...]\n",
    "end\n",
    "\n",
    "\n",
    "Flift = Array{Num}(undef, Fliftdim)\n",
    "@variables h[1:Fliftdim-Fdim]\n",
    "Thank = Array{Num}(undef, Fdim, Fdim)\n",
    "\n",
    "for i=1:length(F)\n",
    "    Flift[i] = F[i]\n",
    "end\n",
    "\n",
    "\n",
    "for i=1:Fliftdim-Fdim\n",
    "    Flift[Fdim+i] = h[i]\n",
    "end\n",
    "\n",
    "alphas2 = sort(collect(alpha_iterator(Val(n), 2*d)), lt=monomialOrder)\n",
    "D = Dict()\n",
    "for (i, ind) in enumerate(alphas2)\n",
    "    D[ind] = i\n",
    "end\n",
    "\n",
    "for (i, row_ind) in enumerate(alphas)\n",
    "    for (j, col_ind) in enumerate(alphas)\n",
    "        row_mon = [x for x in row_ind]\n",
    "        col_mon = [x for x in col_ind]\n",
    "        ind = Tuple(x for x in row_mon+col_mon)\n",
    "        Thank[i, j] = Flift[D[ind]]\n",
    "    end\n",
    "end"
   ]
  },
  {
   "cell_type": "code",
   "execution_count": 82,
   "metadata": {},
   "outputs": [
    {
     "data": {
      "text/latex": [
       "$$ \\begin{equation}\n",
       "\\left[\n",
       "\\begin{array}{ccccccccccccccc}\n",
       "a_1 & a_2 & a_3 & a_5 & a_4 & a_6 & a_8 & a_9 & a_7 & a_{1 0} & a_{1 3} & a_{1 2} & a_{1 4} & a_{1 1} & a_{1 5} \\\\\n",
       "a_2 & a_4 & a_5 & a_8 & a_7 & a_9 & a_{1 2} & a_{1 3} & a_{1 1} & a_{1 4} & h_1 & h_3 & h_2 & h_5 & h_4 \\\\\n",
       "a_3 & a_5 & a_6 & a_9 & a_8 & a_{1 0} & a_{1 3} & a_{1 4} & a_{1 2} & a_{1 5} & h_2 & h_1 & h_4 & h_3 & h_6 \\\\\n",
       "a_5 & a_8 & a_9 & a_{1 3} & a_{1 2} & a_{1 4} & h_1 & h_2 & h_3 & h_4 & h_7 & h_8 & h_9 & h_{1 0} & h_{1 1} \\\\\n",
       "a_4 & a_7 & a_8 & a_{1 2} & a_{1 1} & a_{1 3} & h_3 & h_1 & h_5 & h_2 & h_8 & h_{1 0} & h_7 & h_{1 2} & h_9 \\\\\n",
       "a_6 & a_9 & a_{1 0} & a_{1 4} & a_{1 3} & a_{1 5} & h_2 & h_4 & h_1 & h_6 & h_9 & h_7 & h_{1 1} & h_8 & h_{1 3} \\\\\n",
       "a_8 & a_{1 2} & a_{1 3} & h_1 & h_3 & h_2 & h_8 & h_7 & h_{1 0} & h_9 & h_{1 4} & h_{1 6} & h_{1 5} & h_{1 8} & h_{1 7} \\\\\n",
       "a_9 & a_{1 3} & a_{1 4} & h_2 & h_1 & h_4 & h_7 & h_9 & h_8 & h_{1 1} & h_{1 5} & h_{1 4} & h_{1 7} & h_{1 6} & h_{1 9} \\\\\n",
       "a_7 & a_{1 1} & a_{1 2} & h_3 & h_5 & h_1 & h_{1 0} & h_8 & h_{1 2} & h_7 & h_{1 6} & h_{1 8} & h_{1 4} & h_{2 0} & h_{1 5} \\\\\n",
       "a_{1 0} & a_{1 4} & a_{1 5} & h_4 & h_2 & h_6 & h_9 & h_{1 1} & h_7 & h_{1 3} & h_{1 7} & h_{1 5} & h_{1 9} & h_{1 4} & h_{2 1} \\\\\n",
       "a_{1 3} & h_1 & h_2 & h_7 & h_8 & h_9 & h_{1 4} & h_{1 5} & h_{1 6} & h_{1 7} & h_{2 2} & h_{2 3} & h_{2 4} & h_{2 5} & h_{2 6} \\\\\n",
       "a_{1 2} & h_3 & h_1 & h_8 & h_{1 0} & h_7 & h_{1 6} & h_{1 4} & h_{1 8} & h_{1 5} & h_{2 3} & h_{2 5} & h_{2 2} & h_{2 7} & h_{2 4} \\\\\n",
       "a_{1 4} & h_2 & h_4 & h_9 & h_7 & h_{1 1} & h_{1 5} & h_{1 7} & h_{1 4} & h_{1 9} & h_{2 4} & h_{2 2} & h_{2 6} & h_{2 3} & h_{2 8} \\\\\n",
       "a_{1 1} & h_5 & h_3 & h_{1 0} & h_{1 2} & h_8 & h_{1 8} & h_{1 6} & h_{2 0} & h_{1 4} & h_{2 5} & h_{2 7} & h_{2 3} & h_{2 9} & h_{2 2} \\\\\n",
       "a_{1 5} & h_4 & h_6 & h_{1 1} & h_9 & h_{1 3} & h_{1 7} & h_{1 9} & h_{1 5} & h_{2 1} & h_{2 6} & h_{2 4} & h_{2 8} & h_{2 2} & h_{3 0} \\\\\n",
       "\\end{array}\n",
       "\\right]\n",
       "\\end{equation}\n",
       " $$"
      ],
      "text/plain": [
       "15×15 Matrix{Num}:\n",
       "  a[1]   a[2]   a[3]   a[5]   a[4]  …  a[13]  a[12]  a[14]  a[11]  a[15]\n",
       "  a[2]   a[4]   a[5]   a[8]   a[7]      h[1]   h[3]   h[2]   h[5]   h[4]\n",
       "  a[3]   a[5]   a[6]   a[9]   a[8]      h[2]   h[1]   h[4]   h[3]   h[6]\n",
       "  a[5]   a[8]   a[9]  a[13]  a[12]      h[7]   h[8]   h[9]  h[10]  h[11]\n",
       "  a[4]   a[7]   a[8]  a[12]  a[11]      h[8]  h[10]   h[7]  h[12]   h[9]\n",
       "  a[6]   a[9]  a[10]  a[14]  a[13]  …   h[9]   h[7]  h[11]   h[8]  h[13]\n",
       "  a[8]  a[12]  a[13]   h[1]   h[3]     h[14]  h[16]  h[15]  h[18]  h[17]\n",
       "  a[9]  a[13]  a[14]   h[2]   h[1]     h[15]  h[14]  h[17]  h[16]  h[19]\n",
       "  a[7]  a[11]  a[12]   h[3]   h[5]     h[16]  h[18]  h[14]  h[20]  h[15]\n",
       " a[10]  a[14]  a[15]   h[4]   h[2]     h[17]  h[15]  h[19]  h[14]  h[21]\n",
       " a[13]   h[1]   h[2]   h[7]   h[8]  …  h[22]  h[23]  h[24]  h[25]  h[26]\n",
       " a[12]   h[3]   h[1]   h[8]  h[10]     h[23]  h[25]  h[22]  h[27]  h[24]\n",
       " a[14]   h[2]   h[4]   h[9]   h[7]     h[24]  h[22]  h[26]  h[23]  h[28]\n",
       " a[11]   h[5]   h[3]  h[10]  h[12]     h[25]  h[27]  h[23]  h[29]  h[22]\n",
       " a[15]   h[4]   h[6]  h[11]   h[9]     h[26]  h[24]  h[28]  h[22]  h[30]"
      ]
     },
     "execution_count": 82,
     "metadata": {},
     "output_type": "execute_result"
    }
   ],
   "source": [
    "Thank"
   ]
  },
  {
   "cell_type": "code",
   "execution_count": 71,
   "metadata": {},
   "outputs": [],
   "source": [
    "H0 = Thank[1:r, 1:r];\n",
    "H0_inv = inv(H0);"
   ]
  },
  {
   "cell_type": "code",
   "execution_count": 72,
   "metadata": {},
   "outputs": [],
   "source": [
    "alphas = sort(collect(alpha_iterator(Val(n), d)), lt=monomialOrder)\n",
    "D = Dict()\n",
    "first_r = []\n",
    "for (i, ind) in enumerate(alphas)\n",
    "    if i <= r\n",
    "        push!(first_r, ind)\n",
    "    end\n",
    "    D[ind] = i\n",
    "end\n",
    "\n",
    "Hs = []\n",
    "for i=2:n\n",
    "    hankInds = []\n",
    "    multMap = map(x -> multMon2(x, i), first_r)\n",
    "    for ind in multMap\n",
    "        push!(hankInds, D[ind])\n",
    "    end\n",
    "    push!(Hs, Thank[1:r, hankInds])\n",
    "end"
   ]
  },
  {
   "cell_type": "code",
   "execution_count": 73,
   "metadata": {},
   "outputs": [],
   "source": [
    "Ms = []\n",
    "for H in Hs\n",
    "    push!(Ms, H*H0_inv)\n",
    "end;"
   ]
  },
  {
   "cell_type": "code",
   "execution_count": 74,
   "metadata": {},
   "outputs": [],
   "source": [
    "Ms2 = []\n",
    "for H in Hs\n",
    "    push!(Ms2, Symbolics.simplify.(H*cofactor(H0), expand=true))\n",
    "end"
   ]
  },
  {
   "cell_type": "code",
   "execution_count": 75,
   "metadata": {},
   "outputs": [],
   "source": [
    "eqMat = Ms2[1]*Ms2[2]-Ms2[2]*Ms2[1];"
   ]
  },
  {
   "cell_type": "code",
   "execution_count": 85,
   "metadata": {},
   "outputs": [],
   "source": [
    "vars = [h[1], h[2]];"
   ]
  },
  {
   "cell_type": "code",
   "execution_count": 90,
   "metadata": {},
   "outputs": [
    {
     "data": {
      "text/latex": [
       "$$ \\begin{equation}\n",
       "\\left[\n",
       "\\begin{array}{c}\n",
       "0 \\\\\n",
       "0 \\\\\n",
       "0 \\\\\n",
       "0 \\\\\n",
       "\\end{array}\n",
       "\\right]\n",
       "\\end{equation}\n",
       " $$"
      ],
      "text/plain": [
       "4-element Vector{Num}:\n",
       " 0\n",
       " 0\n",
       " 0\n",
       " 0"
      ]
     },
     "execution_count": 90,
     "metadata": {},
     "output_type": "execute_result"
    }
   ],
   "source": [
    "eqMat[1, :]"
   ]
  },
  {
   "cell_type": "code",
   "execution_count": 92,
   "metadata": {},
   "outputs": [],
   "source": [
    "linEquations = []\n",
    "for i in 2:4\n",
    "   append!(linEquations, eqMat[i, :]) \n",
    "end"
   ]
  },
  {
   "cell_type": "code",
   "execution_count": 99,
   "metadata": {},
   "outputs": [
    {
     "data": {
      "text/latex": [
       "$$ \\begin{equation}\n",
       "\\left( a_5^{3} a_4 + a_2^{2} a_8 a_9 + a_4^{2} a_3 a_9 + a_3^{2} a_7 a_8 + a_8^{2} a_1 a_5 - a_5^{2} a_2 a_8 - a_3^{2} a_4 a_{1 2} - a_8^{2} a_2 a_3 - a_5^{2} a_3 a_7 - a_5^{2} a_1 a_{1 2} - a_2^{2} a_6 a_{1 2} - a_4^{2} a_5 a_6 + a_2 a_4 a_6 a_8 + a_2 a_5 a_6 a_7 + a_1 a_5 a_7 a_9 + a_1 a_4 a_6 a_{1 2} - a_2 a_3 a_7 a_9 + 2 a_2 a_3 a_5 a_{1 2} - a_1 a_4 a_8 a_9 - a_1 a_6 a_7 a_8 - a_2 a_4 a_5 a_9 \\right) \\left( a_5^{3} h_2 - a_9^{3} a_4 + a_{1 3}^{2} a_3 a_5 + a_9^{2} a_2 a_{1 3} + a_8^{2} a_3 a_{1 4} - a_{1 3}^{2} a_2 a_6 - 2 a_5^{2} a_9 a_{1 3} + 2 a_9^{2} a_5 a_8 - a_8^{2} a_6 a_9 + a_5 a_6 a_8 a_{1 3} + a_4 a_6 a_9 a_{1 3} - a_5^{2} a_8 a_{1 4} + a_3 a_4 a_9 h_2 + a_2 a_6 a_8 h_2 + a_2 a_5 a_{1 3} a_{1 4} + a_4 a_5 a_9 a_{1 4} - a_3 a_8 a_9 a_{1 3} - a_2 a_8 a_9 a_{1 4} - a_3 a_5 a_8 h_2 - a_2 a_5 a_9 h_2 - a_4 a_5 a_6 h_2 - a_3 a_4 a_{1 3} a_{1 4} \\right) + \\left( a_9^{3} a_2 + a_5^{3} a_{1 4} - a_9^{2} a_5^{2} - a_8^{2} a_6^{2} + a_8^{2} a_3 a_{1 0} + a_6^{2} a_4 a_{1 3} - a_5^{2} a_6 a_{1 3} - a_5^{2} a_8 a_{1 0} - a_9^{2} a_4 a_6 - a_9^{2} a_3 a_8 + a_3 a_5 a_9 a_{1 3} + a_4 a_5 a_9 a_{1 0} + a_3 a_4 a_9 a_{1 4} + a_2 a_5 a_{1 0} a_{1 3} + a_2 a_6 a_8 a_{1 4} - a_2 a_8 a_9 a_{1 0} - a_4 a_5 a_6 a_{1 4} - a_2 a_5 a_9 a_{1 4} - a_2 a_6 a_9 a_{1 3} + 3 a_5 a_6 a_8 a_9 - a_3 a_4 a_{1 0} a_{1 3} - a_3 a_5 a_8 a_{1 4} \\right) \\left( a_5^{3} a_7 - a_8^{3} a_1 + a_4^{2} a_5 a_9 + a_8^{2} a_3 a_4 + a_2^{2} a_9 a_{1 2} + 2 a_8^{2} a_2 a_5 - 2 a_5^{2} a_4 a_8 - a_4^{2} a_3 a_{1 3} - a_5^{2} a_2 a_{1 2} + a_1 a_5 a_8 a_{1 2} + a_2 a_4 a_5 a_{1 3} + a_1 a_7 a_8 a_9 + a_2 a_3 a_7 a_{1 3} - a_2^{2} a_8 a_{1 3} + a_1 a_4 a_8 a_{1 3} + a_3 a_4 a_5 a_{1 2} - a_2 a_5 a_7 a_9 - a_2 a_3 a_8 a_{1 2} - a_1 a_4 a_9 a_{1 2} - a_1 a_5 a_7 a_{1 3} - a_2 a_4 a_8 a_9 - a_3 a_5 a_7 a_8 \\right) - \\left( a_8^{2} a_3^{2} + a_9^{2} a_2^{2} + a_5^{4} - a_5^{2} a_1 a_{1 3} - a_5^{2} a_4 a_6 - a_8^{2} a_1 a_6 - 2 a_5^{2} a_2 a_9 - 2 a_5^{2} a_3 a_8 - a_2^{2} a_6 a_{1 3} - a_3^{2} a_4 a_{1 3} - a_9^{2} a_1 a_4 + a_1 a_4 a_6 a_{1 3} - 2 a_2 a_3 a_8 a_9 + 2 a_3 a_4 a_5 a_9 + 2 a_2 a_5 a_6 a_8 + 2 a_2 a_3 a_5 a_{1 3} + 2 a_1 a_5 a_8 a_9 \\right) \\left( a_5^{3} h_1 - a_8^{3} a_6 + a_9^{2} a_2 a_{1 2} + a_8^{2} a_3 a_{1 3} + a_{1 3}^{2} a_2 a_5 - a_5^{2} a_9 a_{1 2} + 2 a_8^{2} a_5 a_9 - a_9^{2} a_4 a_8 - 2 a_5^{2} a_8 a_{1 3} - a_{1 3}^{2} a_3 a_4 + a_3 a_4 a_9 h_1 + a_4 a_5 a_9 a_{1 3} + a_3 a_5 a_{1 2} a_{1 3} + a_2 a_6 a_8 h_1 + a_5 a_6 a_8 a_{1 2} + a_4 a_6 a_8 a_{1 3} - a_3 a_5 a_8 h_1 - a_3 a_8 a_9 a_{1 2} - a_2 a_6 a_{1 2} a_{1 3} - a_2 a_5 a_9 h_1 - a_4 a_5 a_6 h_1 - a_2 a_8 a_9 a_{1 3} \\right)\n",
       "\\end{equation}\n",
       " $$"
      ],
      "text/plain": [
       "((a[5]^3)*a[4] + (a[2]^2)*a[8]*a[9] + (a[4]^2)*a[3]*a[9] + (a[3]^2)*a[7]*a[8] + (a[8]^2)*a[1]*a[5] + a[2]*a[4]*a[6]*a[8] + a[2]*a[5]*a[6]*a[7] + a[1]*a[5]*a[7]*a[9] + a[1]*a[4]*a[6]*a[12] + 2a[2]*a[3]*a[5]*a[12] - (a[5]^2)*a[2]*a[8] - (a[3]^2)*a[4]*a[12] - (a[8]^2)*a[2]*a[3] - (a[5]^2)*a[3]*a[7] - (a[5]^2)*a[1]*a[12] - (a[2]^2)*a[6]*a[12] - (a[4]^2)*a[5]*a[6] - a[2]*a[3]*a[7]*a[9] - a[1]*a[4]*a[8]*a[9] - a[1]*a[6]*a[7]*a[8] - a[2]*a[4]*a[5]*a[9])*((a[5]^3)*h[2] + (a[13]^2)*a[3]*a[5] + (a[9]^2)*a[2]*a[13] + (a[8]^2)*a[3]*a[14] + 2(a[9]^2)*a[5]*a[8] + a[5]*a[6]*a[8]*a[13] + a[4]*a[6]*a[9]*a[13] + a[3]*a[4]*a[9]*h[2] + a[2]*a[6]*a[8]*h[2] + a[2]*a[5]*a[13]*a[14] + a[4]*a[5]*a[9]*a[14] - (a[9]^3)*a[4] - (a[13]^2)*a[2]*a[6] - 2(a[5]^2)*a[9]*a[13] - (a[8]^2)*a[6]*a[9] - (a[5]^2)*a[8]*a[14] - a[3]*a[8]*a[9]*a[13] - a[2]*a[8]*a[9]*a[14] - a[3]*a[5]*a[8]*h[2] - a[2]*a[5]*a[9]*h[2] - a[4]*a[5]*a[6]*h[2] - a[3]*a[4]*a[13]*a[14]) + ((a[9]^3)*a[2] + (a[5]^3)*a[14] + (a[8]^2)*a[3]*a[10] + (a[6]^2)*a[4]*a[13] + a[3]*a[5]*a[9]*a[13] + a[4]*a[5]*a[9]*a[10] + a[3]*a[4]*a[9]*a[14] + a[2]*a[5]*a[10]*a[13] + a[2]*a[6]*a[8]*a[14] + 3a[5]*a[6]*a[8]*a[9] - (a[5]^2)*(a[9]^2) - (a[6]^2)*(a[8]^2) - (a[5]^2)*a[6]*a[13] - (a[5]^2)*a[8]*a[10] - (a[9]^2)*a[4]*a[6] - (a[9]^2)*a[3]*a[8] - a[2]*a[8]*a[9]*a[10] - a[4]*a[5]*a[6]*a[14] - a[2]*a[5]*a[9]*a[14] - a[2]*a[6]*a[9]*a[13] - a[3]*a[4]*a[10]*a[13] - a[3]*a[5]*a[8]*a[14])*((a[5]^3)*a[7] + (a[4]^2)*a[5]*a[9] + (a[8]^2)*a[3]*a[4] + (a[2]^2)*a[9]*a[12] + 2(a[8]^2)*a[2]*a[5] + a[1]*a[5]*a[8]*a[12] + a[2]*a[4]*a[5]*a[13] + a[1]*a[7]*a[8]*a[9] + a[2]*a[3]*a[7]*a[13] + a[1]*a[4]*a[8]*a[13] + a[3]*a[4]*a[5]*a[12] - (a[8]^3)*a[1] - 2(a[5]^2)*a[4]*a[8] - (a[4]^2)*a[3]*a[13] - (a[5]^2)*a[2]*a[12] - (a[2]^2)*a[8]*a[13] - a[2]*a[5]*a[7]*a[9] - a[2]*a[3]*a[8]*a[12] - a[1]*a[4]*a[9]*a[12] - a[1]*a[5]*a[7]*a[13] - a[2]*a[4]*a[8]*a[9] - a[3]*a[5]*a[7]*a[8]) - ((a[3]^2)*(a[8]^2) + (a[2]^2)*(a[9]^2) + a[5]^4 + a[1]*a[4]*a[6]*a[13] + 2a[3]*a[4]*a[5]*a[9] + 2a[2]*a[5]*a[6]*a[8] + 2a[2]*a[3]*a[5]*a[13] + 2a[1]*a[5]*a[8]*a[9] - (a[5]^2)*a[1]*a[13] - (a[5]^2)*a[4]*a[6] - (a[8]^2)*a[1]*a[6] - 2(a[5]^2)*a[2]*a[9] - 2(a[5]^2)*a[3]*a[8] - (a[2]^2)*a[6]*a[13] - (a[3]^2)*a[4]*a[13] - (a[9]^2)*a[1]*a[4] - 2a[2]*a[3]*a[8]*a[9])*((a[5]^3)*h[1] + (a[9]^2)*a[2]*a[12] + (a[8]^2)*a[3]*a[13] + (a[13]^2)*a[2]*a[5] + 2(a[8]^2)*a[5]*a[9] + a[3]*a[4]*a[9]*h[1] + a[4]*a[5]*a[9]*a[13] + a[3]*a[5]*a[12]*a[13] + a[2]*a[6]*a[8]*h[1] + a[5]*a[6]*a[8]*a[12] + a[4]*a[6]*a[8]*a[13] - (a[8]^3)*a[6] - (a[5]^2)*a[9]*a[12] - (a[9]^2)*a[4]*a[8] - 2(a[5]^2)*a[8]*a[13] - (a[13]^2)*a[3]*a[4] - a[3]*a[5]*a[8]*h[1] - a[3]*a[8]*a[9]*a[12] - a[2]*a[6]*a[12]*a[13] - a[2]*a[5]*a[9]*h[1] - a[4]*a[5]*a[6]*h[1] - a[2]*a[8]*a[9]*a[13])"
      ]
     },
     "execution_count": 99,
     "metadata": {},
     "output_type": "execute_result"
    }
   ],
   "source": [
    "linEquations[1]"
   ]
  },
  {
   "cell_type": "code",
   "execution_count": 102,
   "metadata": {},
   "outputs": [
    {
     "ename": "LoadError",
     "evalue": "TypeError: non-boolean (SymbolicUtils.BasicSymbolic{Bool}) used in boolean context",
     "output_type": "error",
     "traceback": [
      "TypeError: non-boolean (SymbolicUtils.BasicSymbolic{Bool}) used in boolean context",
      "",
      "Stacktrace:",
      "  [1] _all(f::typeof(iszero), itr::Vector{Any}, #unused#::Colon)",
      "    @ Base ./reduce.jl:1287",
      "  [2] all(f::Function, a::Vector{Any}; dims::Function)",
      "    @ Base ./reducedim.jl:1007",
      "  [3] all(f::Function, a::Vector{Any})",
      "    @ Base ./reducedim.jl:1007",
      "  [4] coeff(p::SymbolicUtils.BasicSymbolic{Real}, sym::SymbolicUtils.BasicSymbolic{Real})",
      "    @ Symbolics ~/.julia/packages/Symbolics/3jLt1/src/utils.jl:321",
      "  [5] (::Symbolics.var\"#59#61\"{SymbolicUtils.BasicSymbolic{Real}})(::Pair{Any, Any})",
      "    @ Symbolics ./none:0",
      "  [6] MappingRF",
      "    @ ./reduce.jl:95 [inlined]",
      "  [7] _foldl_impl(op::Base.MappingRF{Symbolics.var\"#59#61\"{SymbolicUtils.BasicSymbolic{Real}}, Base.BottomRF{typeof(Base.add_sum)}}, init::Base._InitialValue, itr::Dict{Any, Any})",
      "    @ Base ./reduce.jl:62",
      "  [8] foldl_impl",
      "    @ ./reduce.jl:48 [inlined]",
      "  [9] mapfoldl_impl",
      "    @ ./reduce.jl:44 [inlined]",
      " [10] #mapfoldl#288",
      "    @ ./reduce.jl:170 [inlined]",
      " [11] mapfoldl",
      "    @ ./reduce.jl:170 [inlined]",
      " [12] #mapreduce#292",
      "    @ ./reduce.jl:302 [inlined]",
      " [13] mapreduce",
      "    @ ./reduce.jl:302 [inlined]",
      " [14] #sum#295",
      "    @ ./reduce.jl:530 [inlined]",
      " [15] sum",
      "    @ ./reduce.jl:530 [inlined]",
      " [16] #sum#296",
      "    @ ./reduce.jl:559 [inlined]",
      " [17] sum(a::Base.Generator{Dict{Any, Any}, Symbolics.var\"#59#61\"{SymbolicUtils.BasicSymbolic{Real}}})",
      "    @ Base ./reduce.jl:559",
      " [18] coeff(p::Num, sym::Num)",
      "    @ Symbolics ~/.julia/packages/Symbolics/3jLt1/src/utils.jl:316",
      " [19] top-level scope",
      "    @ In[102]:1"
     ]
    }
   ],
   "source": [
    "Symbolics.coeff(linEquations[1], h[2])"
   ]
  },
  {
   "cell_type": "code",
   "execution_count": null,
   "metadata": {},
   "outputs": [],
   "source": []
  }
 ],
 "metadata": {
  "@webio": {
   "lastCommId": null,
   "lastKernelId": null
  },
  "kernelspec": {
   "display_name": "Julia 1.9.0",
   "language": "julia",
   "name": "julia-1.9"
  },
  "language_info": {
   "file_extension": ".jl",
   "mimetype": "application/julia",
   "name": "julia",
   "version": "1.9.0"
  }
 },
 "nbformat": 4,
 "nbformat_minor": 2
}
