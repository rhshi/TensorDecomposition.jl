{
 "cells": [
  {
   "cell_type": "code",
   "execution_count": 1,
   "metadata": {},
   "outputs": [],
   "source": [
    "using TensorDecomposition, Symbolics, LinearAlgebra"
   ]
  },
  {
   "cell_type": "code",
   "execution_count": 104,
   "metadata": {},
   "outputs": [],
   "source": [
    "n = 3;\n",
    "d = 4;\n",
    "r = 8;"
   ]
  },
  {
   "cell_type": "code",
   "execution_count": 107,
   "metadata": {},
   "outputs": [],
   "source": [
    "T, A, L = randomRankedTensor(n+1, d, r; real=true);"
   ]
  },
  {
   "cell_type": "code",
   "execution_count": 106,
   "metadata": {},
   "outputs": [],
   "source": [
    "vars, Hs, Ms, eqMats, linearEqs, A_, b = hankel_system_fast(T, r, round_zero=false);"
   ]
  },
  {
   "cell_type": "code",
   "execution_count": 108,
   "metadata": {},
   "outputs": [
    {
     "name": "stdout",
     "output_type": "stream",
     "text": [
      "\u001b[32mTracking 32641 paths... 100%|███████████████████████████| Time: 0:47:02\u001b[39m\n",
      "\u001b[34m  # paths tracked:                  32641\u001b[39m\n",
      "\u001b[34m  # non-singular solutions (real):  2 (2)\u001b[39m\n",
      "\u001b[34m  # singular endpoints (real):      0 (0)\u001b[39m\n",
      "\u001b[34m  # total solutions (real):         2 (2)\u001b[39m\n",
      "Vector{ComplexF64}[[-90.09405738321699 + 4.246905135071141e-9im, 15.120090042641486 - 8.172444752783411e-10im, -60.51562970053912 + 3.0838237962704355e-9im, -8.96752437424934 + 1.6467551158569924e-10im, 8.013931941813981 - 6.024738947104982e-10im, -41.319659684978134 + 2.25430222612792e-9im, 10.848632684823894 - 3.775220921124154e-11im, -3.4084295927761046 + 1.348851178316876e-10im, 5.028610648520037 - 4.671936096761838e-10im, -28.672099099853476 + 1.6991317698049677e-9im, -11.284650331960199 + 2.862098944590516e-13im, 2.4890888627871988 - 2.201312112363359e-11im, -0.8583683324153047 + 1.1524147488378724e-10im, 30.099472889250013 + 9.743387309676695e-11im, -11.744319958780544 - 2.2168073991449358e-10im], [1.4624771615066596 + 4.761165374173275e-10im, 3.5470664855102667 - 4.546796189152413e-11im, 3.3265270963896687 + 3.561827098671187e-10im, -6.60756909854563 - 1.0181309852207804e-11im, 0.276076754025778 - 4.027728280226636e-11im, 3.2858757894449413 + 2.6166055203101567e-10im, 9.837073239075506 + 1.1584349366330462e-11im, -1.911846298676137 - 1.4663754554455495e-12im, -0.32118088313180676 - 3.170255879282197e-11im, 2.632862570834467 + 1.8996204773301386e-10im, -10.691547579993 - 8.52581978768129e-12im, 1.825984072839727 + 3.813749541339077e-12im, 0.3083057607456978 + 1.0996252002268978e-12im, 29.804225341392907 + 8.885524554768975e-12im, -11.426583089141202 + 2.1804159507759295e-12im]]\n"
     ]
    }
   ],
   "source": [
    "Ahat, Lhat, F = hankel(T);"
   ]
  },
  {
   "cell_type": "code",
   "execution_count": null,
   "metadata": {},
   "outputs": [],
   "source": []
  }
 ],
 "metadata": {
  "@webio": {
   "lastCommId": null,
   "lastKernelId": null
  },
  "kernelspec": {
   "display_name": "Julia 1.9.0",
   "language": "julia",
   "name": "julia-1.9"
  },
  "language_info": {
   "file_extension": ".jl",
   "mimetype": "application/julia",
   "name": "julia",
   "version": "1.9.0"
  }
 },
 "nbformat": 4,
 "nbformat_minor": 4
}
