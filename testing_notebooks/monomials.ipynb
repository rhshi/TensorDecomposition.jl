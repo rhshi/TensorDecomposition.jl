{
 "cells": [
  {
   "cell_type": "code",
   "execution_count": 1,
   "metadata": {
    "scrolled": true
   },
   "outputs": [],
   "source": [
    "using TensorDecomposition, Symbolics, LinearAlgebra, Combinatorics, IterTools"
   ]
  },
  {
   "cell_type": "code",
   "execution_count": 2,
   "metadata": {},
   "outputs": [],
   "source": [
    "function kronMat(A::Matrix, d)\n",
    "    if d == 1\n",
    "        B = A\n",
    "    else\n",
    "        n, r = size(A)\n",
    "        B = zeros(eltype(A), (n^d, r))\n",
    "        for i=1:r \n",
    "            B[:, i] = kron(ntuple(x->A[:, i], d)...)\n",
    "        end;\n",
    "    end;\n",
    "    return B\n",
    "end;\n",
    "\n",
    "function kronMat2(A, d)\n",
    "    n, _ = size(A)\n",
    "    A_ = kronMat(A, d)\n",
    "    inds = with_replacement_combinations(1:n, d)\n",
    "    inds = map(x->from_multiindex(x, n), inds)\n",
    "    return A_[inds, :]\n",
    "end;\n",
    "\n",
    "function makeRankedTensor2(L, A, d)\n",
    "    T = makeRankedTensor(L, A, d)\n",
    "    T[abs.(T) .<= 1e-14] .= 0\n",
    "end\n",
    "\n",
    "function from_multiindex(x, n)\n",
    "    d = length(x)\n",
    "    c = 0\n",
    "    for i=1:d-1\n",
    "        c += (x[i]-1)*n^(d-i)\n",
    "    end\n",
    "    return c + x[d]\n",
    "end;\n",
    "\n",
    "function rkF(d)\n",
    "    return 2^(d-1)\n",
    "end\n",
    "\n",
    "function rkAk(d, k)\n",
    "    c = 0\n",
    "    for i=0:k\n",
    "       c += binomial(d-1, i) \n",
    "    end\n",
    "    return c\n",
    "end\n",
    "\n",
    "function rkCatk(d, k)\n",
    "    return binomial(d, k)\n",
    "end;"
   ]
  },
  {
   "cell_type": "code",
   "execution_count": 3,
   "metadata": {},
   "outputs": [],
   "source": [
    "d = 4;\n",
    "r = rkF(d);"
   ]
  },
  {
   "cell_type": "code",
   "execution_count": 4,
   "metadata": {},
   "outputs": [],
   "source": [
    "T = zeros(repeat([d], d)...)\n",
    "for perm in permutations(1:d)\n",
    "    T[perm...] = 1\n",
    "end"
   ]
  },
  {
   "cell_type": "code",
   "execution_count": 5,
   "metadata": {},
   "outputs": [],
   "source": [
    "P = zeros(d, r)\n",
    "P[1, :] = ones(r)\n",
    "sigs = product(repeat([[-1, 1]], d-1)...)\n",
    "for (i, sig) in enumerate(sigs)\n",
    "    P[2:end, i] .= sig\n",
    "end\n",
    "\n",
    "LT = randn(d, d);"
   ]
  },
  {
   "cell_type": "code",
   "execution_count": 6,
   "metadata": {},
   "outputs": [],
   "source": [
    "a = Symbolics.variables(:a, 1:d-1)\n",
    "\n",
    "A = repeat([append!([Num(1)], [a[i] for i=1:d-1])], 2^(d-1))\n",
    "A = reduce(hcat, A) .* P;"
   ]
  },
  {
   "cell_type": "code",
   "execution_count": 7,
   "metadata": {},
   "outputs": [],
   "source": [
    "# as = (im^(1/5))*collect(2:d);\n",
    "as = randn(d-1)\n",
    "\n",
    "Asub = Symbolics.value.(Symbolics.substitute(A, Dict([a[i]=> as[i] for i=1:d-1])))\n",
    "L = prod.(eachcol(P)) ./ (r*prod(as));\n",
    "Td = makeRankedTensor(L, Asub, d);\n",
    "\n",
    "# Asub2 = permutedims((Complex.(L) .^ (1/d))) .* Asub;\n",
    "function Asubd(L, Asub, d)\n",
    "    return permutedims((Complex.(L) .^ (1/d))) .* Asub;\n",
    "end;"
   ]
  },
  {
   "cell_type": "code",
   "execution_count": 8,
   "metadata": {},
   "outputs": [
    {
     "data": {
      "text/latex": [
       "$$ \\begin{equation}\n",
       "24 x_0 x_1 x_2 x_3\n",
       "\\end{equation}\n",
       " $$"
      ],
      "text/plain": [
       "24.0x₀*x₁*x₂*x₃"
      ]
     },
     "execution_count": 8,
     "metadata": {},
     "output_type": "execute_result"
    }
   ],
   "source": [
    "x = Symbolics.variables(:x, 0:d-1)\n",
    "L_ = prod.(eachcol(P));\n",
    "F = Symbolics.simplify(Symbolics.expand(sum(sum(eachrow(A .* x)) .^ (d) .* L_))/ (r* prod(a)))"
   ]
  },
  {
   "cell_type": "code",
   "execution_count": 9,
   "metadata": {},
   "outputs": [],
   "source": [
    "B = LT*Asubd(L, Asub, d)\n",
    "B1 = B[1, :]\n",
    "LB = B1 .^ d\n",
    "B ./= permutedims(B1);"
   ]
  },
  {
   "cell_type": "code",
   "execution_count": 10,
   "metadata": {},
   "outputs": [],
   "source": [
    "TB = makeRankedTensor(LB, B, d);\n",
    "FB = sum(sum(eachrow(B .* x)) .^ (d) .* LB);"
   ]
  },
  {
   "cell_type": "code",
   "execution_count": 139,
   "metadata": {},
   "outputs": [
    {
     "data": {
      "text/plain": [
       "35×35 Matrix{HomotopyContinuation.ModelKit.Expression}:\n",
       "    50.5447994418856      24.21773328054  …  -0.674022560550836\n",
       "      24.21773328054   -12.4510257751436                    h₅₀\n",
       "    21.0787895214743    1.21793775373069                    h₅₅\n",
       "   0.148700256793748   -5.23773167662349                    h₅₆\n",
       "   -12.4510257751436   -40.8344293099627                    h₇₁\n",
       "    1.21793775373069   -14.9819966748973  …                 h₇₆\n",
       "   -5.23773167662349   0.399949385569873                    h₇₇\n",
       "    4.89634585809816   -4.57772805187065                    h₈₂\n",
       "   -2.62870098599402  -0.899755716398148                    h₈₃\n",
       "   -4.77993884669587    2.82591049574544                    h₈₄\n",
       "   -40.8344293099627   -35.7876102189222  …                 h₉₉\n",
       "   -14.9819966748973   -11.7574525421153                   h₁₀₄\n",
       "   0.399949385569873    10.6588524774269                   h₁₀₅\n",
       "                   ⋮                      ⋱  \n",
       "   -2.96099003701262                 h₃₉                   h₁₄₆\n",
       "    4.52506201870165                 h₄₀                   h₁₄₇\n",
       "    2.17223616756003                 h₄₁  …                h₁₄₈\n",
       "  -0.388535427806298                 h₄₂                   h₁₅₃\n",
       "    1.66006593008173                 h₄₃                   h₁₅₄\n",
       "   0.706930831126313                 h₄₄                   h₁₅₅\n",
       "    -2.1349405180718                 h₄₅                   h₁₅₆\n",
       " -0.0353115927592891                 h₄₆  …                h₁₆₁\n",
       "   0.308746231597474                 h₄₇                   h₁₆₂\n",
       "   0.253002224059888                 h₄₈                   h₁₆₃\n",
       "  -0.104209011975007                 h₄₉                   h₁₆₄\n",
       "  -0.674022560550836                 h₅₀                   h₁₆₅"
      ]
     },
     "execution_count": 139,
     "metadata": {},
     "output_type": "execute_result"
    }
   ],
   "source": [
    "TBhank = hankMat(real.(TB))"
   ]
  },
  {
   "cell_type": "code",
   "execution_count": null,
   "metadata": {},
   "outputs": [],
   "source": []
  }
 ],
 "metadata": {
  "@webio": {
   "lastCommId": null,
   "lastKernelId": null
  },
  "kernelspec": {
   "display_name": "Julia 1.9.0",
   "language": "julia",
   "name": "julia-1.9"
  },
  "language_info": {
   "file_extension": ".jl",
   "mimetype": "application/julia",
   "name": "julia",
   "version": "1.9.0"
  }
 },
 "nbformat": 4,
 "nbformat_minor": 4
}
