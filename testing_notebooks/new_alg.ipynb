{
 "cells": [
  {
   "cell_type": "code",
   "execution_count": 1,
   "metadata": {},
   "outputs": [],
   "source": [
    "using TensorDecomposition, Symbolics, LinearAlgebra, Combinatorics, InvertedIndices, Einsum, IterTools, HomotopyContinuation"
   ]
  },
  {
   "cell_type": "code",
   "execution_count": 62,
   "metadata": {},
   "outputs": [],
   "source": [
    "function kronMat(A::Matrix, d)\n",
    "    if d == 1\n",
    "        B = A\n",
    "    else\n",
    "        n, r = size(A)\n",
    "        B = zeros(eltype(A), (n^d, r))\n",
    "        for i=1:r \n",
    "            B[:, i] = kron(ntuple(x->A[:, i], d)...)\n",
    "        end;\n",
    "    end;\n",
    "    return B\n",
    "end;\n",
    "\n",
    "function changeBasis(T, M)\n",
    "    Tsize = size(T)\n",
    "    n1 = Tsize[1]\n",
    "    d = length(Tsize)\n",
    "    \n",
    "    n2 = size(M)[1]\n",
    "    \n",
    "    That = reshape(T, n1^d)\n",
    "    return reshape(foldl(kron, repeat([M], d))*That, repeat([n2], d)...)\n",
    "end;\n",
    "\n",
    "function e(j, n)\n",
    "    e = zeros(n)\n",
    "    e[j] = 1\n",
    "    return e\n",
    "end;\n",
    "\n",
    "function essentialVar(T, tol=1e-10)\n",
    "    Tsize = size(T)\n",
    "    n = Tsize[1]\n",
    "    d = length(Tsize)\n",
    "    \n",
    "    That = reshape(T, (n, n^(d-1)))\n",
    "    U, s, _ = svd(That)\n",
    "    inds = (abs.(s) .> tol)\n",
    "    if n == count(i->(i== 1), inds)\n",
    "        return T, I\n",
    "    else\n",
    "        U = U[:, inds]\n",
    "        return changeBasis(T, U'), U\n",
    "    end\n",
    "    \n",
    "end;\n",
    "\n",
    "function projectivize(L, A, d)\n",
    "    return permutedims((Complex.(L) .^ (1/d))) .* A;\n",
    "end;\n",
    "\n",
    "function deprojectivize(A, d)\n",
    "    B = A[1, :]\n",
    "    return B .^ d, A ./ permutedims(B)\n",
    "end;\n",
    "\n",
    "function preprocess(T, tol=1e-10)\n",
    "    T, U = essentialVar(T)\n",
    "    \n",
    "    Tsize = size(T)\n",
    "    n = Tsize[1]\n",
    "    d = length(Tsize)\n",
    "    \n",
    "    M = randn(n, n)\n",
    "    M ./= sqrt(n)\n",
    "    T = changeBasis(T, M)\n",
    "    return T, U, M\n",
    "end;\n",
    "\n",
    "function multMon(x, j)\n",
    "    c = copy(reverse(x))\n",
    "    for i=1:length(c)\n",
    "        if c[i] == 0\n",
    "            c[i] = j\n",
    "            break\n",
    "        end\n",
    "    end;\n",
    "    return sort(reverse(c))\n",
    "end;\n",
    "\n",
    "function obtainDecomp(Ms, T)\n",
    "    Ahat = zeros(ComplexF64, n, r)\n",
    "    Ahat[1, :] = ones(r)\n",
    "    for j=1:length(Ms)\n",
    "        wj, Vj = eigen(Ms[j])\n",
    "        argsort = sortperm(Vj[1, :], by=x -> (real(x), imag(x)), rev=true);\n",
    "        Ahat[j+1, :] = wj[argsort]\n",
    "    end\n",
    "    Lhat = kronMat(Ahat, d)\\reshape(T, n^d)\n",
    "    return Lhat, Ahat\n",
    "end;\n",
    "\n",
    "function postprocess(Ahat, U, LT)\n",
    "    return U*inv(LT)*Ahat\n",
    "end;\n",
    "\n",
    "function processLinEqs(linEqs, vars)\n",
    "    A = []\n",
    "    b = []\n",
    "    \n",
    "    z = zeros(length(vars))\n",
    "    \n",
    "    for linEq in linEqs\n",
    "        coeffDict = HomotopyContinuation.to_dict(linEq, hs)\n",
    "        push!(A, HomotopyContinuation.to_number.(sum([item.first * item.second for item in coeffDict])))\n",
    "        push!(b, HomotopyContinuation.to_number(coeffDict[z]))\n",
    "    end\n",
    "    return Complex.(permutedims(reduce(hcat, A))), -Complex.(b)\n",
    "    \n",
    "end;"
   ]
  },
  {
   "cell_type": "code",
   "execution_count": 63,
   "metadata": {},
   "outputs": [],
   "source": [
    "n_ = 4\n",
    "d_ = 4;"
   ]
  },
  {
   "cell_type": "code",
   "execution_count": 64,
   "metadata": {},
   "outputs": [],
   "source": [
    "r_ = 7;"
   ]
  },
  {
   "cell_type": "code",
   "execution_count": 65,
   "metadata": {},
   "outputs": [],
   "source": [
    "# T_ = zeros(repeat([d_], d_)...)\n",
    "# for perm in permutations(1:d_)\n",
    "#     T_[perm...] = 1\n",
    "# end\n",
    "\n",
    "T_, A_, L = randomRankedTensor(n_+1, d_, r_, real=false)\n",
    "A_ = projectivize(L, A_, d_)\n",
    "\n",
    "T, U, LT = preprocess(T_);"
   ]
  },
  {
   "cell_type": "code",
   "execution_count": 66,
   "metadata": {},
   "outputs": [],
   "source": [
    "tol = 1e-9;"
   ]
  },
  {
   "cell_type": "code",
   "execution_count": 67,
   "metadata": {},
   "outputs": [],
   "source": [
    "Tsize = size(T)\n",
    "n = Tsize[1]\n",
    "d = length(Tsize)\n",
    "\n",
    "r = r_;"
   ]
  },
  {
   "cell_type": "code",
   "execution_count": 68,
   "metadata": {},
   "outputs": [],
   "source": [
    "if r <= binomial(n-1+Int(floor((d-1)/2)), n-1)\n",
    "    \n",
    "    # Regime where Jennrich might work\n",
    "    \n",
    "    Tcat = catMat(T, Int(floor(d/2)))\n",
    "    H0 = Tcat[1:r, 1:r];\n",
    "    H0_inv = inv(H0)\n",
    "\n",
    "    D = Dict()\n",
    "    first_r = []\n",
    "    for (i, ind) in enumerate(with_replacement_combinations(0:n-1, d))\n",
    "        if i <= r\n",
    "            push!(first_r, ind)\n",
    "        end\n",
    "        D[Tuple(x for x in ind)] = i\n",
    "    end\n",
    "\n",
    "    Hs = []\n",
    "    for i=1:n-1\n",
    "        hankInds = []\n",
    "        multMap = map(x -> multMon(x, i), first_r)\n",
    "        for ind in multMap\n",
    "            push!(hankInds, D[Tuple(x for x in ind)])\n",
    "        end\n",
    "        push!(Hs, Tcat[1:r, hankInds])\n",
    "    end\n",
    "\n",
    "    Ms = []\n",
    "    for H in Hs\n",
    "        push!(Ms, H*H0_inv)\n",
    "    end;\n",
    "    \n",
    "    eqMats = []\n",
    "    for i=1:n-1\n",
    "        for j=i+1:n-1\n",
    "            push!(eqMats, Ms[i]*Ms[j]-Ms[j]*Ms[i])\n",
    "        end\n",
    "    end\n",
    "    if all([isapprox(eqMat, zeros(r, r), atol=tol) for eqMat in eqMats])\n",
    "        Ahat_ = projectivize(obtainDecomp(Ms, T)..., d)\n",
    "        Lhat, Ahat = deprojectivize(postprocess(Ahat_, U, LT), d)\n",
    "    else\n",
    "        error(\"Multiplication matrices do not commute\")\n",
    "    end\n",
    "    \n",
    "elseif r <= binomial(n-1+Int(floor(d/2)), n-1)\n",
    "    Thank = hankMat(T);\n",
    "    H0 = Thank[1:r, 1:r];\n",
    "    H0 = convert(Matrix{eltype(T)}, H0)\n",
    "    H0_inv = inv(H0)\n",
    "\n",
    "    D = Dict()\n",
    "    first_r = []\n",
    "    for (i, ind) in enumerate(with_replacement_combinations(0:n-1, d))\n",
    "        if i <= r\n",
    "            push!(first_r, ind)\n",
    "        end\n",
    "        D[Tuple(x for x in ind)] = i\n",
    "    end\n",
    "\n",
    "    Hs = []\n",
    "    for i=1:n-1\n",
    "        hankInds = []\n",
    "        multMap = map(x -> multMon(x, i), first_r)\n",
    "        for ind in multMap\n",
    "            push!(hankInds, D[Tuple(x for x in ind)])\n",
    "        end\n",
    "        push!(Hs, Thank[1:r, hankInds])\n",
    "    end\n",
    "    \n",
    "    hs = collect(Set(vcat(HomotopyContinuation.variables.(Hs)...)))\n",
    "    \n",
    "    eqMats = []\n",
    "    for i=1:n-1\n",
    "        for j=i+1:n-1\n",
    "            push!(eqMats, Hs[i]*H0_inv*Hs[j]-Hs[j]*H0_inv*Hs[i])\n",
    "        end\n",
    "    end\n",
    "    \n",
    "    gam = binomial(n-1+Int(floor((d-1)/2)), n-1)\n",
    "    linInds = 1:gam\n",
    "    quadInds = gam+1:r;\n",
    "    \n",
    "    linEqs = []\n",
    "    quadEqs = []\n",
    "    for eqMat in eqMats\n",
    "        append!(linEqs, HomotopyContinuation.expand.(eqMat[linInds, quadInds]))\n",
    "        append!(quadEqs, HomotopyContinuation.expand.(eqMat[quadInds, quadInds]))\n",
    "    end\n",
    "    \n",
    "    A, b = processLinEqs(linEqs, hs);\n",
    "    \n",
    "    if rank(A) == length(hs)\n",
    "        sol = A\\b\n",
    "    else\n",
    "        F = System(vcat(linEqs, quadEqs), hs)\n",
    "        result = solve(F)\n",
    "        sols = solutions(result, only_nonsingular=false)\n",
    "        if length(sols) == 0\n",
    "            error(\"There are no solutions h such that the multiplication matrices commute.  The input r is likely not the correct rank.\")\n",
    "        end\n",
    "        sol = sols[1]\n",
    "    end\n",
    "    \n",
    "    Ms = []\n",
    "    for H in Hs\n",
    "        push!(Ms, evaluate.(H, hs => sol)*H0_inv)\n",
    "    end\n",
    "    eqMatsEval = []\n",
    "    for i=1:n-1\n",
    "        for j=i+1:n-1\n",
    "            push!(eqMatsEval, Ms[i]*Ms[j]-Ms[j]*Ms[i])\n",
    "        end\n",
    "    end\n",
    "    \n",
    "    if all([isapprox(eqMat, zeros(r, r), atol=tol) for eqMat in eqMatsEval])\n",
    "        Ahat_ = projectivize(obtainDecomp(Ms, T)..., d)\n",
    "        Lhat, Ahat = deprojectivize(postprocess(Ahat_, U, LT), d)\n",
    "    else\n",
    "        error(\"Multiplication matrices do not commute\")\n",
    "    end\n",
    "    \n",
    "end;"
   ]
  },
  {
   "cell_type": "code",
   "execution_count": 69,
   "metadata": {},
   "outputs": [
    {
     "data": {
      "text/plain": [
       "0.08904222147990416 + 0.058994124124467764im"
      ]
     },
     "execution_count": 69,
     "metadata": {},
     "output_type": "execute_result"
    }
   ],
   "source": [
    "(evaluate(Hs[1], hs=>sol)*H0_inv*det(H0)*evaluate(Hs[2], hs=>sol))[end, end]"
   ]
  },
  {
   "cell_type": "code",
   "execution_count": 70,
   "metadata": {},
   "outputs": [
    {
     "data": {
      "text/plain": [
       "7×7 Matrix{Expression}:\n",
       "    1.24473302900335 + 2.02987156944498*im  …   -1.80420558783477 + 0.761552152683593*im\n",
       "  0.974747434216298 + 0.583574338176092*im      -0.854579251028303 + 1.39838310875049*im\n",
       "  -2.92293802794623 - 0.656672759949981*im         3.60277798218839 - 1.6103745238224*im\n",
       "    0.901247983703431 + 1.1460102224077*im      -1.52141642586575 + 0.277167006453012*im\n",
       "   2.00300404590654 - 0.301155783350463*im     -2.36804868614644 - 0.0565648933516582*im\n",
       " 0.565909949213915 + 0.0436538535508631*im  …                                        h₇₂\n",
       "  -1.80420558783477 + 0.761552152683593*im                                           h₇₅"
      ]
     },
     "execution_count": 70,
     "metadata": {},
     "output_type": "execute_result"
    }
   ],
   "source": [
    "Hs[1]"
   ]
  },
  {
   "cell_type": "code",
   "execution_count": 71,
   "metadata": {},
   "outputs": [
    {
     "data": {
      "text/plain": [
       "7×7 Matrix{Expression}:\n",
       "   2.23868936481794 + 3.89618934844966*im  …   -2.30531812693442 - 0.796801552517627*im\n",
       "   0.901247983703431 + 1.1460102224077*im      -1.52141642586575 + 0.277167006453012*im\n",
       "  -4.69300095083048 - 3.47510923319299*im        3.18472427964564 + 0.79054655792462*im\n",
       "  2.16143213949787 + 0.614133086516951*im      -1.23477412382999 - 0.279331027075073*im\n",
       "   5.2620566049588 - 0.875144091686886*im     -0.940718594833105 - 0.213405217062764*im\n",
       " 0.447052989858948 + 0.417345387506501*im  …                                        h₇₆\n",
       " -2.30531812693442 - 0.796801552517627*im                                           h₈₂"
      ]
     },
     "execution_count": 71,
     "metadata": {},
     "output_type": "execute_result"
    }
   ],
   "source": [
    "Hs[3]"
   ]
  },
  {
   "cell_type": "code",
   "execution_count": 75,
   "metadata": {},
   "outputs": [
    {
     "data": {
      "text/plain": [
       "7-element Vector{Expression}:\n",
       " 0.565909949213915 + 0.0436538535508631*im\n",
       "  0.185614820198838 - 0.126483757523393*im\n",
       "  -0.854579251028303 + 1.39838310875049*im\n",
       " 0.204631343703062 + 0.0695189245091315*im\n",
       "   0.294610836661797 - 1.12781241042831*im\n",
       "                                       h₇₁\n",
       "                                       h₇₂"
      ]
     },
     "execution_count": 75,
     "metadata": {},
     "output_type": "execute_result"
    }
   ],
   "source": [
    "Hs[1][:, 6]"
   ]
  },
  {
   "cell_type": "code",
   "execution_count": 76,
   "metadata": {},
   "outputs": [
    {
     "data": {
      "text/plain": [
       "7-element Vector{Expression}:\n",
       "    0.901247983703431 + 1.1460102224077*im\n",
       "  0.447052989858948 + 0.417345387506501*im\n",
       "  -2.30531812693442 - 0.796801552517627*im\n",
       "  0.389238924999511 + 0.157309926763368*im\n",
       "   1.54202280315356 - 0.702809490930823*im\n",
       " 0.204631343703062 + 0.0695189245091315*im\n",
       "  -1.52141642586575 + 0.277167006453012*im"
      ]
     },
     "execution_count": 76,
     "metadata": {},
     "output_type": "execute_result"
    }
   ],
   "source": [
    "Hs[3][:, 2]"
   ]
  },
  {
   "cell_type": "code",
   "execution_count": 85,
   "metadata": {},
   "outputs": [
    {
     "data": {
      "text/latex": [
       "$$ 0.000478492772515438 - 0.000906593583749782*im + (0.00668578198377645 + 0.00916631109538457*im)*h₇₁ + (0.00104638677026969 - 0.000406574650583025*im)*h₇₂ + (-0.00256003592016896 - 0.0106829869832836*im)*h₇₃ $$"
      ],
      "text/plain": [
       "0.000478492772515438 - 0.000906593583749782*im + (0.00668578198377645 + 0.00916631109538457*im)*h₇₁ + (0.00104638677026969 - 0.000406574650583025*im)*h₇₂ + (-0.00256003592016896 - 0.0106829869832836*im)*h₇₃"
      ]
     },
     "execution_count": 85,
     "metadata": {},
     "output_type": "execute_result"
    }
   ],
   "source": [
    "HomotopyContinuation.expand(det(Thank[[1, 2, 3, 4, 5, 6, 7, 16], [1, 2, 3, 4, 5, 6, 7, 8]]))"
   ]
  },
  {
   "cell_type": "code",
   "execution_count": 90,
   "metadata": {},
   "outputs": [
    {
     "data": {
      "text/latex": [
       "$$ -0.000478492771741959 + 0.000906593583754271*im + (-0.00668578198949094 - 0.00916631109472615*im)*h₇₁ + (-0.00104638677100752 + 0.000406574649249661*im)*h₇₂ + (0.00256003591456086 + 0.0106829869736923*im)*h₇₃ + (1.38777878078145e-17 - 5.20417042793042e-18*im)*h₇₆ $$"
      ],
      "text/plain": [
       "-0.000478492771741959 + 0.000906593583754271*im + (-0.00668578198949094 - 0.00916631109472615*im)*h₇₁ + (-0.00104638677100752 + 0.000406574649249661*im)*h₇₂ + (0.00256003591456086 + 0.0106829869736923*im)*h₇₃ + (1.38777878078145e-17 - 5.20417042793042e-18*im)*h₇₆"
      ]
     },
     "execution_count": 90,
     "metadata": {},
     "output_type": "execute_result"
    }
   ],
   "source": [
    "HomotopyContinuation.expand.(permutedims(Hs[1][:, 6])*inv(H0)*det(H0)*Hs[3][:, 2]-permutedims(Hs[3][:, 6])*inv(H0)*det(H0)*Hs[1][:, 2])[1, 1]"
   ]
  },
  {
   "cell_type": "code",
   "execution_count": null,
   "metadata": {},
   "outputs": [],
   "source": []
  }
 ],
 "metadata": {
  "@webio": {
   "lastCommId": null,
   "lastKernelId": null
  },
  "kernelspec": {
   "display_name": "Julia 1.7.2",
   "language": "julia",
   "name": "julia-1.7"
  },
  "language_info": {
   "file_extension": ".jl",
   "mimetype": "application/julia",
   "name": "julia",
   "version": "1.7.2"
  }
 },
 "nbformat": 4,
 "nbformat_minor": 4
}
