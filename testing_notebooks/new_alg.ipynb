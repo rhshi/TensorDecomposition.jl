{
 "cells": [
  {
   "cell_type": "code",
   "execution_count": 1,
   "metadata": {},
   "outputs": [],
   "source": [
    "using TensorDecomposition, Symbolics, LinearAlgebra, Combinatorics, InvertedIndices, Einsum, IterTools, HomotopyContinuation"
   ]
  },
  {
   "cell_type": "code",
   "execution_count": 2,
   "metadata": {},
   "outputs": [],
   "source": [
    "function kronMat(A::Matrix, d)\n",
    "    if d == 1\n",
    "        B = A\n",
    "    else\n",
    "        n, r = size(A)\n",
    "        B = zeros(eltype(A), (n^d, r))\n",
    "        for i=1:r \n",
    "            B[:, i] = kron(ntuple(x->A[:, i], d)...)\n",
    "        end;\n",
    "    end;\n",
    "    return B\n",
    "end;\n",
    "\n",
    "function changeBasis(T, M)\n",
    "    Tsize = size(T)\n",
    "    n1 = Tsize[1]\n",
    "    d = length(Tsize)\n",
    "    \n",
    "    n2 = size(M)[1]\n",
    "    \n",
    "    That = reshape(T, n1^d)\n",
    "    return reshape(foldl(kron, repeat([M], d))*That, repeat([n2], d)...)\n",
    "end;\n",
    "\n",
    "function e(j, n)\n",
    "    e = zeros(n)\n",
    "    e[j] = 1\n",
    "    return e\n",
    "end;\n",
    "\n",
    "function essentialVar(T, tol=1e-10)\n",
    "    Tsize = size(T)\n",
    "    n = Tsize[1]\n",
    "    d = length(Tsize)\n",
    "    \n",
    "    That = reshape(T, (n, n^(d-1)))\n",
    "    U, s, _ = svd(That)\n",
    "    inds = (abs.(s) .> tol)\n",
    "    if n == count(i->(i== 1), inds)\n",
    "        return T, I\n",
    "    else\n",
    "        U = U[:, inds]\n",
    "        return changeBasis(T, U'), U\n",
    "    end\n",
    "    \n",
    "end;\n",
    "\n",
    "function projectivize(L, A, d)\n",
    "    return permutedims((Complex.(L) .^ (1/d))) .* A;\n",
    "end;\n",
    "\n",
    "function deprojectivize(A, d)\n",
    "    B = A[1, :]\n",
    "    return B .^ d, A ./ permutedims(B)\n",
    "end;\n",
    "\n",
    "function preprocess(T, tol=1e-10)\n",
    "    T, U = essentialVar(T)\n",
    "    \n",
    "    Tsize = size(T)\n",
    "    n = Tsize[1]\n",
    "    d = length(Tsize)\n",
    "    \n",
    "    M = randn(n, n)\n",
    "    M ./= sqrt(n)\n",
    "    T = changeBasis(T, M)\n",
    "    return T, U, M\n",
    "end;\n",
    "\n",
    "function multMon(x, j)\n",
    "    c = copy(reverse(x))\n",
    "    for i=1:length(c)\n",
    "        if c[i] == 0\n",
    "            c[i] = j\n",
    "            break\n",
    "        end\n",
    "    end;\n",
    "    return sort(reverse(c))\n",
    "end;\n",
    "\n",
    "function obtainDecomp(Ms, T)\n",
    "    Ahat = zeros(ComplexF64, n, r)\n",
    "    Ahat[1, :] = ones(r)\n",
    "    for j=1:length(Ms)\n",
    "        wj, Vj = eigen(Ms[j])\n",
    "        argsort = sortperm(Vj[1, :], by=x -> (real(x), imag(x)), rev=true);\n",
    "        Ahat[j+1, :] = wj[argsort]\n",
    "    end\n",
    "    Lhat = kronMat(Ahat, d)\\reshape(T, n^d)\n",
    "    return Lhat, Ahat\n",
    "end;\n",
    "\n",
    "function postprocess(Ahat, U, LT)\n",
    "    return U*inv(LT)*Ahat\n",
    "end;\n",
    "\n",
    "function processLinEqs(linEqs, vars)\n",
    "    A = []\n",
    "    b = []\n",
    "    \n",
    "    z = zeros(length(vars))\n",
    "    \n",
    "    for linEq in linEqs\n",
    "        coeffDict = HomotopyContinuation.to_dict(linEq, hs)\n",
    "        push!(A, HomotopyContinuation.to_number.(sum([item.first * item.second for item in coeffDict])))\n",
    "        push!(b, HomotopyContinuation.to_number(coeffDict[z]))\n",
    "    end\n",
    "    return Complex.(permutedims(reduce(hcat, A))), -Complex.(b)\n",
    "    \n",
    "end;\n",
    "\n",
    "function hankelNew(T)\n",
    "    Tsize = size(T)\n",
    "    n = Tsize[1]\n",
    "    d = length(Tsize)\n",
    "    r = rank(catMat(T, Int(floor(d/2))))\n",
    "\n",
    "    if r <= binomial(n-1+Int(floor((d-1)/2)), n-1)\n",
    "\n",
    "        # Regime where Jennrich might work\n",
    "\n",
    "        Tcat = catMat(T, Int(floor(d/2)))\n",
    "        H0 = Tcat[1:r, 1:r];\n",
    "        H0_inv = inv(H0)\n",
    "\n",
    "        D = Dict()\n",
    "        first_r = []\n",
    "        for (i, ind) in enumerate(with_replacement_combinations(0:n-1, d))\n",
    "            if i <= r\n",
    "                push!(first_r, ind)\n",
    "            end\n",
    "            D[Tuple(x for x in ind)] = i\n",
    "        end\n",
    "\n",
    "        Hs = []\n",
    "        for i=1:n-1\n",
    "            hankInds = []\n",
    "            multMap = map(x -> multMon(x, i), first_r)\n",
    "            for ind in multMap\n",
    "                push!(hankInds, D[Tuple(x for x in ind)])\n",
    "            end\n",
    "            push!(Hs, Tcat[1:r, hankInds])\n",
    "        end\n",
    "\n",
    "        Ms = []\n",
    "        for H in Hs\n",
    "            push!(Ms, H*H0_inv)\n",
    "        end;\n",
    "\n",
    "        eqMats = []\n",
    "        for i=1:n-1\n",
    "            for j=i+1:n-1\n",
    "                push!(eqMats, Ms[i]*Ms[j]-Ms[j]*Ms[i])\n",
    "            end\n",
    "        end\n",
    "        if all([all(abs.(eqMat) .<= tol) for eqMat in eqMats])\n",
    "            Ahat_ = projectivize(obtainDecomp(Ms, T)..., d)\n",
    "            Lhat, Ahat = deprojectivize(postprocess(Ahat_, U, LT), d)\n",
    "        else\n",
    "            error(\"Multiplication matrices do not commute\")\n",
    "        end\n",
    "\n",
    "    elseif r <= binomial(n-1+Int(floor(d/2)), n-1)\n",
    "        Thank = hankMat(T);\n",
    "        H0 = Thank[1:r, 1:r];\n",
    "        H0 = convert(Matrix{eltype(T)}, H0)\n",
    "        H0_inv = inv(H0)\n",
    "\n",
    "        D = Dict()\n",
    "        first_r = []\n",
    "        for (i, ind) in enumerate(with_replacement_combinations(0:n-1, d))\n",
    "            if i <= r\n",
    "                push!(first_r, ind)\n",
    "            end\n",
    "            D[Tuple(x for x in ind)] = i\n",
    "        end\n",
    "\n",
    "        Hs = []\n",
    "        for i=1:n-1\n",
    "            hankInds = []\n",
    "            multMap = map(x -> multMon(x, i), first_r)\n",
    "            for ind in multMap\n",
    "                push!(hankInds, D[Tuple(x for x in ind)])\n",
    "            end\n",
    "            push!(Hs, Thank[1:r, hankInds])\n",
    "        end\n",
    "\n",
    "        hs = collect(Set(vcat(HomotopyContinuation.variables.(Hs)...)))\n",
    "\n",
    "        eqMats = []\n",
    "        for i=1:n-1\n",
    "            for j=i+1:n-1\n",
    "                push!(eqMats, Hs[i]*H0_inv*Hs[j]-Hs[j]*H0_inv*Hs[i])\n",
    "            end\n",
    "        end\n",
    "\n",
    "        gam = binomial(n-1+Int(floor((d-1)/2)), n-1)\n",
    "        linInds = 1:gam\n",
    "        quadInds = gam+1:r;\n",
    "\n",
    "        linEqs = []\n",
    "        quadEqs = []\n",
    "        for eqMat in eqMats\n",
    "            append!(linEqs, HomotopyContinuation.expand.(eqMat[linInds, quadInds]))\n",
    "            append!(quadEqs, HomotopyContinuation.expand.(eqMat[quadInds, quadInds]))\n",
    "        end\n",
    "\n",
    "        A, b = processLinEqs(linEqs, hs);\n",
    "\n",
    "        if rank(A) == length(hs)\n",
    "            sol = A\\b\n",
    "        else\n",
    "            F = System(vcat(linEqs, quadEqs), hs)\n",
    "            result = solve(F)\n",
    "            sols = solutions(result, only_nonsingular=false)\n",
    "            if length(sols) == 0\n",
    "                error(\"There are no solutions h such that the multiplication matrices commute.  The input r is likely not the correct rank.\")\n",
    "            end\n",
    "            sol = sols[1]\n",
    "        end\n",
    "\n",
    "        Ms = []\n",
    "        for H in Hs\n",
    "            push!(Ms, evaluate.(H, hs => sol)*H0_inv)\n",
    "        end\n",
    "        eqMatsEval = []\n",
    "        for i=1:n-1\n",
    "            for j=i+1:n-1\n",
    "                push!(eqMatsEval, Ms[i]*Ms[j]-Ms[j]*Ms[i])\n",
    "            end\n",
    "        end\n",
    "\n",
    "        if all([all(abs.(eqMat) .<= tol) for eqMat in eqMatsEval])\n",
    "            Ahat_ = projectivize(obtainDecomp(Ms, T)..., d)\n",
    "            Lhat, Ahat = deprojectivize(postprocess(Ahat_, U, LT), d)\n",
    "        else\n",
    "            error(\"Multiplication matrices do not commute\")\n",
    "        end\n",
    "\n",
    "    end;\n",
    "    return Lhat, Ahat\n",
    "end;"
   ]
  },
  {
   "cell_type": "code",
   "execution_count": 296,
   "metadata": {},
   "outputs": [],
   "source": [
    "n_ = 3\n",
    "d_ = 4;"
   ]
  },
  {
   "cell_type": "code",
   "execution_count": 297,
   "metadata": {},
   "outputs": [],
   "source": [
    "r_ = 8;"
   ]
  },
  {
   "cell_type": "code",
   "execution_count": 442,
   "metadata": {},
   "outputs": [],
   "source": [
    "T_ = zeros(repeat([d_], d_)...)\n",
    "for perm in Combinatorics.permutations(1:d_)\n",
    "    T_[perm...] = 1\n",
    "end\n",
    "# LT = [[1, 1, 1, 1];; [1, 1, 1, 0];; [1, 1, 0, 0];; [1, 0, 0, 0]]\n",
    "LT = randn(4, 4) /2;\n",
    "# T_ = changeBasis(T_, LT)\n",
    "\n",
    "# T_, A, L = randomRankedTensor(n_+1, d_, r_, real=true)\n",
    "# A_ = projectivize(L, A_, d_)\n",
    "\n",
    "# T, U, LT = preprocess(T_);\n",
    "# T = T_;"
   ]
  },
  {
   "cell_type": "code",
   "execution_count": 443,
   "metadata": {},
   "outputs": [],
   "source": [
    "P = zeros(d, r_)\n",
    "P[1, :] = ones(r_)\n",
    "sigs = product(repeat([[-1, 1]], d-1)...)\n",
    "for (i, sig) in enumerate(sigs)\n",
    "    P[2:end, i] .= sig\n",
    "end\n",
    "\n",
    "L_ = prod.(eachcol(P)) ./ (r_);\n",
    "\n",
    "A_ = LT*projectivize(L_, P, d)\n",
    "\n",
    "L, A = deprojectivize(A_, d)\n",
    "\n",
    "T = real(makeRankedTensor(L, A, d));"
   ]
  },
  {
   "cell_type": "code",
   "execution_count": 444,
   "metadata": {},
   "outputs": [
    {
     "data": {
      "text/plain": [
       "6"
      ]
     },
     "execution_count": 444,
     "metadata": {},
     "output_type": "execute_result"
    }
   ],
   "source": [
    "rank(catMat(T, 2)[1:8, 1:8])"
   ]
  },
  {
   "cell_type": "code",
   "execution_count": 459,
   "metadata": {},
   "outputs": [
    {
     "data": {
      "text/plain": [
       "8-element Vector{Float64}:\n",
       " 28.092182085929284\n",
       "  2.823133286709094\n",
       "  1.8791132511121262\n",
       "  0.7188731422828085\n",
       "  0.6168887503934739\n",
       "  0.011954622284875585\n",
       "  0.00023374421757807855\n",
       "  2.0964520979241543e-5"
      ]
     },
     "execution_count": 459,
     "metadata": {},
     "output_type": "execute_result"
    }
   ],
   "source": [
    "svdvals(catMat(changeBasis(makeRankedTensor(L_, P, d+2), LT), 3)[[(1:7)..., 11], [(1:7)..., 11]])"
   ]
  },
  {
   "cell_type": "code",
   "execution_count": 457,
   "metadata": {},
   "outputs": [
    {
     "data": {
      "text/plain": [
       "4"
      ]
     },
     "execution_count": 457,
     "metadata": {},
     "output_type": "execute_result"
    }
   ],
   "source": [
    "rank(catMat(makeRankedTensor(L_, P, d+2), 3)[[(1:7)..., 11], [(1:7)..., 11]])"
   ]
  },
  {
   "cell_type": "code",
   "execution_count": 458,
   "metadata": {},
   "outputs": [
    {
     "data": {
      "text/plain": [
       "8×8 Matrix{Float64}:\n",
       " 0.0  0.0  0.0  0.0  0.0  0.0  0.0  0.0\n",
       " 0.0  0.0  0.0  0.0  0.0  0.0  0.0  0.0\n",
       " 0.0  0.0  0.0  0.0  0.0  0.0  1.0  0.0\n",
       " 0.0  0.0  0.0  0.0  0.0  1.0  0.0  0.0\n",
       " 0.0  0.0  0.0  0.0  0.0  0.0  0.0  0.0\n",
       " 0.0  0.0  0.0  1.0  0.0  0.0  0.0  0.0\n",
       " 0.0  0.0  1.0  0.0  0.0  0.0  0.0  0.0\n",
       " 0.0  0.0  0.0  0.0  0.0  0.0  0.0  0.0"
      ]
     },
     "execution_count": 458,
     "metadata": {},
     "output_type": "execute_result"
    }
   ],
   "source": [
    "catMat(makeRankedTensor(L_, P, d+2), 3)[[(1:7)..., 11], [(1:7)..., 11]]"
   ]
  },
  {
   "cell_type": "code",
   "execution_count": 455,
   "metadata": {},
   "outputs": [
    {
     "ename": "LoadError",
     "evalue": "syntax: missing last argument in \"1:\" range expression ",
     "output_type": "error",
     "traceback": [
      "syntax: missing last argument in \"1:\" range expression ",
      "",
      "Stacktrace:",
      " [1] top-level scope",
      "   @ In[455]:1"
     ]
    }
   ],
   "source": [
    "catMat(changeBasis(makeRankedTensor(L_, P, d+2), I), 3)[1:, 1:8]"
   ]
  },
  {
   "cell_type": "code",
   "execution_count": null,
   "metadata": {},
   "outputs": [],
   "source": []
  },
  {
   "cell_type": "code",
   "execution_count": 317,
   "metadata": {},
   "outputs": [],
   "source": [
    "n = n_+1\n",
    "d = d_\n",
    "r = 6;"
   ]
  },
  {
   "cell_type": "code",
   "execution_count": 318,
   "metadata": {},
   "outputs": [],
   "source": [
    "ordering = Dict()\n",
    "for (i, ind) in enumerate(with_replacement_combinations(1:n, d))\n",
    "    ordering[ind] = i\n",
    "end\n",
    "\n",
    "function convertInds(ind, ordering, d)\n",
    "    ind_ = []\n",
    "    for i=1:length(ind)\n",
    "        if !(ind[i]==0)\n",
    "            append!(ind_, repeat([i+1], ind[i]))\n",
    "        end\n",
    "    end\n",
    "    return ordering[prepend!(ind_, repeat([1], d-sum(ind)))]\n",
    "end;\n",
    "\n",
    "function cofactor(A::AbstractMatrix)\n",
    "    ax = axes(A)\n",
    "    out = similar(A, eltype(A), ax)\n",
    "    for col in ax[1]\n",
    "        for row in ax[2]\n",
    "            out[col, row] = (-1)^(col + row) * det(A[Not(col), Not(row)])\n",
    "        end\n",
    "    end\n",
    "    return out\n",
    "end;"
   ]
  },
  {
   "cell_type": "code",
   "execution_count": 319,
   "metadata": {},
   "outputs": [
    {
     "data": {
      "text/plain": [
       "Set{Any} with 2 elements:\n",
       "  Int8[2, 0, 0]\n",
       "  Int8[1, 1, 0]"
      ]
     },
     "execution_count": 319,
     "metadata": {},
     "output_type": "execute_result"
    }
   ],
   "source": [
    "c = Int(floor(n_-(-1+sqrt(4*n_*(n_+3)-8*r+9))/2))\n",
    "c_ = Int(r-n_-1-c*n_+c*(c-1)/2)\n",
    "\n",
    "B = Set()\n",
    "for i=1:c\n",
    "    ei = zeros(Int8, n-1)\n",
    "    ei[i] = 1\n",
    "    for j=1:n-1\n",
    "        ej = zeros(Int8, n-1)\n",
    "        ej[j] = 1\n",
    "        push!(B, ei+ej)\n",
    "    end\n",
    "end\n",
    "ei = zeros(Int8, n-1)\n",
    "ei[c+1] = 1\n",
    "for j=c+1:c+c_\n",
    "    ej = zeros(Int8, n-1)\n",
    "    ej[j]=1\n",
    "    push!(B, ei+ej)\n",
    "end\n",
    "B"
   ]
  },
  {
   "cell_type": "code",
   "execution_count": 323,
   "metadata": {},
   "outputs": [],
   "source": [
    "Thank = hankMat(T);\n",
    "H0 = Thank[1:r, 1:r];\n",
    "H0 = convert(Matrix{eltype(T)}, H0)\n",
    "H0_inv = inv(H0)\n",
    "\n",
    "D = Dict()\n",
    "first_r = []\n",
    "for (i, ind) in enumerate(with_replacement_combinations(0:n-1, d))\n",
    "    if i <= r\n",
    "        push!(first_r, ind)\n",
    "    end\n",
    "    D[Tuple(x for x in ind)] = i\n",
    "end\n",
    "\n",
    "Hs = []\n",
    "for i=1:n-1\n",
    "    hankInds = []\n",
    "    multMap = map(x -> multMon(x, i), first_r)\n",
    "    for ind in multMap\n",
    "        push!(hankInds, D[Tuple(x for x in ind)])\n",
    "    end\n",
    "    push!(Hs, Thank[1:r, hankInds])\n",
    "end\n",
    "\n",
    "hs = collect(Set(vcat(HomotopyContinuation.variables.(Hs)...)))\n",
    "\n",
    "V = Set()\n",
    "for alpha in B\n",
    "    for alpha_ in B\n",
    "        for i=1:n-1\n",
    "            ei = zeros(Int8, n-1)\n",
    "            ei[i] = 1\n",
    "            push!(V, alpha+alpha_+ei)\n",
    "        end\n",
    "    end\n",
    "end\n",
    "\n",
    "E = Set()\n",
    "for alpha in B\n",
    "    for k=1:n-1\n",
    "        beta = zeros(Int8, n-1)\n",
    "        beta[k] = 1\n",
    "        for j=1:n-1\n",
    "            ej = zeros(Int8, n-1)\n",
    "            ej[j] = 1\n",
    "            if !(beta+ej in B)\n",
    "                for i=1:n-1\n",
    "                    ei = zeros(Int8, n-1)\n",
    "                    ei[i] = 1\n",
    "                    if alpha+beta+ei+ej in V && i != j\n",
    "                        push!(E, (alpha+ei, beta+ej))\n",
    "                    end\n",
    "                end\n",
    "            end\n",
    "        end\n",
    "    end\n",
    "end\n",
    "\n",
    "linEqs = []\n",
    "for (alpha, beta) in E\n",
    "    indA = convertInds(alpha, ordering, d)\n",
    "    indB = convertInds(beta, ordering, d)\n",
    "    linEq = Thank[indA, indB]*det(H0)-(permutedims(Thank[1:r, indA])*cofactor(H0)*Thank[1:r, indB])[1]\n",
    "    push!(linEqs, HomotopyContinuation.expand(linEq))\n",
    "end\n",
    "\n",
    "Aeqs, beqs = processLinEqs(linEqs, hs);"
   ]
  },
  {
   "cell_type": "code",
   "execution_count": 327,
   "metadata": {},
   "outputs": [],
   "source": [
    "sol = Aeqs \\ beqs\n",
    "\n",
    "Ms = []\n",
    "for H in Hs\n",
    "    push!(Ms, evaluate.(H, hs => sol)*H0_inv)\n",
    "end\n",
    "eqMatsEval = []\n",
    "for i=1:n-1\n",
    "    for j=i+1:n-1\n",
    "        push!(eqMatsEval, Ms[i]*Ms[j]-Ms[j]*Ms[i])\n",
    "    end\n",
    "end"
   ]
  },
  {
   "cell_type": "code",
   "execution_count": 329,
   "metadata": {},
   "outputs": [
    {
     "data": {
      "text/plain": [
       "6×6 Matrix{Float64}:\n",
       "   8.97409e-13   -4.89775e-13   2.36155e-13  …    4.78017e-14  -3.49942e-13\n",
       "   1.2399e-12    -2.58726e-12   5.19584e-14       8.69527e-13  -3.91687e-13\n",
       "  -1.50449e-9     6.29837e-9    7.49136e-10      -2.41712e-9   -6.40155e-11\n",
       "  -3.76207e-9     1.57047e-8    1.84375e-9       -6.02987e-9   -1.48209e-10\n",
       "  -0.902983      -3.04301      -1.52363           1.4894        0.463655\n",
       " -22.2513       101.622        13.3791       …  -39.4458       -1.4894"
      ]
     },
     "execution_count": 329,
     "metadata": {},
     "output_type": "execute_result"
    }
   ],
   "source": [
    "eqMatsEval[1]"
   ]
  },
  {
   "cell_type": "code",
   "execution_count": null,
   "metadata": {},
   "outputs": [],
   "source": []
  }
 ],
 "metadata": {
  "@webio": {
   "lastCommId": null,
   "lastKernelId": null
  },
  "kernelspec": {
   "display_name": "Julia 1.9.0",
   "language": "julia",
   "name": "julia-1.9"
  },
  "language_info": {
   "file_extension": ".jl",
   "mimetype": "application/julia",
   "name": "julia",
   "version": "1.9.0"
  }
 },
 "nbformat": 4,
 "nbformat_minor": 4
}
