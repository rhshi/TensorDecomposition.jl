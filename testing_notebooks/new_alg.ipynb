{
 "cells": [
  {
   "cell_type": "code",
   "execution_count": 224,
   "metadata": {},
   "outputs": [],
   "source": [
    "using TensorDecomposition, Symbolics, LinearAlgebra, Combinatorics, InvertedIndices, Einsum, IterTools"
   ]
  },
  {
   "cell_type": "code",
   "execution_count": 392,
   "metadata": {},
   "outputs": [],
   "source": [
    "function kronMat(A::Matrix, d)\n",
    "    if d == 1\n",
    "        B = A\n",
    "    else\n",
    "        n, r = size(A)\n",
    "        B = zeros(eltype(A), (n^d, r))\n",
    "        for i=1:r \n",
    "            B[:, i] = kron(ntuple(x->A[:, i], d)...)\n",
    "        end;\n",
    "    end;\n",
    "    return B\n",
    "end;\n",
    "\n",
    "function changeBasis(T, M)\n",
    "    Tsize = size(T)\n",
    "    n1 = Tsize[1]\n",
    "    d = length(Tsize)\n",
    "    \n",
    "    n2 = size(M)[1]\n",
    "    \n",
    "    That = reshape(T, n1^d)\n",
    "    return reshape(foldl(kron, repeat([M], d))*That, repeat([n2], d)...)\n",
    "end;\n",
    "\n",
    "function e(j, n)\n",
    "    e = zeros(n)\n",
    "    e[j] = 1\n",
    "    return e\n",
    "end;\n",
    "\n",
    "function essentialVar(T, tol=1e-10)\n",
    "    Tsize = size(T)\n",
    "    n = Tsize[1]\n",
    "    d = length(Tsize)\n",
    "    \n",
    "    That = reshape(T, (n, n^(d-1)))\n",
    "    U, s, _ = svd(That)\n",
    "    inds = (abs.(s) .> tol)\n",
    "    if n == count(i->(i== 1), inds)\n",
    "        return T, I\n",
    "    else\n",
    "        U = U[:, inds]\n",
    "        return changeBasis(T, U'), U\n",
    "    end\n",
    "    \n",
    "end;\n",
    "\n",
    "function projectivize(L, A, d)\n",
    "    return permutedims((Complex.(L) .^ (1/d))) .* A;\n",
    "end;\n",
    "\n",
    "function deprojectivize(A, d)\n",
    "    B = A[1, :]\n",
    "    return B .^ d, A ./ permutedims(B)\n",
    "end;\n",
    "\n",
    "function preprocess(T, tol=1e-10)\n",
    "    T, U = essentialVar(T)\n",
    "    \n",
    "    Tsize = size(T)\n",
    "    n = Tsize[1]\n",
    "    d = length(Tsize)\n",
    "    \n",
    "    M = randn(n, n)\n",
    "    T = changeBasis(T, M)\n",
    "    return T, U, M\n",
    "end;\n",
    "\n",
    "function multMon(x, j)\n",
    "    c = copy(reverse(x))\n",
    "    for i=1:length(c)\n",
    "        if c[i] == 0\n",
    "            c[i] = j\n",
    "            break\n",
    "        end\n",
    "    end;\n",
    "    return sort(reverse(c))\n",
    "end;\n",
    "\n",
    "function obtainDecomp(Ms, T)\n",
    "    Ahat = zeros(ComplexF64, n, r)\n",
    "    Ahat[1, :] = ones(r)\n",
    "    for j=1:length(Ms)\n",
    "        wj, Vj = eigen(Ms[j])\n",
    "        argsort = sortperm(Vj[1, :], by=x -> (real(x), imag(x)), rev=true);\n",
    "        Ahat[j+1, :] = wj[argsort]\n",
    "    end\n",
    "    Lhat = kronMat(Ahat, d)\\reshape(T, n^d)\n",
    "    return Lhat, Ahat\n",
    "end;\n",
    "\n",
    "function postprocess(Ahat, U, LT)\n",
    "    return U*inv(LT)*Ahat\n",
    "end;"
   ]
  },
  {
   "cell_type": "code",
   "execution_count": 413,
   "metadata": {},
   "outputs": [],
   "source": [
    "n_ = 4\n",
    "d_ = 3;"
   ]
  },
  {
   "cell_type": "code",
   "execution_count": 414,
   "metadata": {},
   "outputs": [],
   "source": [
    "r_ = 6;"
   ]
  },
  {
   "cell_type": "code",
   "execution_count": 420,
   "metadata": {},
   "outputs": [],
   "source": [
    "# T_ = zeros(repeat([d_], d_)...)\n",
    "# for perm in permutations(1:d_)\n",
    "#     T_[perm...] = 1\n",
    "# end\n",
    "\n",
    "T_, A, L = randomRankedTensor(n_+1, d_, r_, real=true)\n",
    "A = projectivize(L, A, d_)\n",
    "\n",
    "T, U, LT = preprocess(T_);"
   ]
  },
  {
   "cell_type": "code",
   "execution_count": 421,
   "metadata": {},
   "outputs": [],
   "source": [
    "tol = 1e-10;"
   ]
  },
  {
   "cell_type": "code",
   "execution_count": 427,
   "metadata": {},
   "outputs": [
    {
     "data": {
      "text/plain": [
       "6"
      ]
     },
     "execution_count": 427,
     "metadata": {},
     "output_type": "execute_result"
    }
   ],
   "source": [
    "Tsize = size(T)\n",
    "n = Tsize[1]\n",
    "d = length(Tsize)\n",
    "\n",
    "r = 6"
   ]
  },
  {
   "cell_type": "code",
   "execution_count": 431,
   "metadata": {},
   "outputs": [],
   "source": [
    "if r <= binomial(n-1+Int(floor((d-1)/2)), n-1)\n",
    "    \n",
    "    # Regime where Jennrich might work\n",
    "    \n",
    "    Tcat = catMat(T, Int(floor(d/2)))\n",
    "    H0 = Tcat[1:r, 1:r];\n",
    "    H0_inv = inv(H0)\n",
    "\n",
    "    D = Dict()\n",
    "    first_r = []\n",
    "    for (i, ind) in enumerate(with_replacement_combinations(0:n-1, d))\n",
    "        if i <= r\n",
    "            push!(first_r, ind)\n",
    "        end\n",
    "        D[Tuple(x for x in ind)] = i\n",
    "    end\n",
    "\n",
    "    Hs = []\n",
    "    for i=1:n-1\n",
    "        hankInds = []\n",
    "        multMap = map(x -> multMon(x, i), first_r)\n",
    "        for ind in multMap\n",
    "            push!(hankInds, D[Tuple(x for x in ind)])\n",
    "        end\n",
    "        push!(Hs, Tcat[1:r, hankInds])\n",
    "    end\n",
    "\n",
    "    Ms = []\n",
    "    for H in Hs\n",
    "        push!(Ms, H*H0_inv)\n",
    "    end;\n",
    "    \n",
    "    eqMats = []\n",
    "    for i=1:n-1\n",
    "        for j=i+1:n-1\n",
    "            push!(eqMats, Ms[i]*Ms[j]-Ms[j]*Ms[i])\n",
    "        end\n",
    "    end\n",
    "    if all([isapprox(eqMat, zeros(n, n), atol=tol) for eqMat in eqMats])\n",
    "        Ahat_ = projectivize(obtainDecomp(Ms, T)..., d)\n",
    "        Lhat, Ahat = deprojectivize(postprocess(Ahat_, U, LT), d)\n",
    "    else\n",
    "        print(\"Multiplication matrices do not commute\")\n",
    "    end\n",
    "    \n",
    "elseif r <= binomial(n-1+Int(floor(d/2)), n-1)\n",
    "    Thank = hankMat(T);\n",
    "    H0 = Thank[1:r, 1:r];\n",
    "    H0 = convert(Matrix{eltype(T)}, H0)\n",
    "    H0_inv = inv(H0)\n",
    "\n",
    "    D = Dict()\n",
    "    first_r = []\n",
    "    for (i, ind) in enumerate(with_replacement_combinations(0:n-1, d))\n",
    "        if i <= r\n",
    "            push!(first_r, ind)\n",
    "        end\n",
    "        D[Tuple(x for x in ind)] = i\n",
    "    end\n",
    "\n",
    "    Hs = []\n",
    "    for i=1:n-1\n",
    "        hankInds = []\n",
    "        multMap = map(x -> multMon(x, i), first_r)\n",
    "        for ind in multMap\n",
    "            push!(hankInds, D[Tuple(x for x in ind)])\n",
    "        end\n",
    "        push!(Hs, Thank[1:r, hankInds])\n",
    "    end\n",
    "\n",
    "    Ms = []\n",
    "    for H in Hs\n",
    "        push!(Ms, H*H0_inv)\n",
    "    end;\n",
    "end;"
   ]
  },
  {
   "cell_type": "code",
   "execution_count": 432,
   "metadata": {},
   "outputs": [
    {
     "data": {
      "text/plain": [
       "35×35 Matrix{HomotopyContinuation.ModelKit.Expression}:\n",
       "   5.66750050086189    7.10497997179108  …  -24.0804678872474\n",
       "   7.10497997179108    11.6609541336651                   h₅₅\n",
       "  -7.10485719685508   -2.93101159519018                   h₆₅\n",
       "  -3.69745130705033  -0.674342829873263                   h₆₉\n",
       "  -9.12771370445251   -10.8872408829517                   h₇₀\n",
       "   11.6609541336651    72.8641421565447  …                h₉₀\n",
       "  -2.93101159519018   -53.4075704892576                  h₁₀₀\n",
       " -0.674342829873263   -25.3570794688494                  h₁₀₄\n",
       "  -10.8872408829517   -39.3975067067477                  h₁₀₅\n",
       "   1.90777808061713    37.4543936207497                  h₁₁₅\n",
       "   1.44167164005361    17.0934181102605  …               h₁₁₉\n",
       "   8.48744768309954    22.9128198602159                  h₁₂₀\n",
       "  0.582084354866677    8.86361474904464                  h₁₂₄\n",
       "                  ⋮                      ⋱  \n",
       "    8.9727872723188                 h₄₄                  h₁₈₁\n",
       "   25.9358556405993                 h₄₅                  h₁₈₂\n",
       "  -30.0325033268721                 h₄₆  …               h₁₉₂\n",
       "  -13.8557292445209                 h₄₇                  h₁₉₆\n",
       "  -16.8809404279267                 h₄₈                  h₁₉₇\n",
       "  -7.73142929645453                 h₄₉                  h₂₀₁\n",
       "  -7.44052323894026                 h₅₀                  h₂₀₂\n",
       "  -18.2852951670506                 h₅₁  …               h₂₀₃\n",
       "  -4.72364937762982                 h₅₂                  h₂₀₇\n",
       "  -3.39754131957156                 h₅₃                  h₂₀₈\n",
       "  -8.77250382508166                 h₅₄                  h₂₀₉\n",
       "  -24.0804678872474                 h₅₅                  h₂₁₀"
      ]
     },
     "execution_count": 432,
     "metadata": {},
     "output_type": "execute_result"
    }
   ],
   "source": [
    "Thank"
   ]
  },
  {
   "cell_type": "code",
   "execution_count": null,
   "metadata": {},
   "outputs": [],
   "source": []
  }
 ],
 "metadata": {
  "@webio": {
   "lastCommId": null,
   "lastKernelId": null
  },
  "kernelspec": {
   "display_name": "Julia 1.9.0",
   "language": "julia",
   "name": "julia-1.9"
  },
  "language_info": {
   "file_extension": ".jl",
   "mimetype": "application/julia",
   "name": "julia",
   "version": "1.9.0"
  }
 },
 "nbformat": 4,
 "nbformat_minor": 4
}
