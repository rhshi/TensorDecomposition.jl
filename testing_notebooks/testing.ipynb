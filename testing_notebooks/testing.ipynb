{
 "cells": [
  {
   "cell_type": "code",
   "execution_count": 2,
   "metadata": {},
   "outputs": [],
   "source": [
    "using TensorDecomposition, SymPy, LinearAlgebra, Combinatorics, InvertedIndices"
   ]
  },
  {
   "cell_type": "code",
   "execution_count": 3,
   "metadata": {},
   "outputs": [],
   "source": [
    "function multMon2(x, i)\n",
    "    y = [j for j in x]\n",
    "    \n",
    "    y[1] -= 1\n",
    "    y[i] += 1\n",
    "    return Tuple(j for j in y)\n",
    "end\n",
    "\n",
    "function alpha_iterator(::Val{N}, s, t=()) where {N}\n",
    "    N <= 1 && return ((s, t...),) # Iterator over a single Tuple\n",
    "    Iterators.flatten(alpha_iterator(Val(N-1), s-i, (i, t...)) for i in 0:s)\n",
    "end\n",
    "\n",
    "function monomialOrder(a, b)\n",
    "    if a[1] > b[1]\n",
    "        return true\n",
    "    elseif a[1] < b[1]\n",
    "        return false\n",
    "    else \n",
    "        if maximum(a[2:end]) < maximum(b[2:end])\n",
    "            return true\n",
    "        elseif maximum(a[2:end]) > maximum(b[2:end])\n",
    "            return false\n",
    "        else\n",
    "            return !isless(a[2:end], b[2:end])\n",
    "        end \n",
    "    end\n",
    "end;\n",
    "\n",
    "function cofactor(A::AbstractMatrix)\n",
    "    ax = axes(A)\n",
    "    out = similar(A, eltype(A), ax)\n",
    "    for col in ax[1]\n",
    "        for row in ax[2]\n",
    "            out[col, row] = (-1)^(col + row) * det(A[InvertedIndices.Not(col), InvertedIndices.Not(row)])\n",
    "        end\n",
    "    end\n",
    "    return out\n",
    "end;\n",
    "\n",
    "function convertIndices(x)\n",
    "    d = sum(x)\n",
    "    y = zeros(Int, d)\n",
    "    c = 1\n",
    "    for i=1:length(x)\n",
    "        pow = x[i]\n",
    "        y[c:c+pow-1] .= i\n",
    "        c += pow\n",
    "    end \n",
    "    return y .- 1\n",
    "end;"
   ]
  },
  {
   "cell_type": "code",
   "execution_count": 4,
   "metadata": {},
   "outputs": [],
   "source": [
    "n = 3\n",
    "d = 6;"
   ]
  },
  {
   "cell_type": "code",
   "execution_count": 5,
   "metadata": {},
   "outputs": [],
   "source": [
    "r = 4;"
   ]
  },
  {
   "cell_type": "code",
   "execution_count": 6,
   "metadata": {},
   "outputs": [],
   "source": [
    "Fdim = binomial(n-1+d, d);"
   ]
  },
  {
   "cell_type": "code",
   "execution_count": 7,
   "metadata": {},
   "outputs": [],
   "source": [
    "a = symbols(\"a[1:16]\");"
   ]
  },
  {
   "cell_type": "code",
   "execution_count": 8,
   "metadata": {},
   "outputs": [],
   "source": [
    "D = Dict(i => j for (i, j) in zip(with_replacement_combinations(1:n, d), a));"
   ]
  },
  {
   "cell_type": "code",
   "execution_count": 9,
   "metadata": {},
   "outputs": [],
   "source": [
    "T = zeros(Sym, (n, n, n, n))\n",
    "for ind in Base.product(1:n, 1:n, 1:n, 1:n)\n",
    "    T[ind...] = D[sort([x for x in ind])]\n",
    "end"
   ]
  },
  {
   "cell_type": "code",
   "execution_count": 10,
   "metadata": {},
   "outputs": [],
   "source": [
    "Fliftdim = binomial(n-1+2*d, n-1)\n",
    "\n",
    "F = zeros(Sym, Fdim)\n",
    "alphas = sort(collect(alpha_iterator(Val(n), d)), lt=monomialOrder)\n",
    "for (i, ind) in enumerate(convertIndices.(alphas))\n",
    "    F[i] = T[(ind .+ 1)...]\n",
    "end\n",
    "\n",
    "Flift = Array{Sym}(undef, Fliftdim)\n",
    "h =  symbols(\"h[1:31]\");"
   ]
  },
  {
   "cell_type": "code",
   "execution_count": 11,
   "metadata": {},
   "outputs": [],
   "source": [
    "Thank = Array{Sym}(undef, Fdim, Fdim)\n",
    "\n",
    "for i=1:length(F)\n",
    "    Flift[i] = F[i]\n",
    "end\n",
    "\n",
    "\n",
    "for i=1:Fliftdim-Fdim\n",
    "    Flift[Fdim+i] = h[i]\n",
    "end\n",
    "\n",
    "alphas2 = sort(collect(alpha_iterator(Val(n), 2*d)), lt=monomialOrder)\n",
    "D = Dict()\n",
    "for (i, ind) in enumerate(alphas2)\n",
    "    D[ind] = i\n",
    "end\n",
    "\n",
    "for (i, row_ind) in enumerate(alphas)\n",
    "    for (j, col_ind) in enumerate(alphas)\n",
    "        row_mon = [x for x in row_ind]\n",
    "        col_mon = [x for x in col_ind]\n",
    "        ind = Tuple(x for x in row_mon+col_mon)\n",
    "        Thank[i, j] = Flift[D[ind]]\n",
    "    end\n",
    "end"
   ]
  },
  {
   "cell_type": "code",
   "execution_count": 12,
   "metadata": {},
   "outputs": [],
   "source": [
    "H0 = Thank[1:r, 1:r];\n",
    "# H0_inv = inv(H0);\n",
    "H0_adj = cofactor(H0);\n",
    "H0_det = det(H0);"
   ]
  },
  {
   "cell_type": "code",
   "execution_count": 13,
   "metadata": {},
   "outputs": [],
   "source": [
    "alphas = sort(collect(alpha_iterator(Val(n), d)), lt=monomialOrder)\n",
    "D = Dict()\n",
    "first_r = []\n",
    "for (i, ind) in enumerate(alphas)\n",
    "    if i <= r\n",
    "        push!(first_r, ind)\n",
    "    end\n",
    "    D[ind] = i\n",
    "end\n",
    "\n",
    "Hs = []\n",
    "for i=2:n\n",
    "    hankInds = []\n",
    "    multMap = map(x -> multMon2(x, i), first_r)\n",
    "    for ind in multMap\n",
    "        push!(hankInds, D[ind])\n",
    "    end\n",
    "    push!(Hs, Thank[1:r, hankInds])\n",
    "end"
   ]
  },
  {
   "cell_type": "code",
   "execution_count": 17,
   "metadata": {},
   "outputs": [],
   "source": [
    "# Ms = []\n",
    "# for H in Hs\n",
    "#     push!(Ms, H*H0_inv)\n",
    "# end;"
   ]
  },
  {
   "cell_type": "code",
   "execution_count": 15,
   "metadata": {},
   "outputs": [],
   "source": [
    "Ms = []\n",
    "for H in Hs\n",
    "    push!(Ms, H*H0_adj)\n",
    "end"
   ]
  },
  {
   "cell_type": "code",
   "execution_count": 16,
   "metadata": {},
   "outputs": [],
   "source": [
    "vars = [h[1], h[2]];"
   ]
  },
  {
   "cell_type": "code",
   "execution_count": 18,
   "metadata": {},
   "outputs": [],
   "source": [
    "eqMat1 = Hs[1]*H0_adj*Hs[2];\n",
    "eqMat2 = Hs[2]*H0_adj*Hs[1];\n",
    "eqMat = eqMat1-eqMat2;"
   ]
  },
  {
   "cell_type": "code",
   "execution_count": 19,
   "metadata": {},
   "outputs": [
    {
     "data": {
      "text/latex": [
       "$a[13] a[1] a[4] a[6] - a[13] a[1] a[5]^{2} - a[13] a[2]^{2} a[6] + 2 a[13] a[2] a[3] a[5] - a[13] a[3]^{2} a[4] - a[1] a[4] a[9]^{2} + 2 a[1] a[5] a[8] a[9] - a[1] a[6] a[8]^{2} + a[2]^{2} a[9]^{2} - 2 a[2] a[3] a[8] a[9] - 2 a[2] a[5]^{2} a[9] + 2 a[2] a[5] a[6] a[8] + a[3]^{2} a[8]^{2} + 2 a[3] a[4] a[5] a[9] - 2 a[3] a[5]^{2} a[8] - a[4] a[5]^{2} a[6] + a[5]^{4}$"
      ],
      "text/plain": [
       "                                      2             2                         \n",
       "a[13]⋅a[1]⋅a[4]⋅a[6] - a[13]⋅a[1]⋅a[5]  - a[13]⋅a[2] ⋅a[6] + 2⋅a[13]⋅a[2]⋅a[3]\n",
       "\n",
       "                  2                      2                                    \n",
       "⋅a[5] - a[13]⋅a[3] ⋅a[4] - a[1]⋅a[4]⋅a[9]  + 2⋅a[1]⋅a[5]⋅a[8]⋅a[9] - a[1]⋅a[6]\n",
       "\n",
       "     2       2     2                                      2                   \n",
       "⋅a[8]  + a[2] ⋅a[9]  - 2⋅a[2]⋅a[3]⋅a[8]⋅a[9] - 2⋅a[2]⋅a[5] ⋅a[9] + 2⋅a[2]⋅a[5]\n",
       "\n",
       "                 2     2                                      2               \n",
       "⋅a[6]⋅a[8] + a[3] ⋅a[8]  + 2⋅a[3]⋅a[4]⋅a[5]⋅a[9] - 2⋅a[3]⋅a[5] ⋅a[8] - a[4]⋅a[\n",
       "\n",
       "  2            4\n",
       "5] ⋅a[6] + a[5] "
      ]
     },
     "execution_count": 19,
     "metadata": {},
     "output_type": "execute_result"
    }
   ],
   "source": [
    "expand((Hs[1]*H0_adj)[1, 2])"
   ]
  },
  {
   "cell_type": "code",
   "execution_count": 20,
   "metadata": {},
   "outputs": [
    {
     "data": {
      "text/latex": [
       "$a[13] a[1] a[4] a[6] - a[13] a[1] a[5]^{2} - a[13] a[2]^{2} a[6] + 2 a[13] a[2] a[3] a[5] - a[13] a[3]^{2} a[4] - a[1] a[4] a[9]^{2} + 2 a[1] a[5] a[8] a[9] - a[1] a[6] a[8]^{2} + a[2]^{2} a[9]^{2} - 2 a[2] a[3] a[8] a[9] - 2 a[2] a[5]^{2} a[9] + 2 a[2] a[5] a[6] a[8] + a[3]^{2} a[8]^{2} + 2 a[3] a[4] a[5] a[9] - 2 a[3] a[5]^{2} a[8] - a[4] a[5]^{2} a[6] + a[5]^{4}$"
      ],
      "text/plain": [
       "                                      2             2                         \n",
       "a[13]⋅a[1]⋅a[4]⋅a[6] - a[13]⋅a[1]⋅a[5]  - a[13]⋅a[2] ⋅a[6] + 2⋅a[13]⋅a[2]⋅a[3]\n",
       "\n",
       "                  2                      2                                    \n",
       "⋅a[5] - a[13]⋅a[3] ⋅a[4] - a[1]⋅a[4]⋅a[9]  + 2⋅a[1]⋅a[5]⋅a[8]⋅a[9] - a[1]⋅a[6]\n",
       "\n",
       "     2       2     2                                      2                   \n",
       "⋅a[8]  + a[2] ⋅a[9]  - 2⋅a[2]⋅a[3]⋅a[8]⋅a[9] - 2⋅a[2]⋅a[5] ⋅a[9] + 2⋅a[2]⋅a[5]\n",
       "\n",
       "                 2     2                                      2               \n",
       "⋅a[6]⋅a[8] + a[3] ⋅a[8]  + 2⋅a[3]⋅a[4]⋅a[5]⋅a[9] - 2⋅a[3]⋅a[5] ⋅a[8] - a[4]⋅a[\n",
       "\n",
       "  2            4\n",
       "5] ⋅a[6] + a[5] "
      ]
     },
     "execution_count": 20,
     "metadata": {},
     "output_type": "execute_result"
    }
   ],
   "source": [
    "expand((Hs[1]*H0_adj)[3, 4])"
   ]
  },
  {
   "cell_type": "code",
   "execution_count": 21,
   "metadata": {},
   "outputs": [
    {
     "data": {
      "text/latex": [
       "$a[13] a[1] a[4] a[6] - a[13] a[1] a[5]^{2} - a[13] a[2]^{2} a[6] + 2 a[13] a[2] a[3] a[5] - a[13] a[3]^{2} a[4] - a[1] a[4] a[9]^{2} + 2 a[1] a[5] a[8] a[9] - a[1] a[6] a[8]^{2} + a[2]^{2} a[9]^{2} - 2 a[2] a[3] a[8] a[9] - 2 a[2] a[5]^{2} a[9] + 2 a[2] a[5] a[6] a[8] + a[3]^{2} a[8]^{2} + 2 a[3] a[4] a[5] a[9] - 2 a[3] a[5]^{2} a[8] - a[4] a[5]^{2} a[6] + a[5]^{4}$"
      ],
      "text/plain": [
       "                                      2             2                         \n",
       "a[13]⋅a[1]⋅a[4]⋅a[6] - a[13]⋅a[1]⋅a[5]  - a[13]⋅a[2] ⋅a[6] + 2⋅a[13]⋅a[2]⋅a[3]\n",
       "\n",
       "                  2                      2                                    \n",
       "⋅a[5] - a[13]⋅a[3] ⋅a[4] - a[1]⋅a[4]⋅a[9]  + 2⋅a[1]⋅a[5]⋅a[8]⋅a[9] - a[1]⋅a[6]\n",
       "\n",
       "     2       2     2                                      2                   \n",
       "⋅a[8]  + a[2] ⋅a[9]  - 2⋅a[2]⋅a[3]⋅a[8]⋅a[9] - 2⋅a[2]⋅a[5] ⋅a[9] + 2⋅a[2]⋅a[5]\n",
       "\n",
       "                 2     2                                      2               \n",
       "⋅a[6]⋅a[8] + a[3] ⋅a[8]  + 2⋅a[3]⋅a[4]⋅a[5]⋅a[9] - 2⋅a[3]⋅a[5] ⋅a[8] - a[4]⋅a[\n",
       "\n",
       "  2            4\n",
       "5] ⋅a[6] + a[5] "
      ]
     },
     "execution_count": 21,
     "metadata": {},
     "output_type": "execute_result"
    }
   ],
   "source": [
    "expand((Hs[2]*H0_adj)[1, 3])"
   ]
  },
  {
   "cell_type": "code",
   "execution_count": 25,
   "metadata": {},
   "outputs": [
    {
     "data": {
      "text/latex": [
       "$- a[10] a[12] a[1] a[4] a[9] + a[10] a[12] a[1] a[5] a[8] + a[10] a[12] a[2]^{2} a[9] - a[10] a[12] a[2] a[3] a[8] - a[10] a[12] a[2] a[5]^{2} + a[10] a[12] a[3] a[4] a[5] + a[10] a[13] a[1] a[4] a[8] - a[10] a[13] a[1] a[5] a[7] - a[10] a[13] a[2]^{2} a[8] + a[10] a[13] a[2] a[3] a[7] + a[10] a[13] a[2] a[4] a[5] - a[10] a[13] a[3] a[4]^{2} + a[10] a[1] a[7] a[8] a[9] - a[10] a[1] a[8]^{3} - a[10] a[2] a[4] a[8] a[9] - a[10] a[2] a[5] a[7] a[9] + 2 a[10] a[2] a[5] a[8]^{2} + a[10] a[3] a[4] a[8]^{2} - a[10] a[3] a[5] a[7] a[8] + a[10] a[4]^{2} a[5] a[9] - 2 a[10] a[4] a[5]^{2} a[8] + a[10] a[5]^{3} a[7] + a[12] a[14] a[1] a[4] a[6] - a[12] a[14] a[1] a[5]^{2} - a[12] a[14] a[2]^{2} a[6] + 2 a[12] a[14] a[2] a[3] a[5] - a[12] a[14] a[3]^{2} a[4] + a[12] a[1] a[5] a[9]^{2} - a[12] a[1] a[6] a[8] a[9] - a[12] a[2] a[3] a[9]^{2} + a[12] a[2] a[6]^{2} a[8] + a[12] a[3]^{2} a[8] a[9] + a[12] a[3] a[4] a[6] a[9] - a[12] a[3] a[5]^{2} a[9] - a[12] a[3] a[5] a[6] a[8] - a[12] a[4] a[5] a[6]^{2} + a[12] a[5]^{3} a[6] - a[13] a[1] a[5] a[8] a[9] + a[13] a[1] a[6] a[7] a[9] + a[13] a[2] a[3] a[8] a[9] - a[13] a[2] a[4] a[6] a[9] + a[13] a[2] a[5] a[6] a[8] - a[13] a[2] a[6]^{2} a[7] - a[13] a[3]^{2} a[7] a[9] + a[13] a[3] a[4] a[5] a[9] - a[13] a[3] a[4] a[6] a[8] + a[13] a[3] a[5] a[6] a[7] + a[13] a[4]^{2} a[6]^{2} - a[13] a[4] a[5]^{2} a[6] - a[14] a[1] a[4] a[8] a[9] + a[14] a[1] a[5] a[7] a[9] + a[14] a[1] a[5] a[8]^{2} - a[14] a[1] a[6] a[7] a[8] + a[14] a[2]^{2} a[8] a[9] - a[14] a[2] a[3] a[7] a[9] - a[14] a[2] a[3] a[8]^{2} - a[14] a[2] a[4] a[5] a[9] + a[14] a[2] a[4] a[6] a[8] - a[14] a[2] a[5]^{2} a[8] + a[14] a[2] a[5] a[6] a[7] + a[14] a[3]^{2} a[7] a[8] + a[14] a[3] a[4]^{2} a[9] - a[14] a[3] a[5]^{2} a[7] - a[14] a[4]^{2} a[5] a[6] + a[14] a[4] a[5]^{3} - a[1] a[7] a[9]^{3} + a[1] a[8]^{2} a[9]^{2} + a[2] a[4] a[9]^{3} - a[2] a[5] a[8] a[9]^{2} + a[2] a[6] a[7] a[9]^{2} - a[2] a[6] a[8]^{2} a[9] - a[3] a[4] a[8] a[9]^{2} + 2 a[3] a[5] a[7] a[9]^{2} - a[3] a[5] a[8]^{2} a[9] - a[3] a[6] a[7] a[8] a[9] + a[3] a[6] a[8]^{3} - a[4]^{2} a[6] a[9]^{2} - a[4] a[5]^{2} a[9]^{2} + 4 a[4] a[5] a[6] a[8] a[9] - a[4] a[6]^{2} a[8]^{2} + a[5]^{3} a[8] a[9] - 2 a[5]^{2} a[6] a[7] a[9] - a[5]^{2} a[6] a[8]^{2} + a[5] a[6]^{2} a[7] a[8]$"
      ],
      "text/plain": [
       "                                                                           2  \n",
       "-a[10]⋅a[12]⋅a[1]⋅a[4]⋅a[9] + a[10]⋅a[12]⋅a[1]⋅a[5]⋅a[8] + a[10]⋅a[12]⋅a[2] ⋅a\n",
       "\n",
       "                                                        2                     \n",
       "[9] - a[10]⋅a[12]⋅a[2]⋅a[3]⋅a[8] - a[10]⋅a[12]⋅a[2]⋅a[5]  + a[10]⋅a[12]⋅a[3]⋅a\n",
       "\n",
       "                                                                              \n",
       "[4]⋅a[5] + a[10]⋅a[13]⋅a[1]⋅a[4]⋅a[8] - a[10]⋅a[13]⋅a[1]⋅a[5]⋅a[7] - a[10]⋅a[1\n",
       "\n",
       "       2                                                                      \n",
       "3]⋅a[2] ⋅a[8] + a[10]⋅a[13]⋅a[2]⋅a[3]⋅a[7] + a[10]⋅a[13]⋅a[2]⋅a[4]⋅a[5] - a[10\n",
       "\n",
       "                 2                                              3             \n",
       "]⋅a[13]⋅a[3]⋅a[4]  + a[10]⋅a[1]⋅a[7]⋅a[8]⋅a[9] - a[10]⋅a[1]⋅a[8]  - a[10]⋅a[2]\n",
       "\n",
       "                                                                    2         \n",
       "⋅a[4]⋅a[8]⋅a[9] - a[10]⋅a[2]⋅a[5]⋅a[7]⋅a[9] + 2⋅a[10]⋅a[2]⋅a[5]⋅a[8]  + a[10]⋅\n",
       "\n",
       "              2                                         2                     \n",
       "a[3]⋅a[4]⋅a[8]  - a[10]⋅a[3]⋅a[5]⋅a[7]⋅a[8] + a[10]⋅a[4] ⋅a[5]⋅a[9] - 2⋅a[10]⋅\n",
       "\n",
       "         2                  3                                                 \n",
       "a[4]⋅a[5] ⋅a[8] + a[10]⋅a[5] ⋅a[7] + a[12]⋅a[14]⋅a[1]⋅a[4]⋅a[6] - a[12]⋅a[14]⋅\n",
       "\n",
       "         2                   2                                                \n",
       "a[1]⋅a[5]  - a[12]⋅a[14]⋅a[2] ⋅a[6] + 2⋅a[12]⋅a[14]⋅a[2]⋅a[3]⋅a[5] - a[12]⋅a[1\n",
       "\n",
       "       2                            2                                         \n",
       "4]⋅a[3] ⋅a[4] + a[12]⋅a[1]⋅a[5]⋅a[9]  - a[12]⋅a[1]⋅a[6]⋅a[8]⋅a[9] - a[12]⋅a[2]\n",
       "\n",
       "          2                  2                  2                             \n",
       "⋅a[3]⋅a[9]  + a[12]⋅a[2]⋅a[6] ⋅a[8] + a[12]⋅a[3] ⋅a[8]⋅a[9] + a[12]⋅a[3]⋅a[4]⋅\n",
       "\n",
       "                           2                                                  \n",
       "a[6]⋅a[9] - a[12]⋅a[3]⋅a[5] ⋅a[9] - a[12]⋅a[3]⋅a[5]⋅a[6]⋅a[8] - a[12]⋅a[4]⋅a[5\n",
       "\n",
       "      2             3                                                         \n",
       "]⋅a[6]  + a[12]⋅a[5] ⋅a[6] - a[13]⋅a[1]⋅a[5]⋅a[8]⋅a[9] + a[13]⋅a[1]⋅a[6]⋅a[7]⋅\n",
       "\n",
       "                                                                              \n",
       "a[9] + a[13]⋅a[2]⋅a[3]⋅a[8]⋅a[9] - a[13]⋅a[2]⋅a[4]⋅a[6]⋅a[9] + a[13]⋅a[2]⋅a[5]\n",
       "\n",
       "                            2                  2                              \n",
       "⋅a[6]⋅a[8] - a[13]⋅a[2]⋅a[6] ⋅a[7] - a[13]⋅a[3] ⋅a[7]⋅a[9] + a[13]⋅a[3]⋅a[4]⋅a\n",
       "\n",
       "                                                                             2\n",
       "[5]⋅a[9] - a[13]⋅a[3]⋅a[4]⋅a[6]⋅a[8] + a[13]⋅a[3]⋅a[5]⋅a[6]⋅a[7] + a[13]⋅a[4] \n",
       "\n",
       "     2                  2                                                     \n",
       "⋅a[6]  - a[13]⋅a[4]⋅a[5] ⋅a[6] - a[14]⋅a[1]⋅a[4]⋅a[8]⋅a[9] + a[14]⋅a[1]⋅a[5]⋅a\n",
       "\n",
       "                               2                                         2    \n",
       "[7]⋅a[9] + a[14]⋅a[1]⋅a[5]⋅a[8]  - a[14]⋅a[1]⋅a[6]⋅a[7]⋅a[8] + a[14]⋅a[2] ⋅a[8\n",
       "\n",
       "                                                         2                    \n",
       "]⋅a[9] - a[14]⋅a[2]⋅a[3]⋅a[7]⋅a[9] - a[14]⋅a[2]⋅a[3]⋅a[8]  - a[14]⋅a[2]⋅a[4]⋅a\n",
       "\n",
       "                                                      2                       \n",
       "[5]⋅a[9] + a[14]⋅a[2]⋅a[4]⋅a[6]⋅a[8] - a[14]⋅a[2]⋅a[5] ⋅a[8] + a[14]⋅a[2]⋅a[5]\n",
       "\n",
       "                       2                            2                       2 \n",
       "⋅a[6]⋅a[7] + a[14]⋅a[3] ⋅a[7]⋅a[8] + a[14]⋅a[3]⋅a[4] ⋅a[9] - a[14]⋅a[3]⋅a[5] ⋅\n",
       "\n",
       "                 2                            3                 3            2\n",
       "a[7] - a[14]⋅a[4] ⋅a[5]⋅a[6] + a[14]⋅a[4]⋅a[5]  - a[1]⋅a[7]⋅a[9]  + a[1]⋅a[8] \n",
       "\n",
       "     2                 3                      2                      2        \n",
       "⋅a[9]  + a[2]⋅a[4]⋅a[9]  - a[2]⋅a[5]⋅a[8]⋅a[9]  + a[2]⋅a[6]⋅a[7]⋅a[9]  - a[2]⋅\n",
       "\n",
       "         2                           2                        2               \n",
       "a[6]⋅a[8] ⋅a[9] - a[3]⋅a[4]⋅a[8]⋅a[9]  + 2⋅a[3]⋅a[5]⋅a[7]⋅a[9]  - a[3]⋅a[5]⋅a[\n",
       "\n",
       "  2                                                 3       2          2      \n",
       "8] ⋅a[9] - a[3]⋅a[6]⋅a[7]⋅a[8]⋅a[9] + a[3]⋅a[6]⋅a[8]  - a[4] ⋅a[6]⋅a[9]  - a[4\n",
       "\n",
       "      2     2                                         2     2       3         \n",
       "]⋅a[5] ⋅a[9]  + 4⋅a[4]⋅a[5]⋅a[6]⋅a[8]⋅a[9] - a[4]⋅a[6] ⋅a[8]  + a[5] ⋅a[8]⋅a[9\n",
       "\n",
       "          2                      2          2            2          \n",
       "] - 2⋅a[5] ⋅a[6]⋅a[7]⋅a[9] - a[5] ⋅a[6]⋅a[8]  + a[5]⋅a[6] ⋅a[7]⋅a[8]"
      ]
     },
     "execution_count": 25,
     "metadata": {},
     "output_type": "execute_result"
    }
   ],
   "source": [
    "expand.(eqMat1[2, 3])"
   ]
  },
  {
   "cell_type": "code",
   "execution_count": null,
   "metadata": {},
   "outputs": [],
   "source": []
  }
 ],
 "metadata": {
  "@webio": {
   "lastCommId": null,
   "lastKernelId": null
  },
  "kernelspec": {
   "display_name": "Julia 1.9.0",
   "language": "julia",
   "name": "julia-1.9"
  },
  "language_info": {
   "file_extension": ".jl",
   "mimetype": "application/julia",
   "name": "julia",
   "version": "1.9.0"
  }
 },
 "nbformat": 4,
 "nbformat_minor": 4
}
