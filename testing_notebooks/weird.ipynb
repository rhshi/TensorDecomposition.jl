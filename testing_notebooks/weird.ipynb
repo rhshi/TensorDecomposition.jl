{
 "cells": [
  {
   "cell_type": "code",
   "execution_count": 6,
   "metadata": {},
   "outputs": [],
   "source": [
    "using TensorDecomposition, StatsBase, LinearAlgebra, Combinatorics, InvertedIndices, Einsum, IterTools, HomotopyContinuation"
   ]
  },
  {
   "cell_type": "code",
   "execution_count": 7,
   "metadata": {},
   "outputs": [],
   "source": [
    "function from_multiindex(x, n)\n",
    "    d = length(x)\n",
    "    c = 0\n",
    "    for i=1:d-1\n",
    "        c += (x[i]-1)*n^(d-i)\n",
    "    end\n",
    "    return c + x[d]\n",
    "end;\n",
    "\n",
    "function kronMat2(A, d)\n",
    "   return foldl(kron, repeat([A], d)) \n",
    "end\n",
    "\n",
    "function kronMatDrop(A, d)\n",
    "    n = size(A)[1]-1\n",
    "    inds = collect(with_replacement_combinations(1:n+1, d))\n",
    "    inds = map(x->from_multiindex(x, n+1), inds)\n",
    "    return kronMat2(A, d)[inds, inds]\n",
    "end;\n",
    "\n",
    "function khatri_rao(A, d)\n",
    "    if d == 1\n",
    "        B = A\n",
    "    else\n",
    "        n, r = size(A)\n",
    "        B = zeros(eltype(A), (n^d, r))\n",
    "        for i=1:r \n",
    "            B[:, i] = kron(ntuple(x->A[:, i], d)...)\n",
    "        end;\n",
    "    end;\n",
    "    return B\n",
    "end\n",
    "\n",
    "function krDrop(A, d)\n",
    "    n = size(A)[1]-1\n",
    "    inds = collect(with_replacement_combinations(1:n+1, d))\n",
    "    inds = map(x->from_multiindex(x, n+1), inds)\n",
    "    return khatri_rao(A, d)[inds, :]\n",
    "end;\n",
    "\n",
    "function changeBasis(T, M)\n",
    "    Tsize = size(T)\n",
    "    n1 = Tsize[1]\n",
    "    d = length(Tsize)\n",
    "    \n",
    "    n2 = size(M)[1]\n",
    "    \n",
    "    That = reshape(T, n1^d)\n",
    "    return reshape(foldl(kron, repeat([M], d))*That, repeat([n2], d)...)\n",
    "end;\n",
    "\n",
    "function multMon(x, j)\n",
    "    c = copy(reverse(x))\n",
    "    for i=1:length(c)\n",
    "        if c[i] == 0\n",
    "            c[i] = j\n",
    "            break\n",
    "        end\n",
    "    end;\n",
    "    return sort(reverse(c))\n",
    "end;"
   ]
  },
  {
   "cell_type": "markdown",
   "metadata": {},
   "source": [
    "## Stanley's example"
   ]
  },
  {
   "cell_type": "code",
   "execution_count": 8,
   "metadata": {},
   "outputs": [],
   "source": [
    "n = 12\n",
    "d = 4;"
   ]
  },
  {
   "cell_type": "code",
   "execution_count": 9,
   "metadata": {},
   "outputs": [],
   "source": [
    "T = zeros(repeat([n+1], d)...);\n",
    "first_parts = collect(with_replacement_combinations(1:3, 3))\n",
    "vars = Set()\n",
    "for (i, first_part) in enumerate(first_parts)\n",
    "    push!(vars, append!(first_part, i+3))\n",
    "end"
   ]
  },
  {
   "cell_type": "code",
   "execution_count": 10,
   "metadata": {},
   "outputs": [],
   "source": [
    "for ind in with_replacement_combinations(1:n+1, 4)\n",
    "    if ind in vars\n",
    "        perms = Combinatorics.permutations(ind)\n",
    "        for perm in perms\n",
    "            T[perm...] = 1 \n",
    "        end\n",
    "    end\n",
    "end"
   ]
  },
  {
   "cell_type": "code",
   "execution_count": 11,
   "metadata": {},
   "outputs": [],
   "source": [
    "M = randn(n+1, n+1);"
   ]
  },
  {
   "cell_type": "code",
   "execution_count": 12,
   "metadata": {},
   "outputs": [],
   "source": [
    "k = 1\n",
    "\n",
    "rowInds = collect(with_replacement_combinations(1:n+1, k))\n",
    "rowInds = map(x->from_multiindex(x, n+1), rowInds)\n",
    "\n",
    "colInds = collect(with_replacement_combinations(1:n+1, d-k))\n",
    "colInds = map(x->from_multiindex(x, n+1), colInds)\n",
    "\n",
    "catMatM = (kronMat2(M, k)*reshape(T, ((n+1)^k, (n+1)^(d-k)))*permutedims(kronMat2(M, d-k)))[rowInds, colInds];"
   ]
  },
  {
   "cell_type": "code",
   "execution_count": 13,
   "metadata": {},
   "outputs": [],
   "source": [
    "k = 2\n",
    "\n",
    "rowInds = collect(with_replacement_combinations(1:n+1, k))\n",
    "rowInds = map(x->from_multiindex(x, n+1), rowInds)\n",
    "\n",
    "colInds = collect(with_replacement_combinations(1:n+1, d-k))\n",
    "colInds = map(x->from_multiindex(x, n+1), colInds)\n",
    "\n",
    "catMatM = (kronMat2(M, k)*reshape(T, ((n+1)^k, (n+1)^(d-k)))*permutedims(kronMat2(M, d-k)))[rowInds, colInds];"
   ]
  },
  {
   "cell_type": "code",
   "execution_count": 14,
   "metadata": {},
   "outputs": [
    {
     "data": {
      "text/plain": [
       "6"
      ]
     },
     "execution_count": 14,
     "metadata": {},
     "output_type": "execute_result"
    }
   ],
   "source": [
    "rank(catMatM[1:13, 1:13])"
   ]
  },
  {
   "cell_type": "code",
   "execution_count": 15,
   "metadata": {},
   "outputs": [
    {
     "data": {
      "text/plain": [
       "91×91 Matrix{Float64}:\n",
       " 0.0  0.0  0.0  1.0  0.0  0.0  0.0  0.0  …  0.0  0.0  0.0  0.0  0.0  0.0  0.0\n",
       " 0.0  0.0  0.0  0.0  1.0  0.0  0.0  0.0     0.0  0.0  0.0  0.0  0.0  0.0  0.0\n",
       " 0.0  0.0  0.0  0.0  0.0  1.0  0.0  0.0     0.0  0.0  0.0  0.0  0.0  0.0  0.0\n",
       " 1.0  0.0  0.0  0.0  0.0  0.0  0.0  0.0     0.0  0.0  0.0  0.0  0.0  0.0  0.0\n",
       " 0.0  1.0  0.0  0.0  0.0  0.0  0.0  0.0     0.0  0.0  0.0  0.0  0.0  0.0  0.0\n",
       " 0.0  0.0  1.0  0.0  0.0  0.0  0.0  0.0  …  0.0  0.0  0.0  0.0  0.0  0.0  0.0\n",
       " 0.0  0.0  0.0  0.0  0.0  0.0  0.0  0.0     0.0  0.0  0.0  0.0  0.0  0.0  0.0\n",
       " 0.0  0.0  0.0  0.0  0.0  0.0  0.0  0.0     0.0  0.0  0.0  0.0  0.0  0.0  0.0\n",
       " 0.0  0.0  0.0  0.0  0.0  0.0  0.0  0.0     0.0  0.0  0.0  0.0  0.0  0.0  0.0\n",
       " 0.0  0.0  0.0  0.0  0.0  0.0  0.0  0.0     0.0  0.0  0.0  0.0  0.0  0.0  0.0\n",
       " 0.0  0.0  0.0  0.0  0.0  0.0  0.0  0.0  …  0.0  0.0  0.0  0.0  0.0  0.0  0.0\n",
       " 0.0  0.0  0.0  0.0  0.0  0.0  0.0  0.0     0.0  0.0  0.0  0.0  0.0  0.0  0.0\n",
       " 0.0  0.0  0.0  0.0  0.0  0.0  0.0  0.0     0.0  0.0  0.0  0.0  0.0  0.0  0.0\n",
       " ⋮                        ⋮              ⋱       ⋮                        ⋮\n",
       " 0.0  0.0  0.0  0.0  0.0  0.0  0.0  0.0     0.0  0.0  0.0  0.0  0.0  0.0  0.0\n",
       " 0.0  0.0  0.0  0.0  0.0  0.0  0.0  0.0  …  0.0  0.0  0.0  0.0  0.0  0.0  0.0\n",
       " 0.0  0.0  0.0  0.0  0.0  0.0  0.0  0.0     0.0  0.0  0.0  0.0  0.0  0.0  0.0\n",
       " 0.0  0.0  0.0  0.0  0.0  0.0  0.0  0.0     0.0  0.0  0.0  0.0  0.0  0.0  0.0\n",
       " 0.0  0.0  0.0  0.0  0.0  0.0  0.0  0.0     0.0  0.0  0.0  0.0  0.0  0.0  0.0\n",
       " 0.0  0.0  0.0  0.0  0.0  0.0  0.0  0.0     0.0  0.0  0.0  0.0  0.0  0.0  0.0\n",
       " 0.0  0.0  0.0  0.0  0.0  0.0  0.0  0.0  …  0.0  0.0  0.0  0.0  0.0  0.0  0.0\n",
       " 0.0  0.0  0.0  0.0  0.0  0.0  0.0  0.0     0.0  0.0  0.0  0.0  0.0  0.0  0.0\n",
       " 0.0  0.0  0.0  0.0  0.0  0.0  0.0  0.0     0.0  0.0  0.0  0.0  0.0  0.0  0.0\n",
       " 0.0  0.0  0.0  0.0  0.0  0.0  0.0  0.0     0.0  0.0  0.0  0.0  0.0  0.0  0.0\n",
       " 0.0  0.0  0.0  0.0  0.0  0.0  0.0  0.0     0.0  0.0  0.0  0.0  0.0  0.0  0.0\n",
       " 0.0  0.0  0.0  0.0  0.0  0.0  0.0  0.0  …  0.0  0.0  0.0  0.0  0.0  0.0  0.0"
      ]
     },
     "execution_count": 15,
     "metadata": {},
     "output_type": "execute_result"
    }
   ],
   "source": [
    "catMat(T, 2)"
   ]
  },
  {
   "cell_type": "code",
   "execution_count": 16,
   "metadata": {},
   "outputs": [
    {
     "data": {
      "text/plain": [
       "13×455 Matrix{Float64}:\n",
       " 0.0  0.0  0.0  1.0  0.0  0.0  0.0  0.0  …  0.0  0.0  0.0  0.0  0.0  0.0  0.0\n",
       " 0.0  0.0  0.0  0.0  1.0  0.0  0.0  0.0     0.0  0.0  0.0  0.0  0.0  0.0  0.0\n",
       " 0.0  0.0  0.0  0.0  0.0  1.0  0.0  0.0     0.0  0.0  0.0  0.0  0.0  0.0  0.0\n",
       " 1.0  0.0  0.0  0.0  0.0  0.0  0.0  0.0     0.0  0.0  0.0  0.0  0.0  0.0  0.0\n",
       " 0.0  1.0  0.0  0.0  0.0  0.0  0.0  0.0     0.0  0.0  0.0  0.0  0.0  0.0  0.0\n",
       " 0.0  0.0  1.0  0.0  0.0  0.0  0.0  0.0  …  0.0  0.0  0.0  0.0  0.0  0.0  0.0\n",
       " 0.0  0.0  0.0  0.0  0.0  0.0  0.0  0.0     0.0  0.0  0.0  0.0  0.0  0.0  0.0\n",
       " 0.0  0.0  0.0  0.0  0.0  0.0  0.0  0.0     0.0  0.0  0.0  0.0  0.0  0.0  0.0\n",
       " 0.0  0.0  0.0  0.0  0.0  0.0  0.0  0.0     0.0  0.0  0.0  0.0  0.0  0.0  0.0\n",
       " 0.0  0.0  0.0  0.0  0.0  0.0  0.0  0.0     0.0  0.0  0.0  0.0  0.0  0.0  0.0\n",
       " 0.0  0.0  0.0  0.0  0.0  0.0  0.0  0.0  …  0.0  0.0  0.0  0.0  0.0  0.0  0.0\n",
       " 0.0  0.0  0.0  0.0  0.0  0.0  0.0  0.0     0.0  0.0  0.0  0.0  0.0  0.0  0.0\n",
       " 0.0  0.0  0.0  0.0  0.0  0.0  0.0  0.0     0.0  0.0  0.0  0.0  0.0  0.0  0.0"
      ]
     },
     "execution_count": 16,
     "metadata": {},
     "output_type": "execute_result"
    }
   ],
   "source": [
    "catMat(T, 1)"
   ]
  },
  {
   "cell_type": "markdown",
   "metadata": {},
   "source": [
    "## Perazzo's cubic"
   ]
  },
  {
   "cell_type": "code",
   "execution_count": 12,
   "metadata": {},
   "outputs": [],
   "source": [
    "n = 4\n",
    "d = 4;"
   ]
  },
  {
   "cell_type": "code",
   "execution_count": 13,
   "metadata": {},
   "outputs": [],
   "source": [
    "T = zeros(repeat([n+1], d)...);\n",
    "\n",
    "inds = Set([[1, 4, 4, 4], [2, 4, 5, 5], [3, 4, 4, 5]])\n",
    "for ind in with_replacement_combinations(1:n+1, d)\n",
    "    if ind in inds\n",
    "        perms = Combinatorics.permutations(ind)\n",
    "        for perm in perms\n",
    "            T[perm...] = 1 \n",
    "        end\n",
    "    end\n",
    "end"
   ]
  },
  {
   "cell_type": "code",
   "execution_count": 14,
   "metadata": {},
   "outputs": [],
   "source": [
    "M = randn(n+1, n+1);\n",
    "TM = changeBasis(T, M);"
   ]
  },
  {
   "cell_type": "code",
   "execution_count": 15,
   "metadata": {},
   "outputs": [],
   "source": [
    "Q, R = qr(catMat(T, 2));"
   ]
  },
  {
   "cell_type": "code",
   "execution_count": 16,
   "metadata": {},
   "outputs": [
    {
     "data": {
      "text/plain": [
       "6×6 Matrix{Float64}:\n",
       " 0.0  0.0  0.0  1.0  0.0  0.0\n",
       " 0.0  0.0  0.0  0.0  0.0  1.0\n",
       " 0.0  0.0  0.0  0.0  1.0  0.0\n",
       " 1.0  0.0  0.0  0.0  0.0  0.0\n",
       " 0.0  0.0  1.0  0.0  0.0  0.0\n",
       " 0.0  1.0  0.0  0.0  0.0  0.0"
      ]
     },
     "execution_count": 16,
     "metadata": {},
     "output_type": "execute_result"
    }
   ],
   "source": [
    "catMat(T, 2)[[4, 8, 11, 13, 14, 15], [4, 8, 11, 13, 14, 15]]"
   ]
  },
  {
   "cell_type": "code",
   "execution_count": 17,
   "metadata": {},
   "outputs": [
    {
     "data": {
      "text/plain": [
       "5"
      ]
     },
     "execution_count": 17,
     "metadata": {},
     "output_type": "execute_result"
    }
   ],
   "source": [
    "QM, RM = qr(catMat(TM, 2));\n",
    "rank(catMat(TM, 2)[1:5, :])"
   ]
  },
  {
   "cell_type": "markdown",
   "metadata": {},
   "source": [
    "## Monomials"
   ]
  },
  {
   "cell_type": "code",
   "execution_count": 17,
   "metadata": {},
   "outputs": [],
   "source": [
    "n = 3\n",
    "d = 4\n",
    "r = 8;"
   ]
  },
  {
   "cell_type": "code",
   "execution_count": 50,
   "metadata": {},
   "outputs": [],
   "source": [
    "P = zeros(n+1, r)\n",
    "P[1, :] = ones(r)\n",
    "sigs = product(repeat([[-1, 1]], n)...)\n",
    "for (i, sig) in enumerate(sigs)\n",
    "    P[2:end, i] .= sig\n",
    "end\n",
    "\n",
    "L = prod.(eachcol(P)) ;"
   ]
  },
  {
   "cell_type": "code",
   "execution_count": 80,
   "metadata": {},
   "outputs": [],
   "source": [
    "T = makeRankedTensor(L, P, d+2) / 8;\n",
    "Tcat = catMat(T, 3);"
   ]
  },
  {
   "cell_type": "code",
   "execution_count": 81,
   "metadata": {},
   "outputs": [
    {
     "data": {
      "text/plain": [
       "4×8 Matrix{ComplexF64}:\n",
       "  0.612372+0.353553im   0.707107+0.0im   0.707107+0.0im  …  0.707107+0.0im\n",
       " -0.612372-0.353553im   0.707107+0.0im  -0.707107-0.0im     0.707107+0.0im\n",
       " -0.612372-0.353553im  -0.707107-0.0im   0.707107+0.0im     0.707107+0.0im\n",
       " -0.612372-0.353553im  -0.707107-0.0im  -0.707107-0.0im     0.707107+0.0im"
      ]
     },
     "execution_count": 81,
     "metadata": {},
     "output_type": "execute_result"
    }
   ],
   "source": [
    "A = (permutedims(Complex.(L) .^ (1/6)) .* P ) / r^(1/6)"
   ]
  },
  {
   "cell_type": "code",
   "execution_count": 98,
   "metadata": {},
   "outputs": [
    {
     "data": {
      "text/plain": [
       "16×8 Matrix{ComplexF64}:\n",
       "  0.25+0.433013im   0.5+0.0im   0.5+0.0im  …   0.25+0.433013im  0.5+0.0im\n",
       " -0.25-0.433013im   0.5+0.0im  -0.5-0.0im     -0.25-0.433013im  0.5+0.0im\n",
       " -0.25-0.433013im  -0.5-0.0im   0.5+0.0im      0.25+0.433013im  0.5+0.0im\n",
       " -0.25-0.433013im  -0.5-0.0im  -0.5-0.0im      0.25+0.433013im  0.5+0.0im\n",
       " -0.25-0.433013im   0.5+0.0im  -0.5-0.0im     -0.25-0.433013im  0.5+0.0im\n",
       "  0.25+0.433013im   0.5+0.0im   0.5+0.0im  …   0.25+0.433013im  0.5+0.0im\n",
       "  0.25+0.433013im  -0.5-0.0im  -0.5-0.0im     -0.25-0.433013im  0.5+0.0im\n",
       "  0.25+0.433013im  -0.5-0.0im   0.5+0.0im     -0.25-0.433013im  0.5+0.0im\n",
       " -0.25-0.433013im  -0.5-0.0im   0.5+0.0im      0.25+0.433013im  0.5+0.0im\n",
       "  0.25+0.433013im  -0.5-0.0im  -0.5-0.0im     -0.25-0.433013im  0.5+0.0im\n",
       "  0.25+0.433013im   0.5+0.0im   0.5+0.0im  …   0.25+0.433013im  0.5+0.0im\n",
       "  0.25+0.433013im   0.5+0.0im  -0.5-0.0im      0.25+0.433013im  0.5+0.0im\n",
       " -0.25-0.433013im  -0.5-0.0im  -0.5-0.0im      0.25+0.433013im  0.5+0.0im\n",
       "  0.25+0.433013im  -0.5-0.0im   0.5+0.0im     -0.25-0.433013im  0.5+0.0im\n",
       "  0.25+0.433013im   0.5+0.0im  -0.5-0.0im      0.25+0.433013im  0.5+0.0im\n",
       "  0.25+0.433013im   0.5+0.0im   0.5+0.0im  …   0.25+0.433013im  0.5+0.0im"
      ]
     },
     "execution_count": 98,
     "metadata": {},
     "output_type": "execute_result"
    }
   ],
   "source": [
    "A2 = khatri_rao(A, 2)"
   ]
  },
  {
   "cell_type": "code",
   "execution_count": 90,
   "metadata": {},
   "outputs": [
    {
     "data": {
      "text/plain": [
       "4×4 Matrix{Float64}:\n",
       " -1.33609    0.929436   0.733894   -0.685808\n",
       " -1.67814   -0.245635  -0.787027    0.146802\n",
       " -0.136182  -0.303429  -2.11711     1.50568\n",
       " -0.991588  -1.31221    0.0251195  -0.918185"
      ]
     },
     "execution_count": 90,
     "metadata": {},
     "output_type": "execute_result"
    }
   ],
   "source": [
    "M = randn(n+1, n+1)"
   ]
  },
  {
   "cell_type": "code",
   "execution_count": 95,
   "metadata": {},
   "outputs": [],
   "source": [
    "I = diagm(ones(n+1));\n",
    "IM = kron(I, M)\n",
    "MI = kron(M, I);"
   ]
  },
  {
   "cell_type": "code",
   "execution_count": 105,
   "metadata": {},
   "outputs": [
    {
     "data": {
      "text/plain": [
       "6"
      ]
     },
     "execution_count": 105,
     "metadata": {},
     "output_type": "execute_result"
    }
   ],
   "source": [
    "rank(A2[1:10, :])"
   ]
  },
  {
   "cell_type": "code",
   "execution_count": 129,
   "metadata": {},
   "outputs": [
    {
     "data": {
      "text/plain": [
       "7"
      ]
     },
     "execution_count": 129,
     "metadata": {},
     "output_type": "execute_result"
    }
   ],
   "source": [
    "rank((kron(I, M)*A2)[[1, 2, 3, 4, 5, 6, 10], :])"
   ]
  },
  {
   "cell_type": "code",
   "execution_count": 179,
   "metadata": {},
   "outputs": [
    {
     "data": {
      "text/plain": [
       "8×8 adjoint(::Matrix{ComplexF64}) with eltype ComplexF64:\n",
       "  -0.171709+0.297409im     -0.0183194+0.0317301im    …    0.2374+0.261994im\n",
       " -0.0406259+9.79202e-18im    0.302092-5.25629e-17im     0.108194-0.336592im\n",
       "   0.227893-5.31782e-17im  -0.0487302-4.09423e-17im     0.108194-0.336592im\n",
       "   0.151927-0.263145im       0.295683-0.512138im          0.2374+0.261994im\n",
       "  -0.759903+1.03714e-16im   0.0918084-6.24357e-17im     0.108194-0.336592im\n",
       "   -0.19176+0.332139im       0.200831-0.347849im     …    0.2374+0.261994im\n",
       " -0.0300805+0.052101im     0.00481608-0.00834169im        0.2374+0.261994im\n",
       "  0.0893895-1.5329e-17im     0.620851+1.58669e-17im     0.108194-0.336592im"
      ]
     },
     "execution_count": 179,
     "metadata": {},
     "output_type": "execute_result"
    }
   ],
   "source": [
    "V1 = svd((IM*A2)[[1, 2, 3, 4, 5, 6, 9], :], full=true).V"
   ]
  },
  {
   "cell_type": "code",
   "execution_count": 196,
   "metadata": {},
   "outputs": [
    {
     "data": {
      "text/plain": [
       "6"
      ]
     },
     "execution_count": 196,
     "metadata": {},
     "output_type": "execute_result"
    }
   ],
   "source": [
    "rank((IM*A2)[[1, 2, 3, 5, 6, 7], :])"
   ]
  },
  {
   "cell_type": "code",
   "execution_count": null,
   "metadata": {},
   "outputs": [],
   "source": []
  },
  {
   "cell_type": "code",
   "execution_count": 229,
   "metadata": {},
   "outputs": [
    {
     "data": {
      "text/plain": [
       "7×7 Matrix{Float64}:\n",
       " -1.33609  -0.0      -0.0      -0.0       0.929436   0.0        0.0\n",
       " -0.0      -1.33609  -0.0      -0.0       0.0        0.929436   0.0\n",
       " -0.0      -0.0      -1.33609  -0.0       0.0        0.0        0.929436\n",
       " -0.0      -0.0      -0.0      -1.33609   0.0        0.0        0.0\n",
       " -1.67814  -0.0      -0.0      -0.0      -0.245635  -0.0       -0.0\n",
       " -0.0      -1.67814  -0.0      -0.0      -0.0       -0.245635  -0.0\n",
       " -0.0      -0.0      -1.67814  -0.0      -0.0       -0.0       -0.245635"
      ]
     },
     "execution_count": 229,
     "metadata": {},
     "output_type": "execute_result"
    }
   ],
   "source": [
    "MI[[1, 2, 3, 4, 5, 6, 7], 1:7]"
   ]
  },
  {
   "cell_type": "code",
   "execution_count": 234,
   "metadata": {},
   "outputs": [
    {
     "data": {
      "text/plain": [
       "7×8 Matrix{ComplexF64}:\n",
       " -0.578403-1.00182im    -0.22737+0.0im  -0.422912+0.0im  …  -0.179284+0.0im\n",
       "  -0.19807-0.343067im  -0.641775+0.0im   -1.18317+0.0im        -1.282+0.0im\n",
       "  0.194669+0.337176im  0.0859088+0.0im   -1.72777+0.0im      -0.52552+0.0im\n",
       "   0.30342+0.52554im   -0.705364+0.0im    0.63196+0.0im      -1.59843+0.0im\n",
       "  0.578403+1.00182im    -0.22737+0.0im   0.422912+0.0im     -0.179284+0.0im\n",
       "   0.19807+0.343067im  -0.641775+0.0im    1.18317+0.0im  …     -1.282+0.0im\n",
       " -0.194669-0.337176im  0.0859088+0.0im    1.72777+0.0im      -0.52552+0.0im"
      ]
     },
     "execution_count": 234,
     "metadata": {},
     "output_type": "execute_result"
    }
   ],
   "source": [
    "(IM*A2)[1:7, :]"
   ]
  },
  {
   "cell_type": "code",
   "execution_count": null,
   "metadata": {},
   "outputs": [],
   "source": []
  },
  {
   "cell_type": "code",
   "execution_count": 238,
   "metadata": {},
   "outputs": [
    {
     "data": {
      "text/plain": [
       "16×8 Matrix{Float64}:\n",
       "  2.66711    0.421267    1.33101     0.0535715    …   1.11561      0.922417\n",
       "  0.862402   0.794348   -0.747954   -0.223965        -0.00448823   1.01593\n",
       " -0.916368  -0.152358    0.250709   -0.00465867       1.3106       0.727645\n",
       " -0.574944  -0.197443    0.683081   -0.435502         0.742269    -0.425718\n",
       "  0.862402   0.794348   -0.747954   -0.223965        -0.00448823   1.01593\n",
       "  0.278855   1.49783     0.42031     0.936328     …   1.80567e-5   1.11892\n",
       " -0.296304  -0.287289   -0.140885    0.0194764       -0.0052727    0.801412\n",
       " -0.185906  -0.372301   -0.383854    1.82069         -0.00298624  -0.468877\n",
       " -0.916368  -0.152358    0.250709   -0.00465867       1.3106       0.727645\n",
       " -0.296304  -0.287289   -0.140885    0.0194764       -0.0052727    0.801412\n",
       "  0.314846   0.0551028   0.0472238   0.000405125  …   1.53967      0.574\n",
       "  0.197539   0.0714085   0.128665    0.037872         0.872007    -0.335826\n",
       " -0.574944  -0.197443    0.683081   -0.435502         0.742269    -0.425718\n",
       " -0.185906  -0.372301   -0.383854    1.82069         -0.00298624  -0.468877\n",
       "  0.197539   0.0714085   0.128665    0.037872         0.872007    -0.335826\n",
       "  0.123939   0.0925393   0.350561    3.54035      …   0.493868     0.19648"
      ]
     },
     "execution_count": 238,
     "metadata": {},
     "output_type": "execute_result"
    }
   ],
   "source": [
    "B = randn(n+1, r);\n",
    "B2 = khatri_rao(B, 2)"
   ]
  },
  {
   "cell_type": "code",
   "execution_count": 243,
   "metadata": {},
   "outputs": [
    {
     "data": {
      "text/plain": [
       "16×8 Matrix{Float64}:\n",
       "  2.66711    0.421267    1.33101     0.0535715    …   1.11561      0.922417\n",
       "  0.862402   0.794348   -0.747954   -0.223965        -0.00448823   1.01593\n",
       " -0.916368  -0.152358    0.250709   -0.00465867       1.3106       0.727645\n",
       " -0.574944  -0.197443    0.683081   -0.435502         0.742269    -0.425718\n",
       "  0.862402   0.794348   -0.747954   -0.223965        -0.00448823   1.01593\n",
       "  0.278855   1.49783     0.42031     0.936328     …   1.80567e-5   1.11892\n",
       " -0.296304  -0.287289   -0.140885    0.0194764       -0.0052727    0.801412\n",
       " -0.185906  -0.372301   -0.383854    1.82069         -0.00298624  -0.468877\n",
       " -0.916368  -0.152358    0.250709   -0.00465867       1.3106       0.727645\n",
       " -0.296304  -0.287289   -0.140885    0.0194764       -0.0052727    0.801412\n",
       "  0.314846   0.0551028   0.0472238   0.000405125  …   1.53967      0.574\n",
       "  0.197539   0.0714085   0.128665    0.037872         0.872007    -0.335826\n",
       " -0.574944  -0.197443    0.683081   -0.435502         0.742269    -0.425718\n",
       " -0.185906  -0.372301   -0.383854    1.82069         -0.00298624  -0.468877\n",
       "  0.197539   0.0714085   0.128665    0.037872         0.872007    -0.335826\n",
       "  0.123939   0.0925393   0.350561    3.54035      …   0.493868     0.19648"
      ]
     },
     "execution_count": 243,
     "metadata": {},
     "output_type": "execute_result"
    }
   ],
   "source": [
    "B2"
   ]
  },
  {
   "cell_type": "code",
   "execution_count": 246,
   "metadata": {},
   "outputs": [
    {
     "data": {
      "text/plain": [
       "16×16 Matrix{Float64}:\n",
       " -1.33609    0.929436   0.733894   …   0.0        0.0        -0.0\n",
       " -1.67814   -0.245635  -0.787027      -0.0       -0.0         0.0\n",
       " -0.136182  -0.303429  -2.11711       -0.0       -0.0         0.0\n",
       " -0.991588  -1.31221    0.0251195     -0.0        0.0        -0.0\n",
       " -0.0        0.0        0.0            0.0        0.0        -0.0\n",
       " -0.0       -0.0       -0.0        …  -0.0       -0.0         0.0\n",
       " -0.0       -0.0       -0.0           -0.0       -0.0         0.0\n",
       " -0.0       -0.0        0.0           -0.0        0.0        -0.0\n",
       " -0.0        0.0        0.0            0.0        0.0        -0.0\n",
       " -0.0       -0.0       -0.0           -0.0       -0.0         0.0\n",
       " -0.0       -0.0       -0.0        …  -0.0       -0.0         0.0\n",
       " -0.0       -0.0        0.0           -0.0        0.0        -0.0\n",
       " -0.0        0.0        0.0            0.929436   0.733894   -0.685808\n",
       " -0.0       -0.0       -0.0           -0.245635  -0.787027    0.146802\n",
       " -0.0       -0.0       -0.0           -0.303429  -2.11711     1.50568\n",
       " -0.0       -0.0        0.0        …  -1.31221    0.0251195  -0.918185"
      ]
     },
     "execution_count": 246,
     "metadata": {},
     "output_type": "execute_result"
    }
   ],
   "source": [
    "IM"
   ]
  },
  {
   "cell_type": "code",
   "execution_count": 251,
   "metadata": {},
   "outputs": [
    {
     "data": {
      "text/plain": [
       "16×8 Matrix{Float64}:\n",
       "  7.48944    0.176128   2.88817   …   -0.465308  -1.02371   0.632787\n",
       "  9.97917   -0.717778   2.24827        2.06194   -2.74468  -2.86241\n",
       " -1.10729   -0.241688  -0.569063       2.82966   -1.776    -3.0774\n",
       "  8.05917   -1.13498    1.00452        0.371985  -1.71835  -2.1634\n",
       "  9.97917   -0.717778   2.24827        2.06194   -2.74468  -2.86241\n",
       " 13.2966     2.92517    1.75015   …   -9.13716   -7.35882  12.9481\n",
       " -1.47538    0.984954  -0.442982     -12.5392    -4.76167  13.9206\n",
       " 10.7383     4.6254     0.781957      -1.64839   -4.60711   9.7861\n",
       " -1.10729   -0.241688  -0.569063       2.82966   -1.776    -3.0774\n",
       " -1.47538    0.984954  -0.442982     -12.5392    -4.76167  13.9206\n",
       "  0.163708   0.331651   0.112124  …  -17.2079    -3.08114  14.9661\n",
       " -1.19152    1.55745   -0.197922      -2.26214   -2.98113  10.5211\n",
       "  8.05917   -1.13498    1.00452        0.371985  -1.71835  -2.1634\n",
       " 10.7383     4.6254     0.781957      -1.64839   -4.60711   9.7861\n",
       " -1.19152    1.55745   -0.197922      -2.26214   -2.98113  10.5211\n",
       "  8.67224    7.31388    0.349375  …   -0.297379  -2.88436   7.3963"
      ]
     },
     "execution_count": 251,
     "metadata": {},
     "output_type": "execute_result"
    }
   ],
   "source": [
    "(kron(IM, M)*khatri_rao(B, 3))[1:16, :] + (kron(IM, M)*khatri_rao(B, 3))[17:32, :]"
   ]
  },
  {
   "cell_type": "code",
   "execution_count": null,
   "metadata": {},
   "outputs": [],
   "source": []
  },
  {
   "cell_type": "markdown",
   "metadata": {},
   "source": [
    "### More testing"
   ]
  },
  {
   "cell_type": "code",
   "execution_count": null,
   "metadata": {},
   "outputs": [],
   "source": []
  },
  {
   "cell_type": "code",
   "execution_count": 73,
   "metadata": {},
   "outputs": [
    {
     "data": {
      "text/plain": [
       "4×4 Matrix{Float64}:\n",
       "  0.795153   0.188006  -1.47739   -0.477558\n",
       " -0.293978  -0.266215  -0.163437   2.12686\n",
       " -0.182942   1.84974   -0.296851  -0.984526\n",
       "  0.601992  -0.428329  -0.413356  -1.22955"
      ]
     },
     "execution_count": 73,
     "metadata": {},
     "output_type": "execute_result"
    }
   ],
   "source": [
    "A = permutedims(Complex.(L).^(1/4)).*P\n",
    "M = randn(4, 4)"
   ]
  },
  {
   "cell_type": "code",
   "execution_count": 74,
   "metadata": {},
   "outputs": [
    {
     "data": {
      "text/plain": [
       "20×8 Matrix{ComplexF64}:\n",
       "  -2.50006+2.50006im     5.33192+0.0im  -0.0127292+0.0im  …   -0.192927+0.0im\n",
       "   1.94298-1.94298im    -4.57974+0.0im  -0.0751428+0.0im       0.278582+0.0im\n",
       "  0.733118-0.733118im     5.3502+0.0im     -0.0436+0.0im      0.0765176+0.0im\n",
       "  -2.60851+2.60851im     3.29662+0.0im    0.059857+0.0im      -0.291687+0.0im\n",
       "  -1.51004+1.51004im     3.93366-0.0im   -0.443581+0.0im      -0.402265+0.0im\n",
       "  -0.56976+0.56976im    -4.59544+0.0im   -0.257379+0.0im  …   -0.110489+0.0im\n",
       "   2.02727-2.02727im    -2.83156+0.0im    0.353347+0.0im       0.421189-0.0im\n",
       " -0.214979+0.214979im    5.36855+0.0im   -0.149339+0.0im      -0.030348+0.0im\n",
       "   0.76492-0.76492im     3.30793+0.0im    0.205022+0.0im       0.115687-0.0im\n",
       "  -2.72166+2.72166im     2.03824+0.0im   -0.281468+0.0im      -0.441003+0.0im\n",
       "   1.17356-1.17356im    -3.37874+0.0im    -2.61854+0.0im  …    0.580861+0.0im\n",
       "  0.442803-0.442803im    3.94715+0.0im    -1.51935+0.0im       0.159544+0.0im\n",
       "  -1.57554+1.57554im     2.43211+0.0im     2.08587+0.0im      -0.608187+0.0im\n",
       "  0.167076-0.167076im    -4.6112+0.0im   -0.881573+0.0im      0.0438217+0.0im\n",
       " -0.594475+0.594475im   -2.84127+0.0im     1.21028+0.0im       -0.16705+0.0im\n",
       "   2.11521-2.11521im     -1.7507+0.0im    -1.66156+0.0im  …    0.636798-0.0im\n",
       " 0.0630405-0.0630405im   5.38696+0.0im   -0.511514+0.0im      0.0120364+0.0im\n",
       " -0.224305+0.224305im    3.31927+0.0im     0.70224+0.0im     -0.0458832+0.0im\n",
       "    0.7981-0.7981im      2.04523+0.0im   -0.964082+0.0im       0.174908-0.0im\n",
       "  -2.83972+2.83972im      1.2602+0.0im     1.32356+0.0im      -0.666755+0.0im"
      ]
     },
     "execution_count": 74,
     "metadata": {},
     "output_type": "execute_result"
    }
   ],
   "source": [
    "A3 = krDrop(M*A, 3)"
   ]
  },
  {
   "cell_type": "code",
   "execution_count": 79,
   "metadata": {},
   "outputs": [
    {
     "data": {
      "text/plain": [
       "7"
      ]
     },
     "execution_count": 79,
     "metadata": {},
     "output_type": "execute_result"
    }
   ],
   "source": [
    "rank(A3[[2, 5, 6, 7, 13, 15, 16], :])"
   ]
  },
  {
   "cell_type": "code",
   "execution_count": 80,
   "metadata": {},
   "outputs": [
    {
     "data": {
      "text/plain": [
       "3×5 Matrix{Float64}:\n",
       "  0.184735    0.477819  -0.774007   1.52815   -0.41472\n",
       " -0.0633081   1.06724   -0.230193  -0.744804  -0.253023\n",
       " -0.526962   -0.185757   0.473658  -0.477415   0.853702"
      ]
     },
     "execution_count": 80,
     "metadata": {},
     "output_type": "execute_result"
    }
   ],
   "source": [
    "N = randn(3, 5)"
   ]
  },
  {
   "cell_type": "code",
   "execution_count": 82,
   "metadata": {},
   "outputs": [
    {
     "data": {
      "text/plain": [
       "6.6767782908419475"
      ]
     },
     "execution_count": 82,
     "metadata": {},
     "output_type": "execute_result"
    }
   ],
   "source": [
    "tr(N'*N)"
   ]
  },
  {
   "cell_type": "code",
   "execution_count": 89,
   "metadata": {},
   "outputs": [
    {
     "data": {
      "text/plain": [
       "6.6767782908419475"
      ]
     },
     "execution_count": 89,
     "metadata": {},
     "output_type": "execute_result"
    }
   ],
   "source": [
    "sum(norm.(eachrow(N)).^2)"
   ]
  },
  {
   "cell_type": "code",
   "execution_count": null,
   "metadata": {},
   "outputs": [],
   "source": []
  }
 ],
 "metadata": {
  "@webio": {
   "lastCommId": null,
   "lastKernelId": null
  },
  "kernelspec": {
   "display_name": "Julia 1.7.2",
   "language": "julia",
   "name": "julia-1.7"
  },
  "language_info": {
   "file_extension": ".jl",
   "mimetype": "application/julia",
   "name": "julia",
   "version": "1.7.2"
  }
 },
 "nbformat": 4,
 "nbformat_minor": 4
}
